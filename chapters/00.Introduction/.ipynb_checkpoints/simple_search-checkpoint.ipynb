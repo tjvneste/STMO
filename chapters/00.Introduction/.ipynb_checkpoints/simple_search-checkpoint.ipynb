{
 "cells": [
  {
   "cell_type": "code",
   "execution_count": null,
   "metadata": {},
   "outputs": [],
   "source": [
    "using Plots"
   ]
  },
  {
   "cell_type": "markdown",
   "metadata": {},
   "source": [
    "This notebook will cover two straightforward algorithms for approximately minimizing one-dimensional functions: *grid search* and *random search*. Both are used extensively in, for example, machine learning to find optimal hyperparameters. These two algorithms are ideal to get acquainted with the basics of Julia!\n",
    "\n",
    "# Grid search\n",
    "\n",
    "To minimize a one-dimensional function $f(x)$ using grid search in the interval $[a, b]$, we search the interval over $n$ equally-spaced steps and take value that results in the lowest objective value. The larger $n$, the more function evaluations and the better quality the solution will be. Even though grid search being ubiquitously used in machine learning, it is a biased method and often does not yield as good results as the random search. In some cases, it makes sense to search on a logarithmic scale as opposed to a linear scale. \n",
    "\n",
    "Grid search can easily be extended to higher dimensions by extending the grid $a_i\\le x_i \\le b_j$, hence providing upper and lower bounds for every dimension. This approach is also called a *full factorial sampling*. Due to the curse of dimensionality, one has to perform exponentially more function evaluations to cover the search space. \n",
    "\n",
    "# Random search\n",
    "\n",
    "To minimize a one-dimensional function $f(x)$ using random search, we generate $n$ random values of $x$ in the interval $[a, b]$ and take the one with the lowest objective value. Clever algorithms use other samplings than uniform, driving the search towards particular regions of the search space. Random search can easily be extended to higher dimensions.\n",
    "\n",
    "# Exercises\n",
    "\n",
    "We will explore both methods using the [Ackley alpine function](https://en.wikipedia.org/wiki/Ackley_function). We will search between the interval $[-π, π]$. The true minimizer is $x^\\star=0$"
   ]
  },
  {
   "cell_type": "code",
   "execution_count": null,
   "metadata": {},
   "outputs": [],
   "source": [
    "using STMO.TestFuns: ackley\n",
    "\n",
    "ackley(1.0)  # scalar version\n",
    "ackley([1.0, -1.0])  # optional 2D version\n",
    "\n",
    "plot(ackley, -pi, pi, label=\"Ackley\")"
   ]
  },
  {
   "cell_type": "markdown",
   "metadata": {},
   "source": [
    "**Assignments**\n",
    "1. Complete the code `grid_search` and use it to minimize the Ackley function using 10 and 50 function evaluations. (hint: use `:` to generate a grid, e.g. `0:0.1:10`)\n",
    "2. Complete the code `random_search` and use it to minimize the Ackley function using 50 function evaluations. (hint `rand()` generates an uniform random number in $[0,1]$.\n",
    "3. Compare the solutions.\n",
    "4. Compare their running time using the `@time` macro.\n",
    "5. Plot the quality of your solution using the two algorithms as a function of the number of evaluations (use $n=10, 50, 100, 500, 1000, 5000$ or so). \n",
    "6. (optional programming exercise) Extend the functions so that you can perform a higher-dimensional search. E.g., `grid_search(Ackley, (-pi, pi), (-pi, pi))` would search in two dimensions.\n",
    "7. (optional exercise) Use dispatch such that there are two versions for grid search, i.e., `grid_search(f, (a, b); n=10)` works as before, but the second method `grid_search(f, grid::Vector)` recognizes that the grid is already given.\n",
    "\n",
    "Can you see why I suggested the interval $[-π, π]$? I have been sneaky in question 5..."
   ]
  },
  {
   "cell_type": "code",
   "execution_count": null,
   "metadata": {},
   "outputs": [],
   "source": [
    "\"\"\"\n",
    "    grid_search(f, (a, b); n=10)\n",
    "\n",
    "Performs a grid search in [`a`, `b`] on `f` with a grid of size `n`.\n",
    "Returns the best found value of `x`.\n",
    "\"\"\"\n",
    "function grid_search(f, (a, b); n=10)\n",
    "    @assert a < b \"Not a valid interval!\"\n",
    "    ... # you can do it!\n",
    "end"
   ]
  },
  {
   "cell_type": "code",
   "execution_count": null,
   "metadata": {},
   "outputs": [],
   "source": [
    "\"\"\"\n",
    "    random_search(f, (a, b); n=10)\n",
    "\n",
    "Performs a randoom search in [`a`, `b`] on `f` using `n` samples.\n",
    "Returns the best found value of `x`.\n",
    "\"\"\"\n",
    "function random_search(f, (a, b); n=10)\n",
    "    @assert a < b \"Not a valid interval!\"\n",
    "    ... # I believe in you!\n",
    "end"
   ]
  }
 ],
 "metadata": {
  "kernelspec": {
   "display_name": "Julia 1.5.2",
   "language": "julia",
   "name": "julia-1.5"
  },
  "language_info": {
   "file_extension": ".jl",
   "mimetype": "application/julia",
   "name": "julia",
   "version": "1.5.2"
  }
 },
 "nbformat": 4,
 "nbformat_minor": 2
}
