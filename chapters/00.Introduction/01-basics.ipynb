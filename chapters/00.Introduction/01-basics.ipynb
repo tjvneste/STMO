{
 "cells": [
  {
   "cell_type": "markdown",
   "metadata": {},
   "source": [
    "# Basic computing\n",
    "Let's get started with the basics. Some mathematical operations,"
   ]
  },
  {
   "cell_type": "code",
   "execution_count": 1,
   "metadata": {},
   "outputs": [
    {
     "data": {
      "text/plain": [
       "3"
      ]
     },
     "execution_count": 1,
     "metadata": {},
     "output_type": "execute_result"
    }
   ],
   "source": [
    "1 + 2       # adding integers"
   ]
  },
  {
   "cell_type": "code",
   "execution_count": 2,
   "metadata": {},
   "outputs": [
    {
     "data": {
      "text/plain": [
       "3.0"
      ]
     },
     "execution_count": 2,
     "metadata": {},
     "output_type": "execute_result"
    }
   ],
   "source": [
    "1.0 + 2.0   # adding floats"
   ]
  },
  {
   "cell_type": "code",
   "execution_count": 3,
   "metadata": {},
   "outputs": [
    {
     "data": {
      "text/plain": [
       "0.5"
      ]
     },
     "execution_count": 3,
     "metadata": {},
     "output_type": "execute_result"
    }
   ],
   "source": [
    "2 / 4       # standard division"
   ]
  },
  {
   "cell_type": "code",
   "execution_count": 4,
   "metadata": {},
   "outputs": [
    {
     "data": {
      "text/plain": [
       "0"
      ]
     },
     "execution_count": 4,
     "metadata": {},
     "output_type": "execute_result"
    }
   ],
   "source": [
    "div(2, 4)   # Computes 2/4 truncated to an integer\n",
    "2 ÷ 4"
   ]
  },
  {
   "cell_type": "code",
   "execution_count": 5,
   "metadata": {},
   "outputs": [
    {
     "data": {
      "text/plain": [
       "1"
      ]
     },
     "execution_count": 5,
     "metadata": {},
     "output_type": "execute_result"
    }
   ],
   "source": [
    "7 % 3       # get the remainder of the integer division"
   ]
  },
  {
   "cell_type": "code",
   "execution_count": 6,
   "metadata": {},
   "outputs": [
    {
     "data": {
      "text/plain": [
       "0.2"
      ]
     },
     "execution_count": 6,
     "metadata": {},
     "output_type": "execute_result"
    }
   ],
   "source": [
    "35 \\ 7      # inverse division"
   ]
  },
  {
   "cell_type": "code",
   "execution_count": 7,
   "metadata": {},
   "outputs": [
    {
     "data": {
      "text/plain": [
       "1//3"
      ]
     },
     "execution_count": 7,
     "metadata": {},
     "output_type": "execute_result"
    }
   ],
   "source": [
    "1 // 3      # fractions"
   ]
  },
  {
   "cell_type": "code",
   "execution_count": 8,
   "metadata": {},
   "outputs": [
    {
     "data": {
      "text/plain": [
       "3//4"
      ]
     },
     "execution_count": 8,
     "metadata": {},
     "output_type": "execute_result"
    }
   ],
   "source": [
    "1//2 + 1//4"
   ]
  },
  {
   "cell_type": "code",
   "execution_count": 9,
   "metadata": {},
   "outputs": [
    {
     "data": {
      "text/plain": [
       "'c': ASCII/Unicode U+0063 (category Ll: Letter, lowercase)"
      ]
     },
     "execution_count": 9,
     "metadata": {},
     "output_type": "execute_result"
    }
   ],
   "source": [
    "'c'        # characters (unicode)"
   ]
  },
  {
   "cell_type": "code",
   "execution_count": 10,
   "metadata": {},
   "outputs": [
    {
     "data": {
      "text/plain": [
       ":symbol"
      ]
     },
     "execution_count": 10,
     "metadata": {},
     "output_type": "execute_result"
    }
   ],
   "source": [
    ":symbol    # symbols, mostly used for macros"
   ]
  },
  {
   "cell_type": "markdown",
   "metadata": {},
   "source": [
    "variable assignment,"
   ]
  },
  {
   "cell_type": "code",
   "execution_count": 11,
   "metadata": {},
   "outputs": [
    {
     "data": {
      "text/plain": [
       "2"
      ]
     },
     "execution_count": 11,
     "metadata": {},
     "output_type": "execute_result"
    }
   ],
   "source": [
    "x = 2"
   ]
  },
  {
   "cell_type": "code",
   "execution_count": 12,
   "metadata": {},
   "outputs": [
    {
     "data": {
      "text/plain": [
       "0.02702702702702703"
      ]
     },
     "execution_count": 12,
     "metadata": {},
     "output_type": "execute_result"
    }
   ],
   "source": [
    "τ = 1 / 37  # unicode variable names are allowed"
   ]
  },
  {
   "cell_type": "markdown",
   "metadata": {},
   "source": [
    "unicode! In most Julia editing environments, unicode math symbols can be typed when starting with a '\\\\' and hitting [TAB]."
   ]
  },
  {
   "cell_type": "code",
   "execution_count": 13,
   "metadata": {},
   "outputs": [
    {
     "ename": "LoadError",
     "evalue": "UndefVarError: α not defined",
     "output_type": "error",
     "traceback": [
      "UndefVarError: α not defined",
      "",
      "Stacktrace:",
      " [1] top-level scope",
      " [2] include_string(::Function, ::Module, ::String, ::String) at ./loading.jl:1091"
     ]
    }
   ],
   "source": [
    "# type \\alpha  and <TAB>\n",
    "α"
   ]
  },
  {
   "cell_type": "markdown",
   "metadata": {},
   "source": [
    "Operators are overrated."
   ]
  },
  {
   "cell_type": "code",
   "execution_count": 17,
   "metadata": {},
   "outputs": [
    {
     "data": {
      "text/plain": [
       "10"
      ]
     },
     "execution_count": 17,
     "metadata": {},
     "output_type": "execute_result"
    }
   ],
   "source": [
    "5x      # This works"
   ]
  },
  {
   "cell_type": "markdown",
   "metadata": {},
   "source": [
    "But strings are quite essential,"
   ]
  },
  {
   "cell_type": "code",
   "execution_count": 18,
   "metadata": {},
   "outputs": [
    {
     "data": {
      "text/plain": [
       "\"life, the universe and everything\""
      ]
     },
     "execution_count": 18,
     "metadata": {},
     "output_type": "execute_result"
    }
   ],
   "source": [
    "mystery = \"life, the universe and everything\""
   ]
  },
  {
   "cell_type": "markdown",
   "metadata": {},
   "source": [
    "and string interpolation is performed with `$`."
   ]
  },
  {
   "cell_type": "code",
   "execution_count": 19,
   "metadata": {},
   "outputs": [
    {
     "name": "stdout",
     "output_type": "stream",
     "text": [
      "The answer to life, the universe and everything is 42\n"
     ]
    }
   ],
   "source": [
    "println(\"The answer to $mystery is $(3*2*7)\")"
   ]
  },
  {
   "cell_type": "markdown",
   "metadata": {},
   "source": [
    "repetitions of strings can be done using the operators `*` and `^`.\n",
    "This use of `*` and `^` makes sense by analogy with multiplication and exponentiation. Just as `4^3` is equivalent to `4*4*4`, we expect `\"Spam\"^3` to be the same as `\"Spam\"*\"Spam\"*\"Spam\"`, and it is."
   ]
  },
  {
   "cell_type": "code",
   "execution_count": 20,
   "metadata": {},
   "outputs": [
    {
     "name": "stdout",
     "output_type": "stream",
     "text": [
      "eggsSPAM\n",
      "eggsSPAMSPAMSPAMeggs\n"
     ]
    }
   ],
   "source": [
    "breakfast = \"eggs\"\n",
    "abetterbreakfast = \"SPAM\"\n",
    "println(breakfast * abetterbreakfast)\n",
    "println(breakfast * abetterbreakfast^3 * breakfast)"
   ]
  },
  {
   "cell_type": "markdown",
   "metadata": {},
   "source": [
    "Lots of handy ´String`-operations are available in the standard library of Julia:"
   ]
  },
  {
   "cell_type": "code",
   "execution_count": 21,
   "metadata": {},
   "outputs": [
    {
     "data": {
      "text/plain": [
       "\"THIS FEELS LIKE SHOUTING.\""
      ]
     },
     "execution_count": 21,
     "metadata": {},
     "output_type": "execute_result"
    }
   ],
   "source": [
    "uppercase(\"This feels like shouting.\")"
   ]
  },
  {
   "cell_type": "code",
   "execution_count": 22,
   "metadata": {},
   "outputs": [
    {
     "data": {
      "text/plain": [
       "2:2"
      ]
     },
     "execution_count": 22,
     "metadata": {},
     "output_type": "execute_result"
    }
   ],
   "source": [
    "findfirst(\"a\", \"banana\")"
   ]
  },
  {
   "cell_type": "code",
   "execution_count": 23,
   "metadata": {},
   "outputs": [
    {
     "data": {
      "text/plain": [
       "3:4"
      ]
     },
     "execution_count": 23,
     "metadata": {},
     "output_type": "execute_result"
    }
   ],
   "source": [
    "findfirst(\"na\", \"banana\")"
   ]
  },
  {
   "cell_type": "code",
   "execution_count": 24,
   "metadata": {},
   "outputs": [
    {
     "data": {
      "text/plain": [
       "5:6"
      ]
     },
     "execution_count": 24,
     "metadata": {},
     "output_type": "execute_result"
    }
   ],
   "source": [
    "findnext(\"na\", \"banana\", 4)"
   ]
  },
  {
   "cell_type": "markdown",
   "metadata": {},
   "source": [
    "Unlike `Strings´, a `Char` value represents a single character and is surrounded by single quotes."
   ]
  },
  {
   "cell_type": "code",
   "execution_count": 25,
   "metadata": {},
   "outputs": [
    {
     "data": {
      "text/plain": [
       "'x': ASCII/Unicode U+0078 (category Ll: Letter, lowercase)"
      ]
     },
     "execution_count": 25,
     "metadata": {},
     "output_type": "execute_result"
    }
   ],
   "source": [
    "'x'"
   ]
  },
  {
   "cell_type": "markdown",
   "metadata": {},
   "source": [
    "The operator `∈` (\\in TAB) is a boolean operator that takes a character and a string and returns true if the first appears in the second:"
   ]
  },
  {
   "cell_type": "code",
   "execution_count": 33,
   "metadata": {},
   "outputs": [
    {
     "name": "stdout",
     "output_type": "stream",
     "text": [
      "false\n"
     ]
    },
    {
     "data": {
      "text/plain": [
       "true"
      ]
     },
     "execution_count": 33,
     "metadata": {},
     "output_type": "execute_result"
    }
   ],
   "source": [
    "println('d' ∈ \"banana\")\n",
    "'a' ∈ \"banana\""
   ]
  },
  {
   "cell_type": "markdown",
   "metadata": {},
   "source": [
    "> **Question**: Check the behaviour of the relational operators on strings."
   ]
  },
  {
   "cell_type": "code",
   "execution_count": 34,
   "metadata": {},
   "outputs": [
    {
     "data": {
      "text/plain": [
       "false"
      ]
     },
     "execution_count": 34,
     "metadata": {},
     "output_type": "execute_result"
    }
   ],
   "source": [
    "\"apples\" == \"pears\""
   ]
  },
  {
   "cell_type": "code",
   "execution_count": 35,
   "metadata": {},
   "outputs": [
    {
     "data": {
      "text/plain": [
       "true"
      ]
     },
     "execution_count": 35,
     "metadata": {},
     "output_type": "execute_result"
    }
   ],
   "source": [
    "\"apples\" < \"pears\""
   ]
  },
  {
   "cell_type": "code",
   "execution_count": 36,
   "metadata": {},
   "outputs": [
    {
     "data": {
      "text/plain": [
       "false"
      ]
     },
     "execution_count": 36,
     "metadata": {},
     "output_type": "execute_result"
    }
   ],
   "source": [
    "\"apples\" < \"Pears\""
   ]
  },
  {
   "cell_type": "markdown",
   "metadata": {},
   "source": [
    "All binary arithmetic and bitwise operators have an updating version that assigns the result of the operation back into the left operand. The updating version of the binary operator is formed by placing a, `=`, immediately after the operator."
   ]
  },
  {
   "cell_type": "code",
   "execution_count": 42,
   "metadata": {},
   "outputs": [
    {
     "data": {
      "text/plain": [
       "10"
      ]
     },
     "execution_count": 42,
     "metadata": {},
     "output_type": "execute_result"
    }
   ],
   "source": [
    "x += 2  # inplace update of x\n",
    "x += 2  # inplace update of x"
   ]
  },
  {
   "cell_type": "markdown",
   "metadata": {},
   "source": [
    "Similarly to Matlab, when using the REPL, Julia will print the result of every statement by default. To suppress this behavious, just end the statement with a semicolon."
   ]
  },
  {
   "cell_type": "code",
   "execution_count": 43,
   "metadata": {},
   "outputs": [
    {
     "data": {
      "text/plain": [
       "10"
      ]
     },
     "execution_count": 43,
     "metadata": {},
     "output_type": "execute_result"
    }
   ],
   "source": [
    "x"
   ]
  },
  {
   "cell_type": "code",
   "execution_count": 40,
   "metadata": {},
   "outputs": [],
   "source": [
    "a = 10;  # not printed"
   ]
  },
  {
   "cell_type": "code",
   "execution_count": 41,
   "metadata": {},
   "outputs": [
    {
     "data": {
      "text/plain": [
       "20"
      ]
     },
     "execution_count": 41,
     "metadata": {},
     "output_type": "execute_result"
    }
   ],
   "source": [
    "a = 20"
   ]
  },
  {
   "cell_type": "markdown",
   "metadata": {},
   "source": [
    "# Boolean operators\n",
    "From zero to one."
   ]
  },
  {
   "cell_type": "code",
   "execution_count": 44,
   "metadata": {},
   "outputs": [
    {
     "data": {
      "text/plain": [
       "false"
      ]
     },
     "execution_count": 44,
     "metadata": {},
     "output_type": "execute_result"
    }
   ],
   "source": [
    "# Boolean operators\n",
    "!true"
   ]
  },
  {
   "cell_type": "code",
   "execution_count": 45,
   "metadata": {},
   "outputs": [
    {
     "data": {
      "text/plain": [
       "true"
      ]
     },
     "execution_count": 45,
     "metadata": {},
     "output_type": "execute_result"
    }
   ],
   "source": [
    "!false"
   ]
  },
  {
   "cell_type": "code",
   "execution_count": 46,
   "metadata": {},
   "outputs": [
    {
     "data": {
      "text/plain": [
       "true"
      ]
     },
     "execution_count": 46,
     "metadata": {},
     "output_type": "execute_result"
    }
   ],
   "source": [
    "1 == 1"
   ]
  },
  {
   "cell_type": "code",
   "execution_count": 47,
   "metadata": {},
   "outputs": [
    {
     "data": {
      "text/plain": [
       "false"
      ]
     },
     "execution_count": 47,
     "metadata": {},
     "output_type": "execute_result"
    }
   ],
   "source": [
    "2 == 1"
   ]
  },
  {
   "cell_type": "code",
   "execution_count": 48,
   "metadata": {},
   "outputs": [
    {
     "data": {
      "text/plain": [
       "false"
      ]
     },
     "execution_count": 48,
     "metadata": {},
     "output_type": "execute_result"
    }
   ],
   "source": [
    "1 != 1"
   ]
  },
  {
   "cell_type": "code",
   "execution_count": 49,
   "metadata": {},
   "outputs": [
    {
     "data": {
      "text/plain": [
       "true"
      ]
     },
     "execution_count": 49,
     "metadata": {},
     "output_type": "execute_result"
    }
   ],
   "source": [
    "2 != 1"
   ]
  },
  {
   "cell_type": "code",
   "execution_count": 50,
   "metadata": {},
   "outputs": [
    {
     "data": {
      "text/plain": [
       "true"
      ]
     },
     "execution_count": 50,
     "metadata": {},
     "output_type": "execute_result"
    }
   ],
   "source": [
    "1 < 10"
   ]
  },
  {
   "cell_type": "code",
   "execution_count": 51,
   "metadata": {},
   "outputs": [
    {
     "data": {
      "text/plain": [
       "false"
      ]
     },
     "execution_count": 51,
     "metadata": {},
     "output_type": "execute_result"
    }
   ],
   "source": [
    "1 > 10"
   ]
  },
  {
   "cell_type": "code",
   "execution_count": 52,
   "metadata": {},
   "outputs": [
    {
     "data": {
      "text/plain": [
       "true"
      ]
     },
     "execution_count": 52,
     "metadata": {},
     "output_type": "execute_result"
    }
   ],
   "source": [
    "2 <= 2"
   ]
  },
  {
   "cell_type": "code",
   "execution_count": 53,
   "metadata": {},
   "outputs": [
    {
     "data": {
      "text/plain": [
       "true"
      ]
     },
     "execution_count": 53,
     "metadata": {},
     "output_type": "execute_result"
    }
   ],
   "source": [
    "2 >= 2"
   ]
  },
  {
   "cell_type": "code",
   "execution_count": 54,
   "metadata": {},
   "outputs": [
    {
     "data": {
      "text/plain": [
       "true"
      ]
     },
     "execution_count": 54,
     "metadata": {},
     "output_type": "execute_result"
    }
   ],
   "source": [
    "# Comparisons can be chained\n",
    "1 < 2 < 3"
   ]
  },
  {
   "cell_type": "code",
   "execution_count": 55,
   "metadata": {},
   "outputs": [
    {
     "data": {
      "text/plain": [
       "false"
      ]
     },
     "execution_count": 55,
     "metadata": {},
     "output_type": "execute_result"
    }
   ],
   "source": [
    "2 < 3 < 2"
   ]
  },
  {
   "cell_type": "code",
   "execution_count": 57,
   "metadata": {},
   "outputs": [
    {
     "data": {
      "text/plain": [
       "true"
      ]
     },
     "execution_count": 57,
     "metadata": {},
     "output_type": "execute_result"
    }
   ],
   "source": [
    "# Logical operators\n",
    "true && true\n",
    "true || false"
   ]
  },
  {
   "cell_type": "markdown",
   "metadata": {},
   "source": [
    "Likewise, we have the Boolean logic operators `&&` (AND), `||` (OR) and `⊻` (XOR, exclusive or)."
   ]
  },
  {
   "cell_type": "code",
   "execution_count": 58,
   "metadata": {},
   "outputs": [
    {
     "data": {
      "text/plain": [
       "true"
      ]
     },
     "execution_count": 58,
     "metadata": {},
     "output_type": "execute_result"
    }
   ],
   "source": [
    "true && true"
   ]
  },
  {
   "cell_type": "code",
   "execution_count": 59,
   "metadata": {},
   "outputs": [
    {
     "data": {
      "text/plain": [
       "false"
      ]
     },
     "execution_count": 59,
     "metadata": {},
     "output_type": "execute_result"
    }
   ],
   "source": [
    "true && false"
   ]
  },
  {
   "cell_type": "code",
   "execution_count": 60,
   "metadata": {},
   "outputs": [
    {
     "data": {
      "text/plain": [
       "true"
      ]
     },
     "execution_count": 60,
     "metadata": {},
     "output_type": "execute_result"
    }
   ],
   "source": [
    "true || false"
   ]
  },
  {
   "cell_type": "code",
   "execution_count": 61,
   "metadata": {},
   "outputs": [
    {
     "data": {
      "text/plain": [
       "false"
      ]
     },
     "execution_count": 61,
     "metadata": {},
     "output_type": "execute_result"
    }
   ],
   "source": [
    "false || false"
   ]
  },
  {
   "cell_type": "code",
   "execution_count": 62,
   "metadata": {},
   "outputs": [
    {
     "data": {
      "text/plain": [
       "true"
      ]
     },
     "execution_count": 62,
     "metadata": {},
     "output_type": "execute_result"
    }
   ],
   "source": [
    "true ⊻ false"
   ]
  },
  {
   "cell_type": "code",
   "execution_count": 63,
   "metadata": {},
   "outputs": [
    {
     "data": {
      "text/plain": [
       "false"
      ]
     },
     "execution_count": 63,
     "metadata": {},
     "output_type": "execute_result"
    }
   ],
   "source": [
    "true ⊻ true"
   ]
  },
  {
   "cell_type": "markdown",
   "metadata": {},
   "source": [
    "> **Question**: predict the outcomes of the following statements."
   ]
  },
  {
   "cell_type": "code",
   "execution_count": 64,
   "metadata": {},
   "outputs": [
    {
     "data": {
      "text/plain": [
       "true"
      ]
     },
     "execution_count": 64,
     "metadata": {},
     "output_type": "execute_result"
    }
   ],
   "source": [
    "x, y = true, false\n",
    "\n",
    "(x || y) && !(y || y)"
   ]
  },
  {
   "cell_type": "code",
   "execution_count": 65,
   "metadata": {},
   "outputs": [
    {
     "data": {
      "text/plain": [
       "true"
      ]
     },
     "execution_count": 65,
     "metadata": {},
     "output_type": "execute_result"
    }
   ],
   "source": [
    "(x ⊻ y) && (!x ⊻ !y)"
   ]
  },
  {
   "cell_type": "code",
   "execution_count": 66,
   "metadata": {},
   "outputs": [
    {
     "data": {
      "text/plain": [
       "true"
      ]
     },
     "execution_count": 66,
     "metadata": {},
     "output_type": "execute_result"
    }
   ],
   "source": [
    "(x || y) ⊻ (x && y)"
   ]
  },
  {
   "cell_type": "markdown",
   "metadata": {},
   "source": [
    "# Control flow\n",
    "The `if`, `else`, `elseif`-statement is instrumental to any programming language,"
   ]
  },
  {
   "cell_type": "code",
   "execution_count": 67,
   "metadata": {},
   "outputs": [
    {
     "name": "stdout",
     "output_type": "stream",
     "text": [
      "A\n"
     ]
    }
   ],
   "source": [
    "if 4 > 3\n",
    "  println(\"A\")\n",
    "elseif 3 > 4\n",
    "  println(\"B\")\n",
    "else\n",
    "  println(\"C\")\n",
    "end"
   ]
  },
  {
   "cell_type": "markdown",
   "metadata": {},
   "source": [
    "Julia allows for some very condense control flow structures."
   ]
  },
  {
   "cell_type": "code",
   "execution_count": 72,
   "metadata": {},
   "outputs": [
    {
     "ename": "LoadError",
     "evalue": "UndefVarError: condition not defined",
     "output_type": "error",
     "traceback": [
      "UndefVarError: condition not defined",
      "",
      "Stacktrace:",
      " [1] top-level scope at In[72]:1",
      " [2] include_string(::Function, ::Module, ::String, ::String) at ./loading.jl:1091"
     ]
    }
   ],
   "source": [
    "y = condition ? valueiftrue : valueiffalse"
   ]
  },
  {
   "cell_type": "markdown",
   "metadata": {},
   "source": [
    "> **Assignment** Complete the clip function: $\\max(0, \\min(1, x))$ for a given $x$, without making use of the functions `min` and `max`."
   ]
  },
  {
   "cell_type": "code",
   "execution_count": 71,
   "metadata": {},
   "outputs": [
    {
     "ename": "LoadError",
     "evalue": "syntax: invalid identifier name \"...\"",
     "output_type": "error",
     "traceback": [
      "syntax: invalid identifier name \"...\"",
      "",
      "Stacktrace:",
      " [1] top-level scope at In[71]:3",
      " [2] include_string(::Function, ::Module, ::String, ::String) at ./loading.jl:1091"
     ]
    }
   ],
   "source": [
    "x = 2.0\n",
    "\n",
    "clip(x) = ..."
   ]
  },
  {
   "cell_type": "markdown",
   "metadata": {},
   "source": [
    "# Looping"
   ]
  },
  {
   "cell_type": "code",
   "execution_count": 73,
   "metadata": {},
   "outputs": [
    {
     "name": "stdout",
     "output_type": "stream",
     "text": [
      "Character Harry\n",
      "Character Ron\n",
      "Character Hermione\n",
      "1. Harry\n",
      "2. Ron\n",
      "3. Hermione\n",
      "Harry has Hedwig as a pet\n",
      "Ron has Pig as a pet\n",
      "Hermione has Crookhanks as a pet\n"
     ]
    }
   ],
   "source": [
    "characters = [\"Harry\", \"Ron\", \"Hermione\"]\n",
    "\n",
    "for char in characters\n",
    "  println(\"Character $char\")\n",
    "end\n",
    "\n",
    "for (i, char) in enumerate(characters)\n",
    "  println(\"$i. $char\")\n",
    "end\n",
    "\n",
    "pets = [\"Hedwig\", \"Pig\", \"Crookhanks\"]\n",
    "\n",
    "for (char, pet) in zip(characters, pets)\n",
    "  println(\"$char has $pet as a pet\")\n",
    "end"
   ]
  },
  {
   "cell_type": "markdown",
   "metadata": {},
   "source": [
    "Strings can also be looped"
   ]
  },
  {
   "cell_type": "code",
   "execution_count": 74,
   "metadata": {},
   "outputs": [
    {
     "name": "stdout",
     "output_type": "stream",
     "text": [
      "a\n",
      " \n",
      "s\n",
      "h\n",
      "r\n",
      "u\n",
      "b\n",
      "b\n",
      "e\n",
      "r\n",
      "y\n"
     ]
    }
   ],
   "source": [
    "getme = \"a shrubbery\"\n",
    "\n",
    "for letter ∈ getme\n",
    "  println(\"$letter\")\n",
    "end"
   ]
  },
  {
   "cell_type": "code",
   "execution_count": 78,
   "metadata": {},
   "outputs": [
    {
     "name": "stdout",
     "output_type": "stream",
     "text": [
      "1675767616\n",
      "837883808\n",
      "418941904\n",
      "209470952\n",
      "104735476\n",
      "52367738\n",
      "26183869\n",
      "78551608\n",
      "39275804\n",
      "19637902\n",
      "9818951\n",
      "29456854\n",
      "14728427\n",
      "44185282\n",
      "22092641\n",
      "66277924\n",
      "33138962\n",
      "16569481\n",
      "49708444\n",
      "24854222\n",
      "12427111\n",
      "37281334\n",
      "18640667\n",
      "55922002\n",
      "27961001\n",
      "83883004\n",
      "41941502\n",
      "20970751\n",
      "62912254\n",
      "31456127\n",
      "94368382\n",
      "47184191\n",
      "141552574\n",
      "70776287\n",
      "212328862\n",
      "106164431\n",
      "318493294\n",
      "159246647\n",
      "477739942\n",
      "238869971\n",
      "716609914\n",
      "358304957\n",
      "1074914872\n",
      "537457436\n",
      "268728718\n",
      "134364359\n",
      "403093078\n",
      "201546539\n",
      "604639618\n",
      "302319809\n",
      "906959428\n",
      "453479714\n",
      "226739857\n",
      "680219572\n",
      "340109786\n",
      "170054893\n",
      "510164680\n",
      "255082340\n",
      "127541170\n",
      "63770585\n",
      "191311756\n",
      "95655878\n",
      "47827939\n",
      "143483818\n",
      "71741909\n",
      "215225728\n",
      "107612864\n",
      "53806432\n",
      "26903216\n",
      "13451608\n",
      "6725804\n",
      "3362902\n",
      "1681451\n",
      "5044354\n",
      "2522177\n",
      "7566532\n",
      "3783266\n",
      "1891633\n",
      "5674900\n",
      "2837450\n",
      "1418725\n",
      "4256176\n",
      "2128088\n",
      "1064044\n",
      "532022\n",
      "266011\n",
      "798034\n",
      "399017\n",
      "1197052\n",
      "598526\n",
      "299263\n",
      "897790\n",
      "448895\n",
      "1346686\n",
      "673343\n",
      "2020030\n",
      "1010015\n",
      "3030046\n",
      "1515023\n",
      "4545070\n",
      "2272535\n",
      "6817606\n",
      "3408803\n",
      "10226410\n",
      "5113205\n",
      "15339616\n",
      "7669808\n",
      "3834904\n",
      "1917452\n",
      "958726\n",
      "479363\n",
      "1438090\n",
      "719045\n",
      "2157136\n",
      "1078568\n",
      "539284\n",
      "269642\n",
      "134821\n",
      "404464\n",
      "202232\n",
      "101116\n",
      "50558\n",
      "25279\n",
      "75838\n",
      "37919\n",
      "113758\n",
      "56879\n",
      "170638\n",
      "85319\n",
      "255958\n",
      "127979\n",
      "383938\n",
      "191969\n",
      "575908\n",
      "287954\n",
      "143977\n",
      "431932\n",
      "215966\n",
      "107983\n",
      "323950\n",
      "161975\n",
      "485926\n",
      "242963\n",
      "728890\n",
      "364445\n",
      "1093336\n",
      "546668\n",
      "273334\n",
      "136667\n",
      "410002\n",
      "205001\n",
      "615004\n",
      "307502\n",
      "153751\n",
      "461254\n",
      "230627\n",
      "691882\n",
      "345941\n",
      "1037824\n",
      "518912\n",
      "259456\n",
      "129728\n",
      "64864\n",
      "32432\n",
      "16216\n",
      "8108\n",
      "4054\n",
      "2027\n",
      "6082\n",
      "3041\n",
      "9124\n",
      "4562\n",
      "2281\n",
      "6844\n",
      "3422\n",
      "1711\n",
      "5134\n",
      "2567\n",
      "7702\n",
      "3851\n",
      "11554\n",
      "5777\n",
      "17332\n",
      "8666\n",
      "4333\n",
      "13000\n",
      "6500\n",
      "3250\n",
      "1625\n",
      "4876\n",
      "2438\n",
      "1219\n",
      "3658\n",
      "1829\n",
      "5488\n",
      "2744\n",
      "1372\n",
      "686\n",
      "343\n",
      "1030\n",
      "515\n",
      "1546\n",
      "773\n",
      "2320\n",
      "1160\n",
      "580\n",
      "290\n",
      "145\n",
      "436\n",
      "218\n",
      "109\n",
      "328\n",
      "164\n",
      "82\n",
      "41\n",
      "124\n",
      "62\n",
      "31\n",
      "94\n",
      "47\n",
      "142\n",
      "71\n",
      "214\n",
      "107\n",
      "322\n",
      "161\n",
      "484\n",
      "242\n",
      "121\n",
      "364\n",
      "182\n",
      "91\n",
      "274\n",
      "137\n",
      "412\n",
      "206\n",
      "103\n",
      "310\n",
      "155\n",
      "466\n",
      "233\n",
      "700\n",
      "350\n",
      "175\n",
      "526\n",
      "263\n",
      "790\n",
      "395\n",
      "1186\n",
      "593\n",
      "1780\n",
      "890\n",
      "445\n",
      "1336\n",
      "668\n",
      "334\n",
      "167\n",
      "502\n",
      "251\n",
      "754\n",
      "377\n",
      "1132\n",
      "566\n",
      "283\n",
      "850\n",
      "425\n",
      "1276\n",
      "638\n",
      "319\n",
      "958\n",
      "479\n",
      "1438\n",
      "719\n",
      "2158\n",
      "1079\n",
      "3238\n",
      "1619\n",
      "4858\n",
      "2429\n",
      "7288\n",
      "3644\n",
      "1822\n",
      "911\n",
      "2734\n",
      "1367\n",
      "4102\n",
      "2051\n",
      "6154\n",
      "3077\n",
      "9232\n",
      "4616\n",
      "2308\n",
      "1154\n",
      "577\n",
      "1732\n",
      "866\n",
      "433\n",
      "1300\n",
      "650\n",
      "325\n",
      "976\n",
      "488\n",
      "244\n",
      "122\n",
      "61\n",
      "184\n",
      "92\n",
      "46\n",
      "23\n",
      "70\n",
      "35\n",
      "106\n",
      "53\n",
      "160\n",
      "80\n",
      "40\n",
      "20\n",
      "10\n",
      "5\n",
      "16\n",
      "8\n",
      "4\n",
      "2\n"
     ]
    }
   ],
   "source": [
    "n = 1675767616;\n",
    "\n",
    "while n > 1\n",
    "  println(n)\n",
    "  if n % 2 == 0\n",
    "    global n = div(n, 2)\n",
    "  else\n",
    "    global n = 3n + 1\n",
    "  end\n",
    "end"
   ]
  },
  {
   "cell_type": "markdown",
   "metadata": {},
   "source": [
    "(Note: [they got closer to cracking this one](https://www.quantamagazine.org/mathematician-terence-tao-and-the-collatz-conjecture-20191211/?mc_cid=a3adbffb9f&mc_eid=41ed2fca13).)\n",
    "\n",
    "# Functions\n",
    "Julia puts the fun in functions. User-defined functions can be declared as follows,"
   ]
  },
  {
   "cell_type": "code",
   "execution_count": 79,
   "metadata": {},
   "outputs": [
    {
     "data": {
      "text/plain": [
       "square (generic function with 1 method)"
      ]
     },
     "execution_count": 79,
     "metadata": {},
     "output_type": "execute_result"
    }
   ],
   "source": [
    "function square(x)\n",
    "  result = x * x\n",
    "  return result\n",
    "end"
   ]
  },
  {
   "cell_type": "code",
   "execution_count": 80,
   "metadata": {},
   "outputs": [
    {
     "data": {
      "text/plain": [
       "4"
      ]
     },
     "execution_count": 80,
     "metadata": {},
     "output_type": "execute_result"
    }
   ],
   "source": [
    "square(2)"
   ]
  },
  {
   "cell_type": "code",
   "execution_count": 81,
   "metadata": {},
   "outputs": [
    {
     "data": {
      "text/plain": [
       "4.0"
      ]
     },
     "execution_count": 81,
     "metadata": {},
     "output_type": "execute_result"
    }
   ],
   "source": [
    "square(2.0)"
   ]
  },
  {
   "cell_type": "code",
   "execution_count": 82,
   "metadata": {},
   "outputs": [
    {
     "data": {
      "text/plain": [
       "\"nini\""
      ]
     },
     "execution_count": 82,
     "metadata": {},
     "output_type": "execute_result"
    }
   ],
   "source": [
    "square(\"ni\")   # the multiplication of strings is defined as a concatenation"
   ]
  },
  {
   "cell_type": "markdown",
   "metadata": {},
   "source": [
    "A more condensed version of of `square(x)`."
   ]
  },
  {
   "cell_type": "code",
   "execution_count": 83,
   "metadata": {},
   "outputs": [
    {
     "data": {
      "text/plain": [
       "s (generic function with 1 method)"
      ]
     },
     "execution_count": 83,
     "metadata": {},
     "output_type": "execute_result"
    }
   ],
   "source": [
    "s(x) = x * x"
   ]
  },
  {
   "cell_type": "markdown",
   "metadata": {},
   "source": [
    "Passing an array to a function that takes a single element as argument takes a special syntax. By putting a `.` before the brackets, the function is executed on all the elements of the Array. More on this in **Part2: collections**."
   ]
  },
  {
   "cell_type": "code",
   "execution_count": 84,
   "metadata": {},
   "outputs": [
    {
     "ename": "LoadError",
     "evalue": "MethodError: no method matching *(::Array{Int64,1}, ::Array{Int64,1})\nClosest candidates are:\n  *(::Any, ::Any, !Matched::Any, !Matched::Any...) at operators.jl:538\n  *(!Matched::LinearAlgebra.Adjoint{var\"#s826\",var\"#s8261\"} where var\"#s8261\"<:(AbstractArray{T,1} where T) where var\"#s826\"<:Number, ::AbstractArray{var\"#s825\",1} where var\"#s825\"<:Number) at /Users/julia/buildbot/worker/package_macos64/build/usr/share/julia/stdlib/v1.5/LinearAlgebra/src/adjtrans.jl:283\n  *(!Matched::LinearAlgebra.Transpose{T,var\"#s826\"} where var\"#s826\"<:(AbstractArray{T,1} where T), ::AbstractArray{T,1}) where T<:Real at /Users/julia/buildbot/worker/package_macos64/build/usr/share/julia/stdlib/v1.5/LinearAlgebra/src/adjtrans.jl:284\n  ...",
     "output_type": "error",
     "traceback": [
      "MethodError: no method matching *(::Array{Int64,1}, ::Array{Int64,1})\nClosest candidates are:\n  *(::Any, ::Any, !Matched::Any, !Matched::Any...) at operators.jl:538\n  *(!Matched::LinearAlgebra.Adjoint{var\"#s826\",var\"#s8261\"} where var\"#s8261\"<:(AbstractArray{T,1} where T) where var\"#s826\"<:Number, ::AbstractArray{var\"#s825\",1} where var\"#s825\"<:Number) at /Users/julia/buildbot/worker/package_macos64/build/usr/share/julia/stdlib/v1.5/LinearAlgebra/src/adjtrans.jl:283\n  *(!Matched::LinearAlgebra.Transpose{T,var\"#s826\"} where var\"#s826\"<:(AbstractArray{T,1} where T), ::AbstractArray{T,1}) where T<:Real at /Users/julia/buildbot/worker/package_macos64/build/usr/share/julia/stdlib/v1.5/LinearAlgebra/src/adjtrans.jl:284\n  ...",
      "",
      "Stacktrace:",
      " [1] s(::Array{Int64,1}) at ./In[83]:1",
      " [2] top-level scope at In[84]:1",
      " [3] include_string(::Function, ::Module, ::String, ::String) at ./loading.jl:1091"
     ]
    }
   ],
   "source": [
    "s([1, 2, 3, 4, 5])   # Multiplication is not defined for Arrays"
   ]
  },
  {
   "cell_type": "code",
   "execution_count": 85,
   "metadata": {},
   "outputs": [
    {
     "data": {
      "text/plain": [
       "5-element Array{Int64,1}:\n",
       "  1\n",
       "  4\n",
       "  9\n",
       " 16\n",
       " 25"
      ]
     },
     "execution_count": 85,
     "metadata": {},
     "output_type": "execute_result"
    }
   ],
   "source": [
    "s.([1, 2, 3, 4, 5])  # This is an elements-wise execution of s()"
   ]
  },
  {
   "cell_type": "markdown",
   "metadata": {},
   "source": [
    "Keyword arguments are defined using a semicolon in the back signature and a default value can be assigned. \"Keywords\" assigned before the semicolon are default values but their keywords are not ignored."
   ]
  },
  {
   "cell_type": "code",
   "execution_count": 86,
   "metadata": {},
   "outputs": [
    {
     "data": {
      "text/plain": [
       "safelog (generic function with 2 methods)"
      ]
     },
     "execution_count": 86,
     "metadata": {},
     "output_type": "execute_result"
    }
   ],
   "source": [
    "safelog(x, offset=0.1; base=10) = log(x + offset) / log(base)"
   ]
  },
  {
   "cell_type": "code",
   "execution_count": 87,
   "metadata": {},
   "outputs": [
    {
     "data": {
      "text/plain": [
       "-0.9999999999999998"
      ]
     },
     "execution_count": 87,
     "metadata": {},
     "output_type": "execute_result"
    }
   ],
   "source": [
    "safelog(0)"
   ]
  },
  {
   "cell_type": "code",
   "execution_count": 91,
   "metadata": {},
   "outputs": [
    {
     "data": {
      "text/plain": [
       "-1.9999999999999996"
      ]
     },
     "execution_count": 91,
     "metadata": {},
     "output_type": "execute_result"
    }
   ],
   "source": [
    "safelog(0, 0.01)"
   ]
  },
  {
   "cell_type": "code",
   "execution_count": 90,
   "metadata": {},
   "outputs": [
    {
     "data": {
      "text/plain": [
       "-1.9999999999999996"
      ]
     },
     "execution_count": 90,
     "metadata": {},
     "output_type": "execute_result"
    }
   ],
   "source": [
    "log(0.01)/log(10)"
   ]
  },
  {
   "cell_type": "code",
   "execution_count": 92,
   "metadata": {},
   "outputs": [
    {
     "data": {
      "text/plain": [
       "-6.643856189774724"
      ]
     },
     "execution_count": 92,
     "metadata": {},
     "output_type": "execute_result"
    }
   ],
   "source": [
    "safelog(0, 0.01, base=2)"
   ]
  },
  {
   "cell_type": "markdown",
   "metadata": {},
   "source": [
    "When functions have a variable number of arguments, one can use the *slurping* `...` operator to denote a variable number of arguments. The argument will be treated as a collection. For example"
   ]
  },
  {
   "cell_type": "code",
   "execution_count": 93,
   "metadata": {},
   "outputs": [
    {
     "data": {
      "text/plain": [
       "3.0"
      ]
     },
     "execution_count": 93,
     "metadata": {},
     "output_type": "execute_result"
    }
   ],
   "source": [
    "function mymean(X...)\n",
    "  m = zero(first(X))  # ensures to be the same type as x\n",
    "  # m = 0.0  # alternative that is less tidy\n",
    "  for x in X\n",
    "    m += x\n",
    "  end\n",
    "  return m / length(X)\n",
    "end\n",
    "\n",
    "mymean(1, 3, 5)"
   ]
  },
  {
   "cell_type": "code",
   "execution_count": 94,
   "metadata": {},
   "outputs": [
    {
     "data": {
      "text/plain": [
       "4.0"
      ]
     },
     "execution_count": 94,
     "metadata": {},
     "output_type": "execute_result"
    }
   ],
   "source": [
    "mymean(1, 3, 5, 7)"
   ]
  },
  {
   "cell_type": "markdown",
   "metadata": {},
   "source": [
    "Similarly, the *splatting* operator can be used to split a collection into its individual elements."
   ]
  },
  {
   "cell_type": "code",
   "execution_count": 95,
   "metadata": {},
   "outputs": [
    {
     "data": {
      "text/plain": [
       "3.0"
      ]
     },
     "execution_count": 95,
     "metadata": {},
     "output_type": "execute_result"
    }
   ],
   "source": [
    "c = [1.0, 3.0, 5.0];\n",
    "\n",
    "mymean(c...)"
   ]
  },
  {
   "cell_type": "markdown",
   "metadata": {},
   "source": [
    "When unsure of what a function does, the documentation can be viewed by adding a \"?\" in front of the function. \n",
    "Or go into the brackets and press shift+ TAB."
   ]
  },
  {
   "cell_type": "code",
   "execution_count": 98,
   "metadata": {},
   "outputs": [],
   "source": [
    "# type ?sort and hit <ENTER>"
   ]
  },
  {
   "cell_type": "code",
   "execution_count": 101,
   "metadata": {},
   "outputs": [
    {
     "name": "stdout",
     "output_type": "stream",
     "text": [
      "search: \u001b[0m\u001b[1ms\u001b[22m\u001b[0m\u001b[1mo\u001b[22m\u001b[0m\u001b[1mr\u001b[22m\u001b[0m\u001b[1mt\u001b[22m \u001b[0m\u001b[1ms\u001b[22m\u001b[0m\u001b[1mo\u001b[22m\u001b[0m\u001b[1mr\u001b[22m\u001b[0m\u001b[1mt\u001b[22m! \u001b[0m\u001b[1ms\u001b[22m\u001b[0m\u001b[1mo\u001b[22m\u001b[0m\u001b[1mr\u001b[22m\u001b[0m\u001b[1mt\u001b[22mperm \u001b[0m\u001b[1ms\u001b[22m\u001b[0m\u001b[1mo\u001b[22m\u001b[0m\u001b[1mr\u001b[22m\u001b[0m\u001b[1mt\u001b[22mperm! \u001b[0m\u001b[1ms\u001b[22m\u001b[0m\u001b[1mo\u001b[22m\u001b[0m\u001b[1mr\u001b[22m\u001b[0m\u001b[1mt\u001b[22mslices C\u001b[0m\u001b[1ms\u001b[22mh\u001b[0m\u001b[1mo\u001b[22m\u001b[0m\u001b[1mr\u001b[22m\u001b[0m\u001b[1mt\u001b[22m i\u001b[0m\u001b[1ms\u001b[22ms\u001b[0m\u001b[1mo\u001b[22m\u001b[0m\u001b[1mr\u001b[22m\u001b[0m\u001b[1mt\u001b[22med Quick\u001b[0m\u001b[1mS\u001b[22m\u001b[0m\u001b[1mo\u001b[22m\u001b[0m\u001b[1mr\u001b[22m\u001b[0m\u001b[1mt\u001b[22m\n",
      "\n"
     ]
    },
    {
     "data": {
      "text/latex": [
       "\\begin{verbatim}\n",
       "sort(v; alg::Algorithm=defalg(v), lt=isless, by=identity, rev::Bool=false, order::Ordering=Forward)\n",
       "\\end{verbatim}\n",
       "Variant of \\href{@ref}{\\texttt{sort!}} that returns a sorted copy of \\texttt{v} leaving \\texttt{v} itself unmodified.\n",
       "\n",
       "\\section{Examples}\n",
       "\\begin{verbatim}\n",
       "julia> v = [3, 1, 2];\n",
       "\n",
       "julia> sort(v)\n",
       "3-element Array{Int64,1}:\n",
       " 1\n",
       " 2\n",
       " 3\n",
       "\n",
       "julia> v\n",
       "3-element Array{Int64,1}:\n",
       " 3\n",
       " 1\n",
       " 2\n",
       "\\end{verbatim}\n",
       "\\rule{\\textwidth}{1pt}\n",
       "\\begin{verbatim}\n",
       "sort(A; dims::Integer, alg::Algorithm=DEFAULT_UNSTABLE, lt=isless, by=identity, rev::Bool=false, order::Ordering=Forward)\n",
       "\\end{verbatim}\n",
       "Sort a multidimensional array \\texttt{A} along the given dimension. See \\href{@ref}{\\texttt{sort!}} for a description of possible keyword arguments.\n",
       "\n",
       "To sort slices of an array, refer to \\href{@ref}{\\texttt{sortslices}}.\n",
       "\n",
       "\\section{Examples}\n",
       "\\begin{verbatim}\n",
       "julia> A = [4 3; 1 2]\n",
       "2×2 Array{Int64,2}:\n",
       " 4  3\n",
       " 1  2\n",
       "\n",
       "julia> sort(A, dims = 1)\n",
       "2×2 Array{Int64,2}:\n",
       " 1  2\n",
       " 4  3\n",
       "\n",
       "julia> sort(A, dims = 2)\n",
       "2×2 Array{Int64,2}:\n",
       " 3  4\n",
       " 1  2\n",
       "\\end{verbatim}\n"
      ],
      "text/markdown": [
       "```\n",
       "sort(v; alg::Algorithm=defalg(v), lt=isless, by=identity, rev::Bool=false, order::Ordering=Forward)\n",
       "```\n",
       "\n",
       "Variant of [`sort!`](@ref) that returns a sorted copy of `v` leaving `v` itself unmodified.\n",
       "\n",
       "# Examples\n",
       "\n",
       "```jldoctest\n",
       "julia> v = [3, 1, 2];\n",
       "\n",
       "julia> sort(v)\n",
       "3-element Array{Int64,1}:\n",
       " 1\n",
       " 2\n",
       " 3\n",
       "\n",
       "julia> v\n",
       "3-element Array{Int64,1}:\n",
       " 3\n",
       " 1\n",
       " 2\n",
       "```\n",
       "\n",
       "---\n",
       "\n",
       "```\n",
       "sort(A; dims::Integer, alg::Algorithm=DEFAULT_UNSTABLE, lt=isless, by=identity, rev::Bool=false, order::Ordering=Forward)\n",
       "```\n",
       "\n",
       "Sort a multidimensional array `A` along the given dimension. See [`sort!`](@ref) for a description of possible keyword arguments.\n",
       "\n",
       "To sort slices of an array, refer to [`sortslices`](@ref).\n",
       "\n",
       "# Examples\n",
       "\n",
       "```jldoctest\n",
       "julia> A = [4 3; 1 2]\n",
       "2×2 Array{Int64,2}:\n",
       " 4  3\n",
       " 1  2\n",
       "\n",
       "julia> sort(A, dims = 1)\n",
       "2×2 Array{Int64,2}:\n",
       " 1  2\n",
       " 4  3\n",
       "\n",
       "julia> sort(A, dims = 2)\n",
       "2×2 Array{Int64,2}:\n",
       " 3  4\n",
       " 1  2\n",
       "```\n"
      ],
      "text/plain": [
       "\u001b[36m  sort(v; alg::Algorithm=defalg(v), lt=isless, by=identity, rev::Bool=false, order::Ordering=Forward)\u001b[39m\n",
       "\n",
       "  Variant of \u001b[36msort!\u001b[39m that returns a sorted copy of \u001b[36mv\u001b[39m leaving \u001b[36mv\u001b[39m itself\n",
       "  unmodified.\n",
       "\n",
       "\u001b[1m  Examples\u001b[22m\n",
       "\u001b[1m  ≡≡≡≡≡≡≡≡≡≡\u001b[22m\n",
       "\n",
       "\u001b[36m  julia> v = [3, 1, 2];\u001b[39m\n",
       "\u001b[36m  \u001b[39m\n",
       "\u001b[36m  julia> sort(v)\u001b[39m\n",
       "\u001b[36m  3-element Array{Int64,1}:\u001b[39m\n",
       "\u001b[36m   1\u001b[39m\n",
       "\u001b[36m   2\u001b[39m\n",
       "\u001b[36m   3\u001b[39m\n",
       "\u001b[36m  \u001b[39m\n",
       "\u001b[36m  julia> v\u001b[39m\n",
       "\u001b[36m  3-element Array{Int64,1}:\u001b[39m\n",
       "\u001b[36m   3\u001b[39m\n",
       "\u001b[36m   1\u001b[39m\n",
       "\u001b[36m   2\u001b[39m\n",
       "\n",
       "  ────────────────────────────────────────────────────────────────────────────\n",
       "\n",
       "\u001b[36m  sort(A; dims::Integer, alg::Algorithm=DEFAULT_UNSTABLE, lt=isless, by=identity, rev::Bool=false, order::Ordering=Forward)\u001b[39m\n",
       "\n",
       "  Sort a multidimensional array \u001b[36mA\u001b[39m along the given dimension. See \u001b[36msort!\u001b[39m for a\n",
       "  description of possible keyword arguments.\n",
       "\n",
       "  To sort slices of an array, refer to \u001b[36msortslices\u001b[39m.\n",
       "\n",
       "\u001b[1m  Examples\u001b[22m\n",
       "\u001b[1m  ≡≡≡≡≡≡≡≡≡≡\u001b[22m\n",
       "\n",
       "\u001b[36m  julia> A = [4 3; 1 2]\u001b[39m\n",
       "\u001b[36m  2×2 Array{Int64,2}:\u001b[39m\n",
       "\u001b[36m   4  3\u001b[39m\n",
       "\u001b[36m   1  2\u001b[39m\n",
       "\u001b[36m  \u001b[39m\n",
       "\u001b[36m  julia> sort(A, dims = 1)\u001b[39m\n",
       "\u001b[36m  2×2 Array{Int64,2}:\u001b[39m\n",
       "\u001b[36m   1  2\u001b[39m\n",
       "\u001b[36m   4  3\u001b[39m\n",
       "\u001b[36m  \u001b[39m\n",
       "\u001b[36m  julia> sort(A, dims = 2)\u001b[39m\n",
       "\u001b[36m  2×2 Array{Int64,2}:\u001b[39m\n",
       "\u001b[36m   3  4\u001b[39m\n",
       "\u001b[36m   1  2\u001b[39m"
      ]
     },
     "execution_count": 101,
     "metadata": {},
     "output_type": "execute_result"
    }
   ],
   "source": [
    "?sort"
   ]
  },
  {
   "cell_type": "markdown",
   "metadata": {},
   "source": [
    "For a lot of standard Julia functions a in-place version is defined. In-place means that the function changes one of the input arguments of the function. As an example, `sort()` sorts and returns the array passed as argument, it does not change the original array. In contrast, `sort!()` is the inplace version of sort and directly sorts the array passed as argument."
   ]
  },
  {
   "cell_type": "code",
   "execution_count": 102,
   "metadata": {},
   "outputs": [
    {
     "data": {
      "text/plain": [
       "6-element Array{Int64,1}:\n",
       " 1\n",
       " 4\n",
       " 5\n",
       " 7\n",
       " 9\n",
       " 9"
      ]
     },
     "execution_count": 102,
     "metadata": {},
     "output_type": "execute_result"
    }
   ],
   "source": [
    "my_unsorted_list = [4, 5, 9, 7, 1, 9]\n",
    "\n",
    "sort(my_unsorted_list)"
   ]
  },
  {
   "cell_type": "code",
   "execution_count": 103,
   "metadata": {},
   "outputs": [
    {
     "data": {
      "text/plain": [
       "6-element Array{Int64,1}:\n",
       " 4\n",
       " 5\n",
       " 9\n",
       " 7\n",
       " 1\n",
       " 9"
      ]
     },
     "execution_count": 103,
     "metadata": {},
     "output_type": "execute_result"
    }
   ],
   "source": [
    "my_unsorted_list"
   ]
  },
  {
   "cell_type": "code",
   "execution_count": 105,
   "metadata": {},
   "outputs": [
    {
     "data": {
      "text/plain": [
       "6-element Array{Int64,1}:\n",
       " 1\n",
       " 4\n",
       " 5\n",
       " 7\n",
       " 9\n",
       " 9"
      ]
     },
     "execution_count": 105,
     "metadata": {},
     "output_type": "execute_result"
    }
   ],
   "source": [
    "sort!(my_unsorted_list)\n",
    "\n",
    "my_unsorted_list"
   ]
  },
  {
   "cell_type": "markdown",
   "metadata": {},
   "source": [
    "Specific functions can be generated if you have more information on the input type.\n",
    "This is called multiple dispatch.\n",
    "\n",
    "The `::` operator attaches type annotations to expressions and variables.\n",
    "\n",
    "How does the documentation for the function square look like after you executed the cell below?"
   ]
  },
  {
   "cell_type": "code",
   "execution_count": 106,
   "metadata": {},
   "outputs": [
    {
     "name": "stdout",
     "output_type": "stream",
     "text": [
      "16\n",
      "using function with floats\n",
      "16.0\n"
     ]
    }
   ],
   "source": [
    "function square(x::Float64)\n",
    "  println(\"using function with floats\")\n",
    "  result = x * x\n",
    "  return result\n",
    "end\n",
    "\n",
    "println(square(4))\n",
    "println(square(4.))"
   ]
  },
  {
   "cell_type": "markdown",
   "metadata": {},
   "source": [
    "More about types in the next section !\n",
    "\n",
    "# Macros\n",
    "Macros provide a method to include generated code in the final body of a program. It is a way of generating a new output expression, given an unevaluated input expression. When your Julia program runs, it first parses and evaluates the macro, and the processed code produced by the macro is eventually evaluated like an ordinary expression.\n",
    "\n",
    "Some nifty basic macros are `@time` and `@show`. `@time` prints the cpu time and memory allocations of an expression."
   ]
  },
  {
   "cell_type": "code",
   "execution_count": 107,
   "metadata": {},
   "outputs": [
    {
     "name": "stdout",
     "output_type": "stream",
     "text": [
      "  0.000000 seconds\n"
     ]
    },
    {
     "data": {
      "text/plain": [
       "100"
      ]
     },
     "execution_count": 107,
     "metadata": {},
     "output_type": "execute_result"
    }
   ],
   "source": [
    "@time square(10)"
   ]
  },
  {
   "cell_type": "markdown",
   "metadata": {},
   "source": [
    "The `@show` macro is often useful for debugging purposes. It displays both the expression to be evaluated and its result, finally returning the value of the result."
   ]
  },
  {
   "cell_type": "code",
   "execution_count": 108,
   "metadata": {},
   "outputs": [
    {
     "name": "stdout",
     "output_type": "stream",
     "text": [
      "1 + 1 = 2\n"
     ]
    },
    {
     "data": {
      "text/plain": [
       "2"
      ]
     },
     "execution_count": 108,
     "metadata": {},
     "output_type": "execute_result"
    }
   ],
   "source": [
    "@show 1 + 1"
   ]
  },
  {
   "cell_type": "markdown",
   "metadata": {},
   "source": [
    "# Plotting\n",
    "Quite essential for scientific programming is the visualisation of the results. `Plots` is the Julia package that handles a lot of the visualisation. `rand(10)`, returns an array of 10 random floats between 0 and 1."
   ]
  },
  {
   "cell_type": "code",
   "execution_count": 109,
   "metadata": {},
   "outputs": [
    {
     "name": "stderr",
     "output_type": "stream",
     "text": [
      "┌ Info: Precompiling Plots [91a5bcdd-55d7-5caf-9e0b-520d859cae80]\n",
      "└ @ Base loading.jl:1278\n"
     ]
    },
    {
     "data": {
      "image/svg+xml": [
       "<?xml version=\"1.0\" encoding=\"utf-8\"?>\n",
       "<svg xmlns=\"http://www.w3.org/2000/svg\" xmlns:xlink=\"http://www.w3.org/1999/xlink\" width=\"600\" height=\"400\" viewBox=\"0 0 2400 1600\">\n",
       "<defs>\n",
       "  <clipPath id=\"clip470\">\n",
       "    <rect x=\"0\" y=\"0\" width=\"2400\" height=\"1600\"/>\n",
       "  </clipPath>\n",
       "</defs>\n",
       "<path clip-path=\"url(#clip470)\" d=\"\n",
       "M0 1600 L2400 1600 L2400 0 L0 0  Z\n",
       "  \" fill=\"#ffffff\" fill-rule=\"evenodd\" fill-opacity=\"1\"/>\n",
       "<defs>\n",
       "  <clipPath id=\"clip471\">\n",
       "    <rect x=\"480\" y=\"0\" width=\"1681\" height=\"1600\"/>\n",
       "  </clipPath>\n",
       "</defs>\n",
       "<path clip-path=\"url(#clip470)\" d=\"\n",
       "M205.723 1423.18 L2352.76 1423.18 L2352.76 123.472 L205.723 123.472  Z\n",
       "  \" fill=\"#ffffff\" fill-rule=\"evenodd\" fill-opacity=\"1\"/>\n",
       "<defs>\n",
       "  <clipPath id=\"clip472\">\n",
       "    <rect x=\"205\" y=\"123\" width=\"2148\" height=\"1301\"/>\n",
       "  </clipPath>\n",
       "</defs>\n",
       "<polyline clip-path=\"url(#clip472)\" style=\"stroke:#000000; stroke-width:2; stroke-opacity:0.1; fill:none\" points=\"\n",
       "  491.544,1423.18 491.544,123.472 \n",
       "  \"/>\n",
       "<polyline clip-path=\"url(#clip472)\" style=\"stroke:#000000; stroke-width:2; stroke-opacity:0.1; fill:none\" points=\"\n",
       "  941.656,1423.18 941.656,123.472 \n",
       "  \"/>\n",
       "<polyline clip-path=\"url(#clip472)\" style=\"stroke:#000000; stroke-width:2; stroke-opacity:0.1; fill:none\" points=\"\n",
       "  1391.77,1423.18 1391.77,123.472 \n",
       "  \"/>\n",
       "<polyline clip-path=\"url(#clip472)\" style=\"stroke:#000000; stroke-width:2; stroke-opacity:0.1; fill:none\" points=\"\n",
       "  1841.88,1423.18 1841.88,123.472 \n",
       "  \"/>\n",
       "<polyline clip-path=\"url(#clip472)\" style=\"stroke:#000000; stroke-width:2; stroke-opacity:0.1; fill:none\" points=\"\n",
       "  2291.99,1423.18 2291.99,123.472 \n",
       "  \"/>\n",
       "<polyline clip-path=\"url(#clip470)\" style=\"stroke:#000000; stroke-width:4; stroke-opacity:1; fill:none\" points=\"\n",
       "  205.723,1423.18 2352.76,1423.18 \n",
       "  \"/>\n",
       "<polyline clip-path=\"url(#clip470)\" style=\"stroke:#000000; stroke-width:4; stroke-opacity:1; fill:none\" points=\"\n",
       "  491.544,1423.18 491.544,1407.58 \n",
       "  \"/>\n",
       "<polyline clip-path=\"url(#clip470)\" style=\"stroke:#000000; stroke-width:4; stroke-opacity:1; fill:none\" points=\"\n",
       "  941.656,1423.18 941.656,1407.58 \n",
       "  \"/>\n",
       "<polyline clip-path=\"url(#clip470)\" style=\"stroke:#000000; stroke-width:4; stroke-opacity:1; fill:none\" points=\"\n",
       "  1391.77,1423.18 1391.77,1407.58 \n",
       "  \"/>\n",
       "<polyline clip-path=\"url(#clip470)\" style=\"stroke:#000000; stroke-width:4; stroke-opacity:1; fill:none\" points=\"\n",
       "  1841.88,1423.18 1841.88,1407.58 \n",
       "  \"/>\n",
       "<polyline clip-path=\"url(#clip470)\" style=\"stroke:#000000; stroke-width:4; stroke-opacity:1; fill:none\" points=\"\n",
       "  2291.99,1423.18 2291.99,1407.58 \n",
       "  \"/>\n",
       "<path clip-path=\"url(#clip470)\" d=\"M 0 0 M486.197 1479.92 L502.516 1479.92 L502.516 1483.85 L480.572 1483.85 L480.572 1479.92 Q483.234 1477.16 487.817 1472.53 Q492.423 1467.88 493.604 1466.54 Q495.849 1464.01 496.729 1462.28 Q497.632 1460.52 497.632 1458.83 Q497.632 1456.07 495.687 1454.34 Q493.766 1452.6 490.664 1452.6 Q488.465 1452.6 486.011 1453.37 Q483.581 1454.13 480.803 1455.68 L480.803 1450.96 Q483.627 1449.82 486.081 1449.25 Q488.535 1448.67 490.572 1448.67 Q495.942 1448.67 499.136 1451.35 Q502.331 1454.04 502.331 1458.53 Q502.331 1460.66 501.521 1462.58 Q500.734 1464.48 498.627 1467.07 Q498.048 1467.74 494.947 1470.96 Q491.845 1474.15 486.197 1479.92 Z\" fill=\"#000000\" fill-rule=\"evenodd\" fill-opacity=\"1\" /><path clip-path=\"url(#clip470)\" d=\"M 0 0 M944.665 1453.37 L932.859 1471.81 L944.665 1471.81 L944.665 1453.37 M943.438 1449.29 L949.318 1449.29 L949.318 1471.81 L954.248 1471.81 L954.248 1475.7 L949.318 1475.7 L949.318 1483.85 L944.665 1483.85 L944.665 1475.7 L929.063 1475.7 L929.063 1471.19 L943.438 1449.29 Z\" fill=\"#000000\" fill-rule=\"evenodd\" fill-opacity=\"1\" /><path clip-path=\"url(#clip470)\" d=\"M 0 0 M1392.17 1464.71 Q1389.02 1464.71 1387.17 1466.86 Q1385.34 1469.01 1385.34 1472.76 Q1385.34 1476.49 1387.17 1478.67 Q1389.02 1480.82 1392.17 1480.82 Q1395.32 1480.82 1397.15 1478.67 Q1399 1476.49 1399 1472.76 Q1399 1469.01 1397.15 1466.86 Q1395.32 1464.71 1392.17 1464.71 M1401.45 1450.06 L1401.45 1454.31 Q1399.7 1453.48 1397.89 1453.04 Q1396.11 1452.6 1394.35 1452.6 Q1389.72 1452.6 1387.27 1455.73 Q1384.83 1458.85 1384.49 1465.17 Q1385.85 1463.16 1387.91 1462.09 Q1389.97 1461 1392.45 1461 Q1397.66 1461 1400.67 1464.18 Q1403.7 1467.32 1403.7 1472.76 Q1403.7 1478.09 1400.55 1481.31 Q1397.4 1484.52 1392.17 1484.52 Q1386.18 1484.52 1383.01 1479.94 Q1379.83 1475.33 1379.83 1466.61 Q1379.83 1458.41 1383.72 1453.55 Q1387.61 1448.67 1394.16 1448.67 Q1395.92 1448.67 1397.7 1449.01 Q1399.51 1449.36 1401.45 1450.06 Z\" fill=\"#000000\" fill-rule=\"evenodd\" fill-opacity=\"1\" /><path clip-path=\"url(#clip470)\" d=\"M 0 0 M1841.88 1467.44 Q1838.55 1467.44 1836.62 1469.22 Q1834.73 1471 1834.73 1474.13 Q1834.73 1477.25 1836.62 1479.04 Q1838.55 1480.82 1841.88 1480.82 Q1845.21 1480.82 1847.13 1479.04 Q1849.05 1477.23 1849.05 1474.13 Q1849.05 1471 1847.13 1469.22 Q1845.24 1467.44 1841.88 1467.44 M1837.2 1465.45 Q1834.19 1464.71 1832.5 1462.65 Q1830.84 1460.59 1830.84 1457.63 Q1830.84 1453.48 1833.78 1451.07 Q1836.74 1448.67 1841.88 1448.67 Q1847.04 1448.67 1849.98 1451.07 Q1852.92 1453.48 1852.92 1457.63 Q1852.92 1460.59 1851.23 1462.65 Q1849.56 1464.71 1846.58 1465.45 Q1849.96 1466.24 1851.83 1468.53 Q1853.73 1470.82 1853.73 1474.13 Q1853.73 1479.15 1850.65 1481.84 Q1847.6 1484.52 1841.88 1484.52 Q1836.16 1484.52 1833.08 1481.84 Q1830.03 1479.15 1830.03 1474.13 Q1830.03 1470.82 1831.93 1468.53 Q1833.82 1466.24 1837.2 1465.45 M1835.49 1458.06 Q1835.49 1460.75 1837.16 1462.25 Q1838.85 1463.76 1841.88 1463.76 Q1844.89 1463.76 1846.58 1462.25 Q1848.29 1460.75 1848.29 1458.06 Q1848.29 1455.38 1846.58 1453.88 Q1844.89 1452.37 1841.88 1452.37 Q1838.85 1452.37 1837.16 1453.88 Q1835.49 1455.38 1835.49 1458.06 Z\" fill=\"#000000\" fill-rule=\"evenodd\" fill-opacity=\"1\" /><path clip-path=\"url(#clip470)\" d=\"M 0 0 M2268.87 1479.92 L2276.5 1479.92 L2276.5 1453.55 L2268.19 1455.22 L2268.19 1450.96 L2276.46 1449.29 L2281.13 1449.29 L2281.13 1479.92 L2288.77 1479.92 L2288.77 1483.85 L2268.87 1483.85 L2268.87 1479.92 Z\" fill=\"#000000\" fill-rule=\"evenodd\" fill-opacity=\"1\" /><path clip-path=\"url(#clip470)\" d=\"M 0 0 M2303.84 1452.37 Q2300.23 1452.37 2298.4 1455.94 Q2296.6 1459.48 2296.6 1466.61 Q2296.6 1473.71 2298.4 1477.28 Q2300.23 1480.82 2303.84 1480.82 Q2307.48 1480.82 2309.28 1477.28 Q2311.11 1473.71 2311.11 1466.61 Q2311.11 1459.48 2309.28 1455.94 Q2307.48 1452.37 2303.84 1452.37 M2303.84 1448.67 Q2309.65 1448.67 2312.71 1453.27 Q2315.79 1457.86 2315.79 1466.61 Q2315.79 1475.33 2312.71 1479.94 Q2309.65 1484.52 2303.84 1484.52 Q2298.03 1484.52 2294.95 1479.94 Q2291.9 1475.33 2291.9 1466.61 Q2291.9 1457.86 2294.95 1453.27 Q2298.03 1448.67 2303.84 1448.67 Z\" fill=\"#000000\" fill-rule=\"evenodd\" fill-opacity=\"1\" /><path clip-path=\"url(#clip470)\" d=\"M 0 0 M1295.85 1520.4 L1282.96 1537.74 L1296.52 1556.04 L1289.62 1556.04 L1279.24 1542.04 L1268.86 1556.04 L1261.96 1556.04 L1275.8 1537.39 L1263.13 1520.4 L1270.04 1520.4 L1279.49 1533.1 L1288.95 1520.4 L1295.85 1520.4 Z\" fill=\"#000000\" fill-rule=\"evenodd\" fill-opacity=\"1\" /><polyline clip-path=\"url(#clip472)\" style=\"stroke:#000000; stroke-width:2; stroke-opacity:0.1; fill:none\" points=\"\n",
       "  205.723,1163.12 2352.76,1163.12 \n",
       "  \"/>\n",
       "<polyline clip-path=\"url(#clip472)\" style=\"stroke:#000000; stroke-width:2; stroke-opacity:0.1; fill:none\" points=\"\n",
       "  205.723,855.591 2352.76,855.591 \n",
       "  \"/>\n",
       "<polyline clip-path=\"url(#clip472)\" style=\"stroke:#000000; stroke-width:2; stroke-opacity:0.1; fill:none\" points=\"\n",
       "  205.723,548.058 2352.76,548.058 \n",
       "  \"/>\n",
       "<polyline clip-path=\"url(#clip472)\" style=\"stroke:#000000; stroke-width:2; stroke-opacity:0.1; fill:none\" points=\"\n",
       "  205.723,240.526 2352.76,240.526 \n",
       "  \"/>\n",
       "<polyline clip-path=\"url(#clip470)\" style=\"stroke:#000000; stroke-width:4; stroke-opacity:1; fill:none\" points=\"\n",
       "  205.723,1423.18 205.723,123.472 \n",
       "  \"/>\n",
       "<polyline clip-path=\"url(#clip470)\" style=\"stroke:#000000; stroke-width:4; stroke-opacity:1; fill:none\" points=\"\n",
       "  205.723,1163.12 231.487,1163.12 \n",
       "  \"/>\n",
       "<polyline clip-path=\"url(#clip470)\" style=\"stroke:#000000; stroke-width:4; stroke-opacity:1; fill:none\" points=\"\n",
       "  205.723,855.591 231.487,855.591 \n",
       "  \"/>\n",
       "<polyline clip-path=\"url(#clip470)\" style=\"stroke:#000000; stroke-width:4; stroke-opacity:1; fill:none\" points=\"\n",
       "  205.723,548.058 231.487,548.058 \n",
       "  \"/>\n",
       "<polyline clip-path=\"url(#clip470)\" style=\"stroke:#000000; stroke-width:4; stroke-opacity:1; fill:none\" points=\"\n",
       "  205.723,240.526 231.487,240.526 \n",
       "  \"/>\n",
       "<path clip-path=\"url(#clip470)\" d=\"M 0 0 M114.26 1163.57 L143.936 1163.57 L143.936 1167.51 L114.26 1167.51 L114.26 1163.57 Z\" fill=\"#000000\" fill-rule=\"evenodd\" fill-opacity=\"1\" /><path clip-path=\"url(#clip470)\" d=\"M 0 0 M149.816 1176.47 L157.454 1176.47 L157.454 1150.1 L149.144 1151.77 L149.144 1147.51 L157.408 1145.84 L162.084 1145.84 L162.084 1176.47 L169.723 1176.47 L169.723 1180.4 L149.816 1180.4 L149.816 1176.47 Z\" fill=\"#000000\" fill-rule=\"evenodd\" fill-opacity=\"1\" /><path clip-path=\"url(#clip470)\" d=\"M 0 0 M157.778 841.39 Q154.167 841.39 152.339 844.954 Q150.533 848.496 150.533 855.626 Q150.533 862.732 152.339 866.297 Q154.167 869.839 157.778 869.839 Q161.413 869.839 163.218 866.297 Q165.047 862.732 165.047 855.626 Q165.047 848.496 163.218 844.954 Q161.413 841.39 157.778 841.39 M157.778 837.686 Q163.589 837.686 166.644 842.292 Q169.723 846.876 169.723 855.626 Q169.723 864.352 166.644 868.959 Q163.589 873.542 157.778 873.542 Q151.968 873.542 148.89 868.959 Q145.834 864.352 145.834 855.626 Q145.834 846.876 148.89 842.292 Q151.968 837.686 157.778 837.686 Z\" fill=\"#000000\" fill-rule=\"evenodd\" fill-opacity=\"1\" /><path clip-path=\"url(#clip470)\" d=\"M 0 0 M149.816 561.403 L157.454 561.403 L157.454 535.038 L149.144 536.704 L149.144 532.445 L157.408 530.778 L162.084 530.778 L162.084 561.403 L169.723 561.403 L169.723 565.338 L149.816 565.338 L149.816 561.403 Z\" fill=\"#000000\" fill-rule=\"evenodd\" fill-opacity=\"1\" /><path clip-path=\"url(#clip470)\" d=\"M 0 0 M153.403 253.871 L169.723 253.871 L169.723 257.806 L147.778 257.806 L147.778 253.871 Q150.441 251.116 155.024 246.487 Q159.63 241.834 160.811 240.491 Q163.056 237.968 163.936 236.232 Q164.839 234.473 164.839 232.783 Q164.839 230.028 162.894 228.292 Q160.973 226.556 157.871 226.556 Q155.672 226.556 153.218 227.32 Q150.788 228.084 148.01 229.635 L148.01 224.913 Q150.834 223.778 153.288 223.2 Q155.741 222.621 157.778 222.621 Q163.149 222.621 166.343 225.306 Q169.538 227.991 169.538 232.482 Q169.538 234.612 168.727 236.533 Q167.94 238.431 165.834 241.024 Q165.255 241.695 162.153 244.912 Q159.052 248.107 153.403 253.871 Z\" fill=\"#000000\" fill-rule=\"evenodd\" fill-opacity=\"1\" /><path clip-path=\"url(#clip470)\" d=\"M 0 0 M38.479 800.221 L43.3487 800.221 L43.3487 805.823 Q43.3487 808.974 44.6219 810.215 Q45.895 811.425 49.2052 811.425 L52.3562 811.425 L52.3562 801.781 L56.9077 801.781 L56.9077 811.425 L88.0042 811.425 L88.0042 817.313 L56.9077 817.313 L56.9077 822.915 L52.3562 822.915 L52.3562 817.313 L49.8736 817.313 Q43.9216 817.313 41.2162 814.544 Q38.479 811.775 38.479 805.759 L38.479 800.221 Z\" fill=\"#000000\" fill-rule=\"evenodd\" fill-opacity=\"1\" /><path clip-path=\"url(#clip470)\" d=\"M 0 0 M38.5426 780.01 Q45.8632 784.275 53.0246 786.344 Q60.186 788.413 67.5384 788.413 Q74.8908 788.413 82.1159 786.344 Q89.3091 784.243 96.5979 780.01 L96.5979 785.103 Q89.1182 789.877 81.8931 792.264 Q74.668 794.619 67.5384 794.619 Q60.4406 794.619 53.2474 792.264 Q46.0542 789.909 38.5426 785.103 L38.5426 780.01 Z\" fill=\"#000000\" fill-rule=\"evenodd\" fill-opacity=\"1\" /><path clip-path=\"url(#clip470)\" d=\"M 0 0 M52.3562 744.235 L69.7028 757.125 L88.0042 743.566 L88.0042 750.473 L73.9996 760.849 L88.0042 771.225 L88.0042 778.132 L69.3526 764.287 L52.3562 776.954 L52.3562 770.048 L65.0558 760.595 L52.3562 751.141 L52.3562 744.235 Z\" fill=\"#000000\" fill-rule=\"evenodd\" fill-opacity=\"1\" /><path clip-path=\"url(#clip470)\" d=\"M 0 0 M38.5426 738.346 L38.5426 733.254 Q46.0542 728.48 53.2474 726.124 Q60.4406 723.737 67.5384 723.737 Q74.668 723.737 81.8931 726.124 Q89.1182 728.48 96.5979 733.254 L96.5979 738.346 Q89.3091 734.113 82.1159 732.044 Q74.8908 729.944 67.5384 729.944 Q60.186 729.944 53.0246 732.044 Q45.8632 734.113 38.5426 738.346 Z\" fill=\"#000000\" fill-rule=\"evenodd\" fill-opacity=\"1\" /><path clip-path=\"url(#clip470)\" d=\"M 0 0 M933.636 12.096 L945.83 12.096 L961.264 53.2532 L976.779 12.096 L988.972 12.096 L988.972 72.576 L980.992 72.576 L980.992 19.4686 L965.396 60.9499 L957.172 60.9499 L941.576 19.4686 L941.576 72.576 L933.636 72.576 L933.636 12.096 Z\" fill=\"#000000\" fill-rule=\"evenodd\" fill-opacity=\"1\" /><path clip-path=\"url(#clip470)\" d=\"M 0 0 M1015.67 76.7889 Q1012.51 84.8907 1009.51 87.3618 Q1006.51 89.8329 1001.49 89.8329 L995.534 89.8329 L995.534 83.5945 L999.909 83.5945 Q1002.99 83.5945 1004.69 82.1361 Q1006.39 80.6778 1008.46 75.2496 L1009.79 71.8468 L991.443 27.2059 L999.342 27.2059 L1013.52 62.6918 L1027.7 27.2059 L1035.6 27.2059 L1015.67 76.7889 Z\" fill=\"#000000\" fill-rule=\"evenodd\" fill-opacity=\"1\" /><path clip-path=\"url(#clip470)\" d=\"M 0 0 M1077 65.7705 L1077 89.8329 L1069.5 89.8329 L1069.5 27.2059 L1077 27.2059 L1077 34.0924 Q1079.35 30.0415 1082.91 28.0971 Q1086.52 26.1121 1091.5 26.1121 Q1099.76 26.1121 1104.91 32.6746 Q1110.09 39.2371 1110.09 49.9314 Q1110.09 60.6258 1104.91 67.1883 Q1099.76 73.7508 1091.5 73.7508 Q1086.52 73.7508 1082.91 71.8063 Q1079.35 69.8214 1077 65.7705 M1102.36 49.9314 Q1102.36 41.7081 1098.95 37.0496 Q1095.59 32.3505 1089.68 32.3505 Q1083.76 32.3505 1080.36 37.0496 Q1077 41.7081 1077 49.9314 Q1077 58.1548 1080.36 62.8538 Q1083.76 67.5124 1089.68 67.5124 Q1095.59 67.5124 1098.95 62.8538 Q1102.36 58.1548 1102.36 49.9314 Z\" fill=\"#000000\" fill-rule=\"evenodd\" fill-opacity=\"1\" /><path clip-path=\"url(#clip470)\" d=\"M 0 0 M1144.2 34.1734 Q1142.95 33.4443 1141.45 33.1202 Q1139.99 32.7556 1138.21 32.7556 Q1131.89 32.7556 1128.48 36.8875 Q1125.12 40.9789 1125.12 48.6757 L1125.12 72.576 L1117.63 72.576 L1117.63 27.2059 L1125.12 27.2059 L1125.12 34.2544 Q1127.47 30.1225 1131.24 28.1376 Q1135.01 26.1121 1140.39 26.1121 Q1141.16 26.1121 1142.1 26.2337 Q1143.03 26.3147 1144.16 26.5172 L1144.2 34.1734 Z\" fill=\"#000000\" fill-rule=\"evenodd\" fill-opacity=\"1\" /><path clip-path=\"url(#clip470)\" d=\"M 0 0 M1189.01 48.0275 L1189.01 51.6733 L1154.73 51.6733 Q1155.22 59.3701 1159.35 63.421 Q1163.53 67.4314 1170.94 67.4314 Q1175.23 67.4314 1179.24 66.3781 Q1183.29 65.3249 1187.26 63.2184 L1187.26 70.267 Q1183.25 71.9684 1179.04 72.8596 Q1174.83 73.7508 1170.49 73.7508 Q1159.64 73.7508 1153.28 67.4314 Q1146.96 61.1119 1146.96 50.3365 Q1146.96 39.1965 1152.95 32.6746 Q1158.99 26.1121 1169.2 26.1121 Q1178.35 26.1121 1183.66 32.0264 Q1189.01 37.9003 1189.01 48.0275 M1181.55 45.84 Q1181.47 39.7232 1178.11 36.0774 Q1174.79 32.4315 1169.28 32.4315 Q1163.04 32.4315 1159.27 35.9558 Q1155.55 39.4801 1154.98 45.8805 L1181.55 45.84 Z\" fill=\"#000000\" fill-rule=\"evenodd\" fill-opacity=\"1\" /><path clip-path=\"url(#clip470)\" d=\"M 0 0 M1204.2 14.324 L1204.2 27.2059 L1219.55 27.2059 L1219.55 32.9987 L1204.2 32.9987 L1204.2 57.6282 Q1204.2 63.1779 1205.7 64.7578 Q1207.23 66.3376 1211.89 66.3376 L1219.55 66.3376 L1219.55 72.576 L1211.89 72.576 Q1203.26 72.576 1199.98 69.3758 Q1196.7 66.1351 1196.7 57.6282 L1196.7 32.9987 L1191.23 32.9987 L1191.23 27.2059 L1196.7 27.2059 L1196.7 14.324 L1204.2 14.324 Z\" fill=\"#000000\" fill-rule=\"evenodd\" fill-opacity=\"1\" /><path clip-path=\"url(#clip470)\" d=\"M 0 0 M1234.74 14.324 L1234.74 27.2059 L1250.09 27.2059 L1250.09 32.9987 L1234.74 32.9987 L1234.74 57.6282 Q1234.74 63.1779 1236.24 64.7578 Q1237.78 66.3376 1242.44 66.3376 L1250.09 66.3376 L1250.09 72.576 L1242.44 72.576 Q1233.81 72.576 1230.53 69.3758 Q1227.25 66.1351 1227.25 57.6282 L1227.25 32.9987 L1221.78 32.9987 L1221.78 27.2059 L1227.25 27.2059 L1227.25 14.324 L1234.74 14.324 Z\" fill=\"#000000\" fill-rule=\"evenodd\" fill-opacity=\"1\" /><path clip-path=\"url(#clip470)\" d=\"M 0 0 M1276.79 76.7889 Q1273.63 84.8907 1270.63 87.3618 Q1267.63 89.8329 1262.61 89.8329 L1256.66 89.8329 L1256.66 83.5945 L1261.03 83.5945 Q1264.11 83.5945 1265.81 82.1361 Q1267.51 80.6778 1269.58 75.2496 L1270.91 71.8468 L1252.56 27.2059 L1260.46 27.2059 L1274.64 62.6918 L1288.82 27.2059 L1296.72 27.2059 L1276.79 76.7889 Z\" fill=\"#000000\" fill-rule=\"evenodd\" fill-opacity=\"1\" /><path clip-path=\"url(#clip470)\" d=\"M 0 0 M1331.23 12.096 L1339.42 12.096 L1339.42 68.3631 Q1339.42 79.3005 1335.24 84.2426 Q1331.11 89.1847 1321.92 89.1847 L1318.8 89.1847 L1318.8 82.2982 L1321.35 82.2982 Q1326.78 82.2982 1329 79.26 Q1331.23 76.2218 1331.23 68.3631 L1331.23 12.096 Z\" fill=\"#000000\" fill-rule=\"evenodd\" fill-opacity=\"1\" /><path clip-path=\"url(#clip470)\" d=\"M 0 0 M1346.46 54.671 L1346.46 27.2059 L1353.92 27.2059 L1353.92 54.3874 Q1353.92 60.8284 1356.43 64.0691 Q1358.94 67.2693 1363.96 67.2693 Q1370 67.2693 1373.48 63.421 Q1377.01 59.5726 1377.01 52.9291 L1377.01 27.2059 L1384.46 27.2059 L1384.46 72.576 L1377.01 72.576 L1377.01 65.6084 Q1374.29 69.7404 1370.69 71.7658 Q1367.12 73.7508 1362.38 73.7508 Q1354.57 73.7508 1350.52 68.8897 Q1346.46 64.0286 1346.46 54.671 M1365.22 26.1121 L1365.22 26.1121 Z\" fill=\"#000000\" fill-rule=\"evenodd\" fill-opacity=\"1\" /><path clip-path=\"url(#clip470)\" d=\"M 0 0 M1392.28 9.54393 L1399.73 9.54393 L1399.73 72.576 L1392.28 72.576 L1392.28 9.54393 Z\" fill=\"#000000\" fill-rule=\"evenodd\" fill-opacity=\"1\" /><path clip-path=\"url(#clip470)\" d=\"M 0 0 M1407.55 27.2059 L1415.01 27.2059 L1415.01 72.576 L1407.55 72.576 L1407.55 27.2059 M1407.55 9.54393 L1415.01 9.54393 L1415.01 18.9825 L1407.55 18.9825 L1407.55 9.54393 Z\" fill=\"#000000\" fill-rule=\"evenodd\" fill-opacity=\"1\" /><path clip-path=\"url(#clip470)\" d=\"M 0 0 M1443.44 49.7694 Q1434.41 49.7694 1430.93 51.8354 Q1427.44 53.9013 1427.44 58.8839 Q1427.44 62.8538 1430.03 65.2034 Q1432.67 67.5124 1437.16 67.5124 Q1443.36 67.5124 1447.09 63.1374 Q1450.86 58.7219 1450.86 51.4303 L1450.86 49.7694 L1443.44 49.7694 M1458.31 46.6907 L1458.31 72.576 L1450.86 72.576 L1450.86 65.6895 Q1448.3 69.8214 1444.5 71.8063 Q1440.69 73.7508 1435.18 73.7508 Q1428.21 73.7508 1424.08 69.8619 Q1419.99 65.9325 1419.99 59.3701 Q1419.99 51.7138 1425.09 47.825 Q1430.24 43.9361 1440.4 43.9361 L1450.86 43.9361 L1450.86 43.2069 Q1450.86 38.0623 1447.45 35.2672 Q1444.09 32.4315 1437.97 32.4315 Q1434.09 32.4315 1430.4 33.3632 Q1426.71 34.295 1423.31 36.1584 L1423.31 29.2718 Q1427.4 27.692 1431.25 26.9223 Q1435.1 26.1121 1438.74 26.1121 Q1448.59 26.1121 1453.45 31.2163 Q1458.31 36.3204 1458.31 46.6907 Z\" fill=\"#000000\" fill-rule=\"evenodd\" fill-opacity=\"1\" /><path clip-path=\"url(#clip470)\" d=\"M 0 0 M1499.71 65.7705 L1499.71 89.8329 L1492.22 89.8329 L1492.22 27.2059 L1499.71 27.2059 L1499.71 34.0924 Q1502.06 30.0415 1505.62 28.0971 Q1509.23 26.1121 1514.21 26.1121 Q1522.48 26.1121 1527.62 32.6746 Q1532.81 39.2371 1532.81 49.9314 Q1532.81 60.6258 1527.62 67.1883 Q1522.48 73.7508 1514.21 73.7508 Q1509.23 73.7508 1505.62 71.8063 Q1502.06 69.8214 1499.71 65.7705 M1525.07 49.9314 Q1525.07 41.7081 1521.67 37.0496 Q1518.3 32.3505 1512.39 32.3505 Q1506.47 32.3505 1503.07 37.0496 Q1499.71 41.7081 1499.71 49.9314 Q1499.71 58.1548 1503.07 62.8538 Q1506.47 67.5124 1512.39 67.5124 Q1518.3 67.5124 1521.67 62.8538 Q1525.07 58.1548 1525.07 49.9314 Z\" fill=\"#000000\" fill-rule=\"evenodd\" fill-opacity=\"1\" /><path clip-path=\"url(#clip470)\" d=\"M 0 0 M1540.62 9.54393 L1548.08 9.54393 L1548.08 72.576 L1540.62 72.576 L1540.62 9.54393 Z\" fill=\"#000000\" fill-rule=\"evenodd\" fill-opacity=\"1\" /><path clip-path=\"url(#clip470)\" d=\"M 0 0 M1573.48 32.4315 Q1567.48 32.4315 1564 37.1306 Q1560.51 41.7891 1560.51 49.9314 Q1560.51 58.0738 1563.96 62.7728 Q1567.44 67.4314 1573.48 67.4314 Q1579.43 67.4314 1582.92 62.7323 Q1586.4 58.0333 1586.4 49.9314 Q1586.4 41.8701 1582.92 37.1711 Q1579.43 32.4315 1573.48 32.4315 M1573.48 26.1121 Q1583.2 26.1121 1588.75 32.4315 Q1594.3 38.7509 1594.3 49.9314 Q1594.3 61.0714 1588.75 67.4314 Q1583.2 73.7508 1573.48 73.7508 Q1563.71 73.7508 1558.16 67.4314 Q1552.66 61.0714 1552.66 49.9314 Q1552.66 38.7509 1558.16 32.4315 Q1563.71 26.1121 1573.48 26.1121 Z\" fill=\"#000000\" fill-rule=\"evenodd\" fill-opacity=\"1\" /><path clip-path=\"url(#clip470)\" d=\"M 0 0 M1609.49 14.324 L1609.49 27.2059 L1624.84 27.2059 L1624.84 32.9987 L1609.49 32.9987 L1609.49 57.6282 Q1609.49 63.1779 1610.99 64.7578 Q1612.53 66.3376 1617.19 66.3376 L1624.84 66.3376 L1624.84 72.576 L1617.19 72.576 Q1608.56 72.576 1605.28 69.3758 Q1602 66.1351 1602 57.6282 L1602 32.9987 L1596.53 32.9987 L1596.53 27.2059 L1602 27.2059 L1602 14.324 L1609.49 14.324 Z\" fill=\"#000000\" fill-rule=\"evenodd\" fill-opacity=\"1\" /><polyline clip-path=\"url(#clip472)\" style=\"stroke:#009af9; stroke-width:4; stroke-opacity:1; fill:none\" points=\"\n",
       "  266.488,715.962 491.544,699.785 716.6,754.55 941.656,628.136 1166.71,747.451 1391.77,851.199 1616.82,698.155 1841.88,648.358 2066.93,618.633 2291.99,786.84 \n",
       "  \n",
       "  \"/>\n",
       "<polyline clip-path=\"url(#clip472)\" style=\"stroke:#e26f46; stroke-width:4; stroke-opacity:1; fill:none\" points=\"\n",
       "  266.488,668.632 491.544,714.286 716.6,749.582 941.656,556.835 1166.71,794.228 1391.77,749.387 1616.82,854.261 1841.88,731.704 2066.93,786.047 2291.99,628.868 \n",
       "  \n",
       "  \"/>\n",
       "<circle clip-path=\"url(#clip472)\" cx=\"266.488\" cy=\"1062.73\" r=\"14\" fill=\"#3da44d\" fill-rule=\"evenodd\" fill-opacity=\"1\" stroke=\"#000000\" stroke-opacity=\"1\" stroke-width=\"3.2\"/>\n",
       "<circle clip-path=\"url(#clip472)\" cx=\"491.544\" cy=\"951.245\" r=\"14\" fill=\"#3da44d\" fill-rule=\"evenodd\" fill-opacity=\"1\" stroke=\"#000000\" stroke-opacity=\"1\" stroke-width=\"3.2\"/>\n",
       "<circle clip-path=\"url(#clip472)\" cx=\"716.6\" cy=\"963.203\" r=\"14\" fill=\"#3da44d\" fill-rule=\"evenodd\" fill-opacity=\"1\" stroke=\"#000000\" stroke-opacity=\"1\" stroke-width=\"3.2\"/>\n",
       "<circle clip-path=\"url(#clip472)\" cx=\"941.656\" cy=\"799.621\" r=\"14\" fill=\"#3da44d\" fill-rule=\"evenodd\" fill-opacity=\"1\" stroke=\"#000000\" stroke-opacity=\"1\" stroke-width=\"3.2\"/>\n",
       "<circle clip-path=\"url(#clip472)\" cx=\"1166.71\" cy=\"1071.14\" r=\"14\" fill=\"#3da44d\" fill-rule=\"evenodd\" fill-opacity=\"1\" stroke=\"#000000\" stroke-opacity=\"1\" stroke-width=\"3.2\"/>\n",
       "<circle clip-path=\"url(#clip472)\" cx=\"1391.77\" cy=\"602.532\" r=\"14\" fill=\"#3da44d\" fill-rule=\"evenodd\" fill-opacity=\"1\" stroke=\"#000000\" stroke-opacity=\"1\" stroke-width=\"3.2\"/>\n",
       "<circle clip-path=\"url(#clip472)\" cx=\"1616.82\" cy=\"160.256\" r=\"14\" fill=\"#3da44d\" fill-rule=\"evenodd\" fill-opacity=\"1\" stroke=\"#000000\" stroke-opacity=\"1\" stroke-width=\"3.2\"/>\n",
       "<circle clip-path=\"url(#clip472)\" cx=\"1841.88\" cy=\"544.302\" r=\"14\" fill=\"#3da44d\" fill-rule=\"evenodd\" fill-opacity=\"1\" stroke=\"#000000\" stroke-opacity=\"1\" stroke-width=\"3.2\"/>\n",
       "<circle clip-path=\"url(#clip472)\" cx=\"2066.93\" cy=\"793.779\" r=\"14\" fill=\"#3da44d\" fill-rule=\"evenodd\" fill-opacity=\"1\" stroke=\"#000000\" stroke-opacity=\"1\" stroke-width=\"3.2\"/>\n",
       "<circle clip-path=\"url(#clip472)\" cx=\"2291.99\" cy=\"1386.4\" r=\"14\" fill=\"#3da44d\" fill-rule=\"evenodd\" fill-opacity=\"1\" stroke=\"#000000\" stroke-opacity=\"1\" stroke-width=\"3.2\"/>\n",
       "<path clip-path=\"url(#clip470)\" d=\"\n",
       "M1893.9 408.716 L2281.19 408.716 L2281.19 166.796 L1893.9 166.796  Z\n",
       "  \" fill=\"#ffffff\" fill-rule=\"evenodd\" fill-opacity=\"1\"/>\n",
       "<polyline clip-path=\"url(#clip470)\" style=\"stroke:#000000; stroke-width:4; stroke-opacity:1; fill:none\" points=\"\n",
       "  1893.9,408.716 2281.19,408.716 2281.19,166.796 1893.9,166.796 1893.9,408.716 \n",
       "  \"/>\n",
       "<polyline clip-path=\"url(#clip470)\" style=\"stroke:#009af9; stroke-width:4; stroke-opacity:1; fill:none\" points=\"\n",
       "  1917.76,227.276 2060.89,227.276 \n",
       "  \"/>\n",
       "<path clip-path=\"url(#clip470)\" d=\"M 0 0 M2101.25 208.537 L2101.25 212.079 L2097.18 212.079 Q2094.89 212.079 2093.99 213.005 Q2093.11 213.931 2093.11 216.338 L2093.11 218.63 L2100.12 218.63 L2100.12 221.94 L2093.11 221.94 L2093.11 244.556 L2088.82 244.556 L2088.82 221.94 L2084.75 221.94 L2084.75 218.63 L2088.82 218.63 L2088.82 216.824 Q2088.82 212.496 2090.84 210.528 Q2092.85 208.537 2097.23 208.537 L2101.25 208.537 Z\" fill=\"#000000\" fill-rule=\"evenodd\" fill-opacity=\"1\" /><path clip-path=\"url(#clip470)\" d=\"M 0 0 M2105.72 218.63 L2109.98 218.63 L2109.98 244.556 L2105.72 244.556 L2105.72 218.63 M2105.72 208.537 L2109.98 208.537 L2109.98 213.931 L2105.72 213.931 L2105.72 208.537 Z\" fill=\"#000000\" fill-rule=\"evenodd\" fill-opacity=\"1\" /><path clip-path=\"url(#clip470)\" d=\"M 0 0 M2129.47 222.611 Q2128.75 222.195 2127.9 222.01 Q2127.06 221.801 2126.05 221.801 Q2122.44 221.801 2120.49 224.162 Q2118.57 226.5 2118.57 230.898 L2118.57 244.556 L2114.29 244.556 L2114.29 218.63 L2118.57 218.63 L2118.57 222.658 Q2119.91 220.297 2122.06 219.162 Q2124.22 218.005 2127.3 218.005 Q2127.74 218.005 2128.27 218.074 Q2128.8 218.121 2129.45 218.236 L2129.47 222.611 Z\" fill=\"#000000\" fill-rule=\"evenodd\" fill-opacity=\"1\" /><path clip-path=\"url(#clip470)\" d=\"M 0 0 M2150.47 219.394 L2150.47 223.422 Q2148.66 222.496 2146.72 222.033 Q2144.77 221.57 2142.69 221.57 Q2139.52 221.57 2137.92 222.542 Q2136.35 223.514 2136.35 225.459 Q2136.35 226.94 2137.48 227.797 Q2138.62 228.63 2142.04 229.394 L2143.5 229.718 Q2148.04 230.69 2149.94 232.472 Q2151.86 234.232 2151.86 237.403 Q2151.86 241.014 2148.99 243.121 Q2146.14 245.227 2141.14 245.227 Q2139.06 245.227 2136.79 244.81 Q2134.54 244.417 2132.04 243.607 L2132.04 239.209 Q2134.4 240.435 2136.69 241.06 Q2138.99 241.662 2141.23 241.662 Q2144.24 241.662 2145.86 240.644 Q2147.48 239.602 2147.48 237.727 Q2147.48 235.991 2146.3 235.065 Q2145.14 234.139 2141.19 233.283 L2139.7 232.935 Q2135.75 232.102 2133.99 230.389 Q2132.23 228.653 2132.23 225.644 Q2132.23 221.986 2134.82 219.996 Q2137.41 218.005 2142.18 218.005 Q2144.54 218.005 2146.62 218.352 Q2148.71 218.699 2150.47 219.394 Z\" fill=\"#000000\" fill-rule=\"evenodd\" fill-opacity=\"1\" /><path clip-path=\"url(#clip470)\" d=\"M 0 0 M2160.54 211.269 L2160.54 218.63 L2169.31 218.63 L2169.31 221.94 L2160.54 221.94 L2160.54 236.014 Q2160.54 239.185 2161.39 240.088 Q2162.27 240.991 2164.93 240.991 L2169.31 240.991 L2169.31 244.556 L2164.93 244.556 Q2160 244.556 2158.13 242.727 Q2156.25 240.875 2156.25 236.014 L2156.25 221.94 L2153.13 221.94 L2153.13 218.63 L2156.25 218.63 L2156.25 211.269 L2160.54 211.269 Z\" fill=\"#000000\" fill-rule=\"evenodd\" fill-opacity=\"1\" /><polyline clip-path=\"url(#clip470)\" style=\"stroke:#e26f46; stroke-width:4; stroke-opacity:1; fill:none\" points=\"\n",
       "  1917.76,287.756 2060.89,287.756 \n",
       "  \"/>\n",
       "<path clip-path=\"url(#clip470)\" d=\"M 0 0 M2103.18 279.874 L2103.18 283.902 Q2101.37 282.976 2099.43 282.513 Q2097.48 282.05 2095.4 282.05 Q2092.23 282.05 2090.63 283.022 Q2089.06 283.994 2089.06 285.939 Q2089.06 287.42 2090.19 288.277 Q2091.32 289.11 2094.75 289.874 L2096.21 290.198 Q2100.75 291.17 2102.64 292.952 Q2104.56 294.712 2104.56 297.883 Q2104.56 301.494 2101.69 303.601 Q2098.85 305.707 2093.85 305.707 Q2091.76 305.707 2089.5 305.29 Q2087.25 304.897 2084.75 304.087 L2084.75 299.689 Q2087.11 300.915 2089.4 301.54 Q2091.69 302.142 2093.94 302.142 Q2096.95 302.142 2098.57 301.124 Q2100.19 300.082 2100.19 298.207 Q2100.19 296.471 2099.01 295.545 Q2097.85 294.619 2093.89 293.763 L2092.41 293.415 Q2088.45 292.582 2086.69 290.869 Q2084.94 289.133 2084.94 286.124 Q2084.94 282.466 2087.53 280.476 Q2090.12 278.485 2094.89 278.485 Q2097.25 278.485 2099.33 278.832 Q2101.42 279.179 2103.18 279.874 Z\" fill=\"#000000\" fill-rule=\"evenodd\" fill-opacity=\"1\" /><path clip-path=\"url(#clip470)\" d=\"M 0 0 M2131.21 291.008 L2131.21 293.091 L2111.63 293.091 Q2111.9 297.489 2114.26 299.804 Q2116.65 302.096 2120.88 302.096 Q2123.34 302.096 2125.63 301.494 Q2127.94 300.892 2130.21 299.689 L2130.21 303.716 Q2127.92 304.688 2125.51 305.198 Q2123.11 305.707 2120.63 305.707 Q2114.43 305.707 2110.79 302.096 Q2107.18 298.485 2107.18 292.327 Q2107.18 285.962 2110.61 282.235 Q2114.06 278.485 2119.89 278.485 Q2125.12 278.485 2128.15 281.865 Q2131.21 285.221 2131.21 291.008 M2126.95 289.758 Q2126.9 286.263 2124.98 284.179 Q2123.08 282.096 2119.94 282.096 Q2116.37 282.096 2114.22 284.11 Q2112.09 286.124 2111.76 289.781 L2126.95 289.758 Z\" fill=\"#000000\" fill-rule=\"evenodd\" fill-opacity=\"1\" /><path clip-path=\"url(#clip470)\" d=\"M 0 0 M2154.33 280.105 L2154.33 284.087 Q2152.53 283.091 2150.7 282.605 Q2148.89 282.096 2147.04 282.096 Q2142.9 282.096 2140.61 284.735 Q2138.31 287.351 2138.31 292.096 Q2138.31 296.841 2140.61 299.48 Q2142.9 302.096 2147.04 302.096 Q2148.89 302.096 2150.7 301.61 Q2152.53 301.101 2154.33 300.105 L2154.33 304.04 Q2152.55 304.874 2150.63 305.29 Q2148.73 305.707 2146.58 305.707 Q2140.72 305.707 2137.27 302.026 Q2133.82 298.346 2133.82 292.096 Q2133.82 285.753 2137.3 282.119 Q2140.79 278.485 2146.86 278.485 Q2148.82 278.485 2150.7 278.902 Q2152.57 279.295 2154.33 280.105 Z\" fill=\"#000000\" fill-rule=\"evenodd\" fill-opacity=\"1\" /><path clip-path=\"url(#clip470)\" d=\"M 0 0 M2168.85 282.096 Q2165.42 282.096 2163.43 284.781 Q2161.44 287.443 2161.44 292.096 Q2161.44 296.749 2163.41 299.434 Q2165.4 302.096 2168.85 302.096 Q2172.25 302.096 2174.24 299.411 Q2176.23 296.726 2176.23 292.096 Q2176.23 287.49 2174.24 284.804 Q2172.25 282.096 2168.85 282.096 M2168.85 278.485 Q2174.4 278.485 2177.57 282.096 Q2180.75 285.707 2180.75 292.096 Q2180.75 298.462 2177.57 302.096 Q2174.4 305.707 2168.85 305.707 Q2163.27 305.707 2160.1 302.096 Q2156.95 298.462 2156.95 292.096 Q2156.95 285.707 2160.1 282.096 Q2163.27 278.485 2168.85 278.485 Z\" fill=\"#000000\" fill-rule=\"evenodd\" fill-opacity=\"1\" /><path clip-path=\"url(#clip470)\" d=\"M 0 0 M2206.76 289.388 L2206.76 305.036 L2202.5 305.036 L2202.5 289.527 Q2202.5 285.846 2201.07 284.017 Q2199.63 282.189 2196.76 282.189 Q2193.31 282.189 2191.32 284.388 Q2189.33 286.587 2189.33 290.383 L2189.33 305.036 L2185.05 305.036 L2185.05 279.11 L2189.33 279.11 L2189.33 283.138 Q2190.86 280.8 2192.92 279.642 Q2195 278.485 2197.71 278.485 Q2202.18 278.485 2204.47 281.263 Q2206.76 284.017 2206.76 289.388 Z\" fill=\"#000000\" fill-rule=\"evenodd\" fill-opacity=\"1\" /><path clip-path=\"url(#clip470)\" d=\"M 0 0 M2228.29 283.045 L2228.29 269.017 L2232.55 269.017 L2232.55 305.036 L2228.29 305.036 L2228.29 301.147 Q2226.95 303.462 2224.89 304.596 Q2222.85 305.707 2219.98 305.707 Q2215.28 305.707 2212.32 301.957 Q2209.38 298.207 2209.38 292.096 Q2209.38 285.985 2212.32 282.235 Q2215.28 278.485 2219.98 278.485 Q2222.85 278.485 2224.89 279.619 Q2226.95 280.73 2228.29 283.045 M2213.78 292.096 Q2213.78 296.795 2215.7 299.48 Q2217.64 302.142 2221.02 302.142 Q2224.4 302.142 2226.35 299.48 Q2228.29 296.795 2228.29 292.096 Q2228.29 287.397 2226.35 284.735 Q2224.4 282.05 2221.02 282.05 Q2217.64 282.05 2215.7 284.735 Q2213.78 287.397 2213.78 292.096 Z\" fill=\"#000000\" fill-rule=\"evenodd\" fill-opacity=\"1\" /><circle clip-path=\"url(#clip470)\" cx=\"1989.33\" cy=\"348.236\" r=\"23\" fill=\"#3da44d\" fill-rule=\"evenodd\" fill-opacity=\"1\" stroke=\"#000000\" stroke-opacity=\"1\" stroke-width=\"5.12\"/>\n",
       "<path clip-path=\"url(#clip470)\" d=\"M 0 0 M2103.18 340.354 L2103.18 344.382 Q2101.37 343.456 2099.43 342.993 Q2097.48 342.53 2095.4 342.53 Q2092.23 342.53 2090.63 343.502 Q2089.06 344.474 2089.06 346.419 Q2089.06 347.9 2090.19 348.757 Q2091.32 349.59 2094.75 350.354 L2096.21 350.678 Q2100.75 351.65 2102.64 353.432 Q2104.56 355.192 2104.56 358.363 Q2104.56 361.974 2101.69 364.081 Q2098.85 366.187 2093.85 366.187 Q2091.76 366.187 2089.5 365.77 Q2087.25 365.377 2084.75 364.567 L2084.75 360.169 Q2087.11 361.395 2089.4 362.02 Q2091.69 362.622 2093.94 362.622 Q2096.95 362.622 2098.57 361.604 Q2100.19 360.562 2100.19 358.687 Q2100.19 356.951 2099.01 356.025 Q2097.85 355.099 2093.89 354.243 L2092.41 353.895 Q2088.45 353.062 2086.69 351.349 Q2084.94 349.613 2084.94 346.604 Q2084.94 342.946 2087.53 340.956 Q2090.12 338.965 2094.89 338.965 Q2097.25 338.965 2099.33 339.312 Q2101.42 339.659 2103.18 340.354 Z\" fill=\"#000000\" fill-rule=\"evenodd\" fill-opacity=\"1\" /><path clip-path=\"url(#clip470)\" d=\"M 0 0 M2127.69 340.585 L2127.69 344.567 Q2125.88 343.571 2124.06 343.085 Q2122.25 342.576 2120.4 342.576 Q2116.25 342.576 2113.96 345.215 Q2111.67 347.831 2111.67 352.576 Q2111.67 357.321 2113.96 359.96 Q2116.25 362.576 2120.4 362.576 Q2122.25 362.576 2124.06 362.09 Q2125.88 361.581 2127.69 360.585 L2127.69 364.52 Q2125.91 365.354 2123.99 365.77 Q2122.09 366.187 2119.94 366.187 Q2114.08 366.187 2110.63 362.506 Q2107.18 358.826 2107.18 352.576 Q2107.18 346.233 2110.65 342.599 Q2114.15 338.965 2120.21 338.965 Q2122.18 338.965 2124.06 339.382 Q2125.93 339.775 2127.69 340.585 Z\" fill=\"#000000\" fill-rule=\"evenodd\" fill-opacity=\"1\" /><path clip-path=\"url(#clip470)\" d=\"M 0 0 M2143.94 352.483 Q2138.78 352.483 2136.79 353.664 Q2134.8 354.844 2134.8 357.692 Q2134.8 359.96 2136.28 361.303 Q2137.78 362.622 2140.35 362.622 Q2143.89 362.622 2146.02 360.122 Q2148.18 357.599 2148.18 353.432 L2148.18 352.483 L2143.94 352.483 M2152.44 350.724 L2152.44 365.516 L2148.18 365.516 L2148.18 361.581 Q2146.72 363.942 2144.54 365.076 Q2142.37 366.187 2139.22 366.187 Q2135.24 366.187 2132.87 363.965 Q2130.54 361.719 2130.54 357.969 Q2130.54 353.594 2133.45 351.372 Q2136.39 349.15 2142.2 349.15 L2148.18 349.15 L2148.18 348.733 Q2148.18 345.794 2146.23 344.196 Q2144.31 342.576 2140.81 342.576 Q2138.59 342.576 2136.49 343.108 Q2134.38 343.641 2132.44 344.706 L2132.44 340.77 Q2134.77 339.868 2136.97 339.428 Q2139.17 338.965 2141.25 338.965 Q2146.88 338.965 2149.66 341.882 Q2152.44 344.798 2152.44 350.724 Z\" fill=\"#000000\" fill-rule=\"evenodd\" fill-opacity=\"1\" /><path clip-path=\"url(#clip470)\" d=\"M 0 0 M2161.12 332.229 L2161.12 339.59 L2169.89 339.59 L2169.89 342.9 L2161.12 342.9 L2161.12 356.974 Q2161.12 360.145 2161.97 361.048 Q2162.85 361.951 2165.51 361.951 L2169.89 361.951 L2169.89 365.516 L2165.51 365.516 Q2160.58 365.516 2158.71 363.687 Q2156.83 361.835 2156.83 356.974 L2156.83 342.9 L2153.71 342.9 L2153.71 339.59 L2156.83 339.59 L2156.83 332.229 L2161.12 332.229 Z\" fill=\"#000000\" fill-rule=\"evenodd\" fill-opacity=\"1\" /><path clip-path=\"url(#clip470)\" d=\"M 0 0 M2178.57 332.229 L2178.57 339.59 L2187.34 339.59 L2187.34 342.9 L2178.57 342.9 L2178.57 356.974 Q2178.57 360.145 2179.43 361.048 Q2180.31 361.951 2182.97 361.951 L2187.34 361.951 L2187.34 365.516 L2182.97 365.516 Q2178.04 365.516 2176.16 363.687 Q2174.29 361.835 2174.29 356.974 L2174.29 342.9 L2171.16 342.9 L2171.16 339.59 L2174.29 339.59 L2174.29 332.229 L2178.57 332.229 Z\" fill=\"#000000\" fill-rule=\"evenodd\" fill-opacity=\"1\" /><path clip-path=\"url(#clip470)\" d=\"M 0 0 M2213.99 351.488 L2213.99 353.571 L2194.4 353.571 Q2194.68 357.969 2197.04 360.284 Q2199.43 362.576 2203.66 362.576 Q2206.12 362.576 2208.41 361.974 Q2210.72 361.372 2212.99 360.169 L2212.99 364.196 Q2210.7 365.168 2208.29 365.678 Q2205.88 366.187 2203.41 366.187 Q2197.2 366.187 2193.57 362.576 Q2189.96 358.965 2189.96 352.807 Q2189.96 346.442 2193.38 342.715 Q2196.83 338.965 2202.67 338.965 Q2207.9 338.965 2210.93 342.345 Q2213.99 345.701 2213.99 351.488 M2209.73 350.238 Q2209.68 346.743 2207.76 344.659 Q2205.86 342.576 2202.71 342.576 Q2199.15 342.576 2197 344.59 Q2194.87 346.604 2194.54 350.261 L2209.73 350.238 Z\" fill=\"#000000\" fill-rule=\"evenodd\" fill-opacity=\"1\" /><path clip-path=\"url(#clip470)\" d=\"M 0 0 M2233.48 343.571 Q2232.76 343.155 2231.9 342.97 Q2231.07 342.761 2230.05 342.761 Q2226.44 342.761 2224.49 345.122 Q2222.57 347.46 2222.57 351.858 L2222.57 365.516 L2218.29 365.516 L2218.29 339.59 L2222.57 339.59 L2222.57 343.618 Q2223.92 341.257 2226.07 340.122 Q2228.22 338.965 2231.3 338.965 Q2231.74 338.965 2232.27 339.034 Q2232.8 339.081 2233.45 339.196 L2233.48 343.571 Z\" fill=\"#000000\" fill-rule=\"evenodd\" fill-opacity=\"1\" /></svg>\n"
      ]
     },
     "execution_count": 109,
     "metadata": {},
     "output_type": "execute_result"
    }
   ],
   "source": [
    "using Plots\n",
    "\n",
    "plot(1:10, rand(10), label=\"first\")\n",
    "plot!(1:10, rand(10), label=\"second\") # adding to current figure using plot!\n",
    "\n",
    "scatter!([1:10], randn(10), label=\"scatter\")\n",
    "\n",
    "xlabel!(\"x\")\n",
    "ylabel!(\"f(x)\")\n",
    "title!(\"My pretty Julia plot\")"
   ]
  },
  {
   "cell_type": "code",
   "execution_count": 110,
   "metadata": {},
   "outputs": [
    {
     "data": {
      "image/svg+xml": [
       "<?xml version=\"1.0\" encoding=\"utf-8\"?>\n",
       "<svg xmlns=\"http://www.w3.org/2000/svg\" xmlns:xlink=\"http://www.w3.org/1999/xlink\" width=\"600\" height=\"400\" viewBox=\"0 0 2400 1600\">\n",
       "<defs>\n",
       "  <clipPath id=\"clip510\">\n",
       "    <rect x=\"0\" y=\"0\" width=\"2400\" height=\"1600\"/>\n",
       "  </clipPath>\n",
       "</defs>\n",
       "<path clip-path=\"url(#clip510)\" d=\"\n",
       "M0 1600 L2400 1600 L2400 0 L0 0  Z\n",
       "  \" fill=\"#ffffff\" fill-rule=\"evenodd\" fill-opacity=\"1\"/>\n",
       "<defs>\n",
       "  <clipPath id=\"clip511\">\n",
       "    <rect x=\"480\" y=\"0\" width=\"1681\" height=\"1600\"/>\n",
       "  </clipPath>\n",
       "</defs>\n",
       "<path clip-path=\"url(#clip510)\" d=\"\n",
       "M211.278 1423.18 L2352.76 1423.18 L2352.76 47.2441 L211.278 47.2441  Z\n",
       "  \" fill=\"#ffffff\" fill-rule=\"evenodd\" fill-opacity=\"1\"/>\n",
       "<defs>\n",
       "  <clipPath id=\"clip512\">\n",
       "    <rect x=\"211\" y=\"47\" width=\"2142\" height=\"1377\"/>\n",
       "  </clipPath>\n",
       "</defs>\n",
       "<polyline clip-path=\"url(#clip512)\" style=\"stroke:#000000; stroke-width:2; stroke-opacity:0.1; fill:none\" points=\"\n",
       "  271.886,1423.18 271.886,47.2441 \n",
       "  \"/>\n",
       "<polyline clip-path=\"url(#clip512)\" style=\"stroke:#000000; stroke-width:2; stroke-opacity:0.1; fill:none\" points=\"\n",
       "  776.952,1423.18 776.952,47.2441 \n",
       "  \"/>\n",
       "<polyline clip-path=\"url(#clip512)\" style=\"stroke:#000000; stroke-width:2; stroke-opacity:0.1; fill:none\" points=\"\n",
       "  1282.02,1423.18 1282.02,47.2441 \n",
       "  \"/>\n",
       "<polyline clip-path=\"url(#clip512)\" style=\"stroke:#000000; stroke-width:2; stroke-opacity:0.1; fill:none\" points=\"\n",
       "  1787.08,1423.18 1787.08,47.2441 \n",
       "  \"/>\n",
       "<polyline clip-path=\"url(#clip512)\" style=\"stroke:#000000; stroke-width:2; stroke-opacity:0.1; fill:none\" points=\"\n",
       "  2292.15,1423.18 2292.15,47.2441 \n",
       "  \"/>\n",
       "<polyline clip-path=\"url(#clip510)\" style=\"stroke:#000000; stroke-width:4; stroke-opacity:1; fill:none\" points=\"\n",
       "  211.278,1423.18 2352.76,1423.18 \n",
       "  \"/>\n",
       "<polyline clip-path=\"url(#clip510)\" style=\"stroke:#000000; stroke-width:4; stroke-opacity:1; fill:none\" points=\"\n",
       "  271.886,1423.18 271.886,1406.67 \n",
       "  \"/>\n",
       "<polyline clip-path=\"url(#clip510)\" style=\"stroke:#000000; stroke-width:4; stroke-opacity:1; fill:none\" points=\"\n",
       "  776.952,1423.18 776.952,1406.67 \n",
       "  \"/>\n",
       "<polyline clip-path=\"url(#clip510)\" style=\"stroke:#000000; stroke-width:4; stroke-opacity:1; fill:none\" points=\"\n",
       "  1282.02,1423.18 1282.02,1406.67 \n",
       "  \"/>\n",
       "<polyline clip-path=\"url(#clip510)\" style=\"stroke:#000000; stroke-width:4; stroke-opacity:1; fill:none\" points=\"\n",
       "  1787.08,1423.18 1787.08,1406.67 \n",
       "  \"/>\n",
       "<polyline clip-path=\"url(#clip510)\" style=\"stroke:#000000; stroke-width:4; stroke-opacity:1; fill:none\" points=\"\n",
       "  2292.15,1423.18 2292.15,1406.67 \n",
       "  \"/>\n",
       "<path clip-path=\"url(#clip510)\" d=\"M 0 0 M253.403 1452.37 Q249.791 1452.37 247.963 1455.94 Q246.157 1459.48 246.157 1466.61 Q246.157 1473.71 247.963 1477.28 Q249.791 1480.82 253.403 1480.82 Q257.037 1480.82 258.842 1477.28 Q260.671 1473.71 260.671 1466.61 Q260.671 1459.48 258.842 1455.94 Q257.037 1452.37 253.403 1452.37 M253.403 1448.67 Q259.213 1448.67 262.268 1453.27 Q265.347 1457.86 265.347 1466.61 Q265.347 1475.33 262.268 1479.94 Q259.213 1484.52 253.403 1484.52 Q247.592 1484.52 244.514 1479.94 Q241.458 1475.33 241.458 1466.61 Q241.458 1457.86 244.514 1453.27 Q247.592 1448.67 253.403 1448.67 Z\" fill=\"#000000\" fill-rule=\"evenodd\" fill-opacity=\"1\" /><path clip-path=\"url(#clip510)\" d=\"M 0 0 M270.416 1477.97 L275.301 1477.97 L275.301 1483.85 L270.416 1483.85 L270.416 1477.97 Z\" fill=\"#000000\" fill-rule=\"evenodd\" fill-opacity=\"1\" /><path clip-path=\"url(#clip510)\" d=\"M 0 0 M290.37 1452.37 Q286.759 1452.37 284.93 1455.94 Q283.125 1459.48 283.125 1466.61 Q283.125 1473.71 284.93 1477.28 Q286.759 1480.82 290.37 1480.82 Q294.004 1480.82 295.81 1477.28 Q297.638 1473.71 297.638 1466.61 Q297.638 1459.48 295.81 1455.94 Q294.004 1452.37 290.37 1452.37 M290.37 1448.67 Q296.18 1448.67 299.236 1453.27 Q302.314 1457.86 302.314 1466.61 Q302.314 1475.33 299.236 1479.94 Q296.18 1484.52 290.37 1484.52 Q284.56 1484.52 281.481 1479.94 Q278.426 1475.33 278.426 1466.61 Q278.426 1457.86 281.481 1453.27 Q284.56 1448.67 290.37 1448.67 Z\" fill=\"#000000\" fill-rule=\"evenodd\" fill-opacity=\"1\" /><path clip-path=\"url(#clip510)\" d=\"M 0 0 M753.618 1479.92 L769.938 1479.92 L769.938 1483.85 L747.993 1483.85 L747.993 1479.92 Q750.656 1477.16 755.239 1472.53 Q759.845 1467.88 761.026 1466.54 Q763.271 1464.01 764.151 1462.28 Q765.054 1460.52 765.054 1458.83 Q765.054 1456.07 763.109 1454.34 Q761.188 1452.6 758.086 1452.6 Q755.887 1452.6 753.433 1453.37 Q751.003 1454.13 748.225 1455.68 L748.225 1450.96 Q751.049 1449.82 753.503 1449.25 Q755.956 1448.67 757.993 1448.67 Q763.364 1448.67 766.558 1451.35 Q769.753 1454.04 769.753 1458.53 Q769.753 1460.66 768.942 1462.58 Q768.155 1464.48 766.049 1467.07 Q765.47 1467.74 762.368 1470.96 Q759.267 1474.15 753.618 1479.92 Z\" fill=\"#000000\" fill-rule=\"evenodd\" fill-opacity=\"1\" /><path clip-path=\"url(#clip510)\" d=\"M 0 0 M775.007 1477.97 L779.891 1477.97 L779.891 1483.85 L775.007 1483.85 L775.007 1477.97 Z\" fill=\"#000000\" fill-rule=\"evenodd\" fill-opacity=\"1\" /><path clip-path=\"url(#clip510)\" d=\"M 0 0 M785.007 1449.29 L803.364 1449.29 L803.364 1453.23 L789.29 1453.23 L789.29 1461.7 Q790.308 1461.35 791.327 1461.19 Q792.345 1461 793.364 1461 Q799.151 1461 802.53 1464.18 Q805.91 1467.35 805.91 1472.76 Q805.91 1478.34 802.438 1481.44 Q798.965 1484.52 792.646 1484.52 Q790.47 1484.52 788.202 1484.15 Q785.956 1483.78 783.549 1483.04 L783.549 1478.34 Q785.632 1479.48 787.854 1480.03 Q790.077 1480.59 792.553 1480.59 Q796.558 1480.59 798.896 1478.48 Q801.234 1476.38 801.234 1472.76 Q801.234 1469.15 798.896 1467.05 Q796.558 1464.94 792.553 1464.94 Q790.678 1464.94 788.803 1465.36 Q786.952 1465.77 785.007 1466.65 L785.007 1449.29 Z\" fill=\"#000000\" fill-rule=\"evenodd\" fill-opacity=\"1\" /><path clip-path=\"url(#clip510)\" d=\"M 0 0 M1253.81 1449.29 L1272.17 1449.29 L1272.17 1453.23 L1258.09 1453.23 L1258.09 1461.7 Q1259.11 1461.35 1260.13 1461.19 Q1261.15 1461 1262.17 1461 Q1267.95 1461 1271.33 1464.18 Q1274.71 1467.35 1274.71 1472.76 Q1274.71 1478.34 1271.24 1481.44 Q1267.77 1484.52 1261.45 1484.52 Q1259.27 1484.52 1257.01 1484.15 Q1254.76 1483.78 1252.35 1483.04 L1252.35 1478.34 Q1254.44 1479.48 1256.66 1480.03 Q1258.88 1480.59 1261.36 1480.59 Q1265.36 1480.59 1267.7 1478.48 Q1270.04 1476.38 1270.04 1472.76 Q1270.04 1469.15 1267.7 1467.05 Q1265.36 1464.94 1261.36 1464.94 Q1259.48 1464.94 1257.61 1465.36 Q1255.76 1465.77 1253.81 1466.65 L1253.81 1449.29 Z\" fill=\"#000000\" fill-rule=\"evenodd\" fill-opacity=\"1\" /><path clip-path=\"url(#clip510)\" d=\"M 0 0 M1279.78 1477.97 L1284.67 1477.97 L1284.67 1483.85 L1279.78 1483.85 L1279.78 1477.97 Z\" fill=\"#000000\" fill-rule=\"evenodd\" fill-opacity=\"1\" /><path clip-path=\"url(#clip510)\" d=\"M 0 0 M1299.74 1452.37 Q1296.13 1452.37 1294.3 1455.94 Q1292.49 1459.48 1292.49 1466.61 Q1292.49 1473.71 1294.3 1477.28 Q1296.13 1480.82 1299.74 1480.82 Q1303.37 1480.82 1305.18 1477.28 Q1307.01 1473.71 1307.01 1466.61 Q1307.01 1459.48 1305.18 1455.94 Q1303.37 1452.37 1299.74 1452.37 M1299.74 1448.67 Q1305.55 1448.67 1308.6 1453.27 Q1311.68 1457.86 1311.68 1466.61 Q1311.68 1475.33 1308.6 1479.94 Q1305.55 1484.52 1299.74 1484.52 Q1293.93 1484.52 1290.85 1479.94 Q1287.79 1475.33 1287.79 1466.61 Q1287.79 1457.86 1290.85 1453.27 Q1293.93 1448.67 1299.74 1448.67 Z\" fill=\"#000000\" fill-rule=\"evenodd\" fill-opacity=\"1\" /><path clip-path=\"url(#clip510)\" d=\"M 0 0 M1757.99 1449.29 L1780.21 1449.29 L1780.21 1451.28 L1767.66 1483.85 L1762.78 1483.85 L1774.58 1453.23 L1757.99 1453.23 L1757.99 1449.29 Z\" fill=\"#000000\" fill-rule=\"evenodd\" fill-opacity=\"1\" /><path clip-path=\"url(#clip510)\" d=\"M 0 0 M1785.28 1477.97 L1790.16 1477.97 L1790.16 1483.85 L1785.28 1483.85 L1785.28 1477.97 Z\" fill=\"#000000\" fill-rule=\"evenodd\" fill-opacity=\"1\" /><path clip-path=\"url(#clip510)\" d=\"M 0 0 M1795.28 1449.29 L1813.63 1449.29 L1813.63 1453.23 L1799.56 1453.23 L1799.56 1461.7 Q1800.58 1461.35 1801.6 1461.19 Q1802.61 1461 1803.63 1461 Q1809.42 1461 1812.8 1464.18 Q1816.18 1467.35 1816.18 1472.76 Q1816.18 1478.34 1812.71 1481.44 Q1809.24 1484.52 1802.92 1484.52 Q1800.74 1484.52 1798.47 1484.15 Q1796.23 1483.78 1793.82 1483.04 L1793.82 1478.34 Q1795.9 1479.48 1798.12 1480.03 Q1800.35 1480.59 1802.82 1480.59 Q1806.83 1480.59 1809.17 1478.48 Q1811.5 1476.38 1811.5 1472.76 Q1811.5 1469.15 1809.17 1467.05 Q1806.83 1464.94 1802.82 1464.94 Q1800.95 1464.94 1799.07 1465.36 Q1797.22 1465.77 1795.28 1466.65 L1795.28 1449.29 Z\" fill=\"#000000\" fill-rule=\"evenodd\" fill-opacity=\"1\" /><path clip-path=\"url(#clip510)\" d=\"M 0 0 M2250.54 1479.92 L2258.18 1479.92 L2258.18 1453.55 L2249.87 1455.22 L2249.87 1450.96 L2258.13 1449.29 L2262.81 1449.29 L2262.81 1479.92 L2270.45 1479.92 L2270.45 1483.85 L2250.54 1483.85 L2250.54 1479.92 Z\" fill=\"#000000\" fill-rule=\"evenodd\" fill-opacity=\"1\" /><path clip-path=\"url(#clip510)\" d=\"M 0 0 M2285.52 1452.37 Q2281.91 1452.37 2280.08 1455.94 Q2278.27 1459.48 2278.27 1466.61 Q2278.27 1473.71 2280.08 1477.28 Q2281.91 1480.82 2285.52 1480.82 Q2289.15 1480.82 2290.96 1477.28 Q2292.78 1473.71 2292.78 1466.61 Q2292.78 1459.48 2290.96 1455.94 Q2289.15 1452.37 2285.52 1452.37 M2285.52 1448.67 Q2291.33 1448.67 2294.38 1453.27 Q2297.46 1457.86 2297.46 1466.61 Q2297.46 1475.33 2294.38 1479.94 Q2291.33 1484.52 2285.52 1484.52 Q2279.71 1484.52 2276.63 1479.94 Q2273.57 1475.33 2273.57 1466.61 Q2273.57 1457.86 2276.63 1453.27 Q2279.71 1448.67 2285.52 1448.67 Z\" fill=\"#000000\" fill-rule=\"evenodd\" fill-opacity=\"1\" /><path clip-path=\"url(#clip510)\" d=\"M 0 0 M2302.53 1477.97 L2307.41 1477.97 L2307.41 1483.85 L2302.53 1483.85 L2302.53 1477.97 Z\" fill=\"#000000\" fill-rule=\"evenodd\" fill-opacity=\"1\" /><path clip-path=\"url(#clip510)\" d=\"M 0 0 M2322.48 1452.37 Q2318.87 1452.37 2317.04 1455.94 Q2315.24 1459.48 2315.24 1466.61 Q2315.24 1473.71 2317.04 1477.28 Q2318.87 1480.82 2322.48 1480.82 Q2326.12 1480.82 2327.92 1477.28 Q2329.75 1473.71 2329.75 1466.61 Q2329.75 1459.48 2327.92 1455.94 Q2326.12 1452.37 2322.48 1452.37 M2322.48 1448.67 Q2328.29 1448.67 2331.35 1453.27 Q2334.43 1457.86 2334.43 1466.61 Q2334.43 1475.33 2331.35 1479.94 Q2328.29 1484.52 2322.48 1484.52 Q2316.67 1484.52 2313.59 1479.94 Q2310.54 1475.33 2310.54 1466.61 Q2310.54 1457.86 2313.59 1453.27 Q2316.67 1448.67 2322.48 1448.67 Z\" fill=\"#000000\" fill-rule=\"evenodd\" fill-opacity=\"1\" /><path clip-path=\"url(#clip510)\" d=\"M 0 0 M1298.63 1520.4 L1285.74 1537.74 L1299.3 1556.04 L1292.39 1556.04 L1282.02 1542.04 L1271.64 1556.04 L1264.73 1556.04 L1278.58 1537.39 L1265.91 1520.4 L1272.82 1520.4 L1282.27 1533.1 L1291.72 1520.4 L1298.63 1520.4 Z\" fill=\"#000000\" fill-rule=\"evenodd\" fill-opacity=\"1\" /><polyline clip-path=\"url(#clip512)\" style=\"stroke:#000000; stroke-width:2; stroke-opacity:0.1; fill:none\" points=\"\n",
       "  211.278,1152.27 2352.76,1152.27 \n",
       "  \"/>\n",
       "<polyline clip-path=\"url(#clip512)\" style=\"stroke:#000000; stroke-width:2; stroke-opacity:0.1; fill:none\" points=\"\n",
       "  211.278,831.91 2352.76,831.91 \n",
       "  \"/>\n",
       "<polyline clip-path=\"url(#clip512)\" style=\"stroke:#000000; stroke-width:2; stroke-opacity:0.1; fill:none\" points=\"\n",
       "  211.278,511.551 2352.76,511.551 \n",
       "  \"/>\n",
       "<polyline clip-path=\"url(#clip512)\" style=\"stroke:#000000; stroke-width:2; stroke-opacity:0.1; fill:none\" points=\"\n",
       "  211.278,191.193 2352.76,191.193 \n",
       "  \"/>\n",
       "<polyline clip-path=\"url(#clip510)\" style=\"stroke:#000000; stroke-width:4; stroke-opacity:1; fill:none\" points=\"\n",
       "  211.278,1423.18 211.278,47.2441 \n",
       "  \"/>\n",
       "<polyline clip-path=\"url(#clip510)\" style=\"stroke:#000000; stroke-width:4; stroke-opacity:1; fill:none\" points=\"\n",
       "  211.278,1152.27 236.976,1152.27 \n",
       "  \"/>\n",
       "<polyline clip-path=\"url(#clip510)\" style=\"stroke:#000000; stroke-width:4; stroke-opacity:1; fill:none\" points=\"\n",
       "  211.278,831.91 236.976,831.91 \n",
       "  \"/>\n",
       "<polyline clip-path=\"url(#clip510)\" style=\"stroke:#000000; stroke-width:4; stroke-opacity:1; fill:none\" points=\"\n",
       "  211.278,511.551 236.976,511.551 \n",
       "  \"/>\n",
       "<polyline clip-path=\"url(#clip510)\" style=\"stroke:#000000; stroke-width:4; stroke-opacity:1; fill:none\" points=\"\n",
       "  211.278,191.193 236.976,191.193 \n",
       "  \"/>\n",
       "<path clip-path=\"url(#clip510)\" d=\"M 0 0 M126.367 1138.07 Q122.755 1138.07 120.927 1141.63 Q119.121 1145.17 119.121 1152.3 Q119.121 1159.41 120.927 1162.97 Q122.755 1166.52 126.367 1166.52 Q130.001 1166.52 131.806 1162.97 Q133.635 1159.41 133.635 1152.3 Q133.635 1145.17 131.806 1141.63 Q130.001 1138.07 126.367 1138.07 M126.367 1134.36 Q132.177 1134.36 135.232 1138.97 Q138.311 1143.55 138.311 1152.3 Q138.311 1161.03 135.232 1165.64 Q132.177 1170.22 126.367 1170.22 Q120.556 1170.22 117.478 1165.64 Q114.422 1161.03 114.422 1152.3 Q114.422 1143.55 117.478 1138.97 Q120.556 1134.36 126.367 1134.36 Z\" fill=\"#000000\" fill-rule=\"evenodd\" fill-opacity=\"1\" /><path clip-path=\"url(#clip510)\" d=\"M 0 0 M143.38 1163.67 L148.265 1163.67 L148.265 1169.55 L143.38 1169.55 L143.38 1163.67 Z\" fill=\"#000000\" fill-rule=\"evenodd\" fill-opacity=\"1\" /><path clip-path=\"url(#clip510)\" d=\"M 0 0 M163.334 1138.07 Q159.723 1138.07 157.894 1141.63 Q156.089 1145.17 156.089 1152.3 Q156.089 1159.41 157.894 1162.97 Q159.723 1166.52 163.334 1166.52 Q166.968 1166.52 168.774 1162.97 Q170.602 1159.41 170.602 1152.3 Q170.602 1145.17 168.774 1141.63 Q166.968 1138.07 163.334 1138.07 M163.334 1134.36 Q169.144 1134.36 172.2 1138.97 Q175.278 1143.55 175.278 1152.3 Q175.278 1161.03 172.2 1165.64 Q169.144 1170.22 163.334 1170.22 Q157.524 1170.22 154.445 1165.64 Q151.39 1161.03 151.39 1152.3 Q151.39 1143.55 154.445 1138.97 Q157.524 1134.36 163.334 1134.36 Z\" fill=\"#000000\" fill-rule=\"evenodd\" fill-opacity=\"1\" /><path clip-path=\"url(#clip510)\" d=\"M 0 0 M127.015 817.708 Q123.404 817.708 121.575 821.273 Q119.769 824.815 119.769 831.944 Q119.769 839.051 121.575 842.616 Q123.404 846.157 127.015 846.157 Q130.649 846.157 132.455 842.616 Q134.283 839.051 134.283 831.944 Q134.283 824.815 132.455 821.273 Q130.649 817.708 127.015 817.708 M127.015 814.005 Q132.825 814.005 135.88 818.611 Q138.959 823.194 138.959 831.944 Q138.959 840.671 135.88 845.278 Q132.825 849.861 127.015 849.861 Q121.205 849.861 118.126 845.278 Q115.07 840.671 115.07 831.944 Q115.07 823.194 118.126 818.611 Q121.205 814.005 127.015 814.005 Z\" fill=\"#000000\" fill-rule=\"evenodd\" fill-opacity=\"1\" /><path clip-path=\"url(#clip510)\" d=\"M 0 0 M144.029 843.31 L148.913 843.31 L148.913 849.19 L144.029 849.19 L144.029 843.31 Z\" fill=\"#000000\" fill-rule=\"evenodd\" fill-opacity=\"1\" /><path clip-path=\"url(#clip510)\" d=\"M 0 0 M168.149 830.555 Q171.505 831.273 173.38 833.542 Q175.278 835.81 175.278 839.143 Q175.278 844.259 171.76 847.06 Q168.241 849.861 161.76 849.861 Q159.584 849.861 157.269 849.421 Q154.978 849.004 152.524 848.148 L152.524 843.634 Q154.468 844.768 156.783 845.347 Q159.098 845.926 161.621 845.926 Q166.019 845.926 168.311 844.19 Q170.626 842.454 170.626 839.143 Q170.626 836.088 168.473 834.375 Q166.343 832.639 162.524 832.639 L158.496 832.639 L158.496 828.796 L162.709 828.796 Q166.158 828.796 167.987 827.43 Q169.815 826.042 169.815 823.449 Q169.815 820.787 167.917 819.375 Q166.042 817.94 162.524 817.94 Q160.603 817.94 158.403 818.356 Q156.204 818.773 153.566 819.653 L153.566 815.486 Q156.228 814.745 158.542 814.375 Q160.88 814.005 162.94 814.005 Q168.264 814.005 171.366 816.435 Q174.468 818.843 174.468 822.963 Q174.468 825.833 172.825 827.824 Q171.181 829.792 168.149 830.555 Z\" fill=\"#000000\" fill-rule=\"evenodd\" fill-opacity=\"1\" /><path clip-path=\"url(#clip510)\" d=\"M 0 0 M126.205 497.35 Q122.593 497.35 120.765 500.915 Q118.959 504.456 118.959 511.586 Q118.959 518.692 120.765 522.257 Q122.593 525.799 126.205 525.799 Q129.839 525.799 131.644 522.257 Q133.473 518.692 133.473 511.586 Q133.473 504.456 131.644 500.915 Q129.839 497.35 126.205 497.35 M126.205 493.646 Q132.015 493.646 135.07 498.253 Q138.149 502.836 138.149 511.586 Q138.149 520.313 135.07 524.919 Q132.015 529.503 126.205 529.503 Q120.394 529.503 117.316 524.919 Q114.26 520.313 114.26 511.586 Q114.26 502.836 117.316 498.253 Q120.394 493.646 126.205 493.646 Z\" fill=\"#000000\" fill-rule=\"evenodd\" fill-opacity=\"1\" /><path clip-path=\"url(#clip510)\" d=\"M 0 0 M143.218 522.952 L148.103 522.952 L148.103 528.831 L143.218 528.831 L143.218 522.952 Z\" fill=\"#000000\" fill-rule=\"evenodd\" fill-opacity=\"1\" /><path clip-path=\"url(#clip510)\" d=\"M 0 0 M163.751 509.688 Q160.603 509.688 158.751 511.841 Q156.922 513.993 156.922 517.743 Q156.922 521.47 158.751 523.646 Q160.603 525.799 163.751 525.799 Q166.899 525.799 168.727 523.646 Q170.579 521.47 170.579 517.743 Q170.579 513.993 168.727 511.841 Q166.899 509.688 163.751 509.688 M173.033 495.035 L173.033 499.294 Q171.274 498.461 169.468 498.021 Q167.686 497.581 165.927 497.581 Q161.297 497.581 158.843 500.706 Q156.413 503.831 156.065 510.151 Q157.431 508.137 159.491 507.072 Q161.552 505.984 164.028 505.984 Q169.237 505.984 172.246 509.155 Q175.278 512.304 175.278 517.743 Q175.278 523.067 172.13 526.285 Q168.982 529.503 163.751 529.503 Q157.755 529.503 154.584 524.919 Q151.413 520.313 151.413 511.586 Q151.413 503.392 155.302 498.53 Q159.19 493.646 165.741 493.646 Q167.501 493.646 169.283 493.993 Q171.089 494.341 173.033 495.035 Z\" fill=\"#000000\" fill-rule=\"evenodd\" fill-opacity=\"1\" /><path clip-path=\"url(#clip510)\" d=\"M 0 0 M126.552 176.992 Q122.941 176.992 121.112 180.556 Q119.306 184.098 119.306 191.228 Q119.306 198.334 121.112 201.899 Q122.941 205.441 126.552 205.441 Q130.186 205.441 131.992 201.899 Q133.82 198.334 133.82 191.228 Q133.82 184.098 131.992 180.556 Q130.186 176.992 126.552 176.992 M126.552 173.288 Q132.362 173.288 135.417 177.894 Q138.496 182.478 138.496 191.228 Q138.496 199.954 135.417 204.561 Q132.362 209.144 126.552 209.144 Q120.742 209.144 117.663 204.561 Q114.607 199.954 114.607 191.228 Q114.607 182.478 117.663 177.894 Q120.742 173.288 126.552 173.288 Z\" fill=\"#000000\" fill-rule=\"evenodd\" fill-opacity=\"1\" /><path clip-path=\"url(#clip510)\" d=\"M 0 0 M143.566 202.593 L148.45 202.593 L148.45 208.473 L143.566 208.473 L143.566 202.593 Z\" fill=\"#000000\" fill-rule=\"evenodd\" fill-opacity=\"1\" /><path clip-path=\"url(#clip510)\" d=\"M 0 0 M153.658 207.755 L153.658 203.496 Q155.417 204.329 157.223 204.769 Q159.028 205.209 160.765 205.209 Q165.394 205.209 167.825 202.107 Q170.278 198.982 170.626 192.64 Q169.283 194.63 167.223 195.695 Q165.163 196.76 162.663 196.76 Q157.478 196.76 154.445 193.635 Q151.436 190.487 151.436 185.047 Q151.436 179.723 154.584 176.505 Q157.732 173.288 162.964 173.288 Q168.959 173.288 172.107 177.894 Q175.278 182.478 175.278 191.228 Q175.278 199.399 171.389 204.283 Q167.524 209.144 160.973 209.144 Q159.214 209.144 157.408 208.797 Q155.603 208.45 153.658 207.755 M162.964 193.103 Q166.112 193.103 167.94 190.95 Q169.792 188.797 169.792 185.047 Q169.792 181.32 167.94 179.168 Q166.112 176.992 162.964 176.992 Q159.815 176.992 157.964 179.168 Q156.135 181.32 156.135 185.047 Q156.135 188.797 157.964 190.95 Q159.815 193.103 162.964 193.103 Z\" fill=\"#000000\" fill-rule=\"evenodd\" fill-opacity=\"1\" /><path clip-path=\"url(#clip510)\" d=\"M 0 0 M53.4065 814.831 L58.9447 814.831 Q57.6716 817.314 57.035 819.987 Q56.3984 822.661 56.3984 825.525 Q56.3984 829.886 57.7352 832.082 Q59.072 834.246 61.7456 834.246 Q63.7826 834.246 64.9603 832.687 Q66.1061 831.127 67.1565 826.417 L67.6021 824.411 Q68.9389 818.173 71.3897 815.563 Q73.8086 812.921 78.1691 812.921 Q83.1344 812.921 86.0308 816.868 Q88.9272 820.783 88.9272 827.658 Q88.9272 830.523 88.3543 833.642 Q87.8132 836.729 86.6992 840.167 L80.6518 840.167 Q82.3387 836.92 83.198 833.769 Q84.0256 830.618 84.0256 827.531 Q84.0256 823.393 82.6251 821.165 Q81.1929 818.937 78.6147 818.937 Q76.2276 818.937 74.9545 820.56 Q73.6813 822.152 72.5037 827.594 L72.0262 829.631 Q70.8804 835.074 68.5251 837.493 Q66.138 839.912 62.0002 839.912 Q56.9713 839.912 54.2341 836.347 Q51.4968 832.782 51.4968 826.226 Q51.4968 822.979 51.9743 820.115 Q52.4517 817.25 53.4065 814.831 Z\" fill=\"#000000\" fill-rule=\"evenodd\" fill-opacity=\"1\" /><path clip-path=\"url(#clip510)\" d=\"M 0 0 M52.3562 806.778 L52.3562 800.922 L88.0042 800.922 L88.0042 806.778 L52.3562 806.778 M38.479 806.778 L38.479 800.922 L45.895 800.922 L45.895 806.778 L38.479 806.778 Z\" fill=\"#000000\" fill-rule=\"evenodd\" fill-opacity=\"1\" /><path clip-path=\"url(#clip510)\" d=\"M 0 0 M66.4881 765.147 L88.0042 765.147 L88.0042 771.003 L66.679 771.003 Q61.6183 771.003 59.1038 772.977 Q56.5894 774.95 56.5894 778.897 Q56.5894 783.639 59.6131 786.376 Q62.6368 789.114 67.8567 789.114 L88.0042 789.114 L88.0042 795.002 L52.3562 795.002 L52.3562 789.114 L57.8944 789.114 Q54.6797 787.013 53.0883 784.18 Q51.4968 781.316 51.4968 777.592 Q51.4968 771.449 55.3163 768.298 Q59.1038 765.147 66.4881 765.147 Z\" fill=\"#000000\" fill-rule=\"evenodd\" fill-opacity=\"1\" /><path clip-path=\"url(#clip510)\" d=\"M 0 0 M38.5426 744.936 Q45.8632 749.201 53.0246 751.269 Q60.186 753.338 67.5384 753.338 Q74.8908 753.338 82.1159 751.269 Q89.3091 749.169 96.5979 744.936 L96.5979 750.028 Q89.1182 754.802 81.8931 757.19 Q74.668 759.545 67.5384 759.545 Q60.4406 759.545 53.2474 757.19 Q46.0542 754.834 38.5426 750.028 L38.5426 744.936 Z\" fill=\"#000000\" fill-rule=\"evenodd\" fill-opacity=\"1\" /><path clip-path=\"url(#clip510)\" d=\"M 0 0 M52.3562 709.16 L69.7028 722.051 L88.0042 708.492 L88.0042 715.399 L73.9996 725.775 L88.0042 736.151 L88.0042 743.058 L69.3526 729.212 L52.3562 741.88 L52.3562 734.973 L65.0558 725.52 L52.3562 716.067 L52.3562 709.16 Z\" fill=\"#000000\" fill-rule=\"evenodd\" fill-opacity=\"1\" /><path clip-path=\"url(#clip510)\" d=\"M 0 0 M38.5426 703.272 L38.5426 698.179 Q46.0542 693.405 53.2474 691.05 Q60.4406 688.663 67.5384 688.663 Q74.668 688.663 81.8931 691.05 Q89.1182 693.405 96.5979 698.179 L96.5979 703.272 Q89.3091 699.039 82.1159 696.97 Q74.8908 694.869 67.5384 694.869 Q60.186 694.869 53.0246 696.97 Q45.8632 699.039 38.5426 703.272 Z\" fill=\"#000000\" fill-rule=\"evenodd\" fill-opacity=\"1\" /><path clip-path=\"url(#clip510)\" d=\"M 0 0 M40.4842 672.112 L40.4842 666.701 L94.0516 683.252 L94.0516 688.663 L40.4842 672.112 Z\" fill=\"#000000\" fill-rule=\"evenodd\" fill-opacity=\"1\" /><path clip-path=\"url(#clip510)\" d=\"M 0 0 M52.3562 630.926 L69.7028 643.816 L88.0042 630.257 L88.0042 637.164 L73.9996 647.54 L88.0042 657.916 L88.0042 664.823 L69.3526 650.978 L52.3562 663.646 L52.3562 656.739 L65.0558 647.286 L52.3562 637.833 L52.3562 630.926 Z\" fill=\"#000000\" fill-rule=\"evenodd\" fill-opacity=\"1\" /><polyline clip-path=\"url(#clip512)\" style=\"stroke:#ff0000; stroke-width:4; stroke-opacity:1; fill:none\" points=\"\n",
       "  292.089,86.1857 312.291,91.5116 332.494,100.353 352.697,112.656 372.899,128.348 393.102,147.335 413.305,169.504 433.507,194.722 453.71,222.841 473.912,253.694 \n",
       "  494.115,287.099 514.318,322.861 534.52,360.771 554.723,400.608 574.925,442.144 595.128,485.139 615.331,529.35 635.533,574.527 655.736,620.417 675.939,666.766 \n",
       "  696.141,713.321 716.344,759.831 736.546,806.046 756.749,851.726 776.952,896.634 797.154,940.543 817.357,983.237 837.56,1024.51 857.762,1064.17 877.965,1102.04 \n",
       "  898.167,1137.94 918.37,1171.75 938.573,1203.31 958.775,1232.53 978.978,1259.29 999.18,1283.53 1019.38,1305.18 1039.59,1324.21 1059.79,1340.59 1079.99,1354.31 \n",
       "  1100.19,1365.39 1120.4,1373.87 1140.6,1379.79 1160.8,1383.22 1181,1384.24 1201.21,1382.95 1221.41,1379.46 1241.61,1373.89 1261.81,1366.37 1282.02,1357.07 \n",
       "  1302.22,1346.12 1322.42,1333.69 1342.62,1319.96 1362.83,1305.08 1383.03,1289.25 1403.23,1272.64 1423.44,1255.44 1443.64,1237.81 1463.84,1219.94 1484.04,1202 \n",
       "  1504.25,1184.16 1524.45,1166.58 1544.65,1149.42 1564.85,1132.82 1585.06,1116.93 1605.26,1101.86 1625.46,1087.74 1645.66,1074.67 1665.87,1062.75 1686.07,1052.04 \n",
       "  1706.27,1042.63 1726.47,1034.56 1746.68,1027.86 1766.88,1022.58 1787.08,1018.71 1807.29,1016.27 1827.49,1015.23 1847.69,1015.56 1867.89,1017.24 1888.1,1020.21 \n",
       "  1908.3,1024.4 1928.5,1029.76 1948.7,1036.2 1968.91,1043.63 1989.11,1051.95 2009.31,1061.08 2029.51,1070.89 2049.72,1081.29 2069.92,1092.15 2090.12,1103.37 \n",
       "  2110.32,1114.82 2130.53,1126.4 2150.73,1137.98 2170.93,1149.45 2191.13,1160.72 2211.34,1171.66 2231.54,1182.19 2251.74,1192.2 2271.95,1201.62 2292.15,1210.36 \n",
       "  \n",
       "  \"/>\n",
       "<path clip-path=\"url(#clip512)\" d=\"M276.089 70.1857 L276.089 102.186 L308.089 102.186 L308.089 70.1857 L276.089 70.1857 Z\" fill=\"#ff0000\" fill-rule=\"evenodd\" fill-opacity=\"1\" stroke=\"#000000\" stroke-opacity=\"1\" stroke-width=\"3.2\"/>\n",
       "<path clip-path=\"url(#clip512)\" d=\"M296.291 75.5116 L296.291 107.512 L328.291 107.512 L328.291 75.5116 L296.291 75.5116 Z\" fill=\"#ff0000\" fill-rule=\"evenodd\" fill-opacity=\"1\" stroke=\"#000000\" stroke-opacity=\"1\" stroke-width=\"3.2\"/>\n",
       "<path clip-path=\"url(#clip512)\" d=\"M316.494 84.3528 L316.494 116.353 L348.494 116.353 L348.494 84.3528 L316.494 84.3528 Z\" fill=\"#ff0000\" fill-rule=\"evenodd\" fill-opacity=\"1\" stroke=\"#000000\" stroke-opacity=\"1\" stroke-width=\"3.2\"/>\n",
       "<path clip-path=\"url(#clip512)\" d=\"M336.697 96.6561 L336.697 128.656 L368.697 128.656 L368.697 96.6561 L336.697 96.6561 Z\" fill=\"#ff0000\" fill-rule=\"evenodd\" fill-opacity=\"1\" stroke=\"#000000\" stroke-opacity=\"1\" stroke-width=\"3.2\"/>\n",
       "<path clip-path=\"url(#clip512)\" d=\"M356.899 112.348 L356.899 144.348 L388.899 144.348 L388.899 112.348 L356.899 112.348 Z\" fill=\"#ff0000\" fill-rule=\"evenodd\" fill-opacity=\"1\" stroke=\"#000000\" stroke-opacity=\"1\" stroke-width=\"3.2\"/>\n",
       "<path clip-path=\"url(#clip512)\" d=\"M377.102 131.335 L377.102 163.335 L409.102 163.335 L409.102 131.335 L377.102 131.335 Z\" fill=\"#ff0000\" fill-rule=\"evenodd\" fill-opacity=\"1\" stroke=\"#000000\" stroke-opacity=\"1\" stroke-width=\"3.2\"/>\n",
       "<path clip-path=\"url(#clip512)\" d=\"M397.305 153.504 L397.305 185.504 L429.305 185.504 L429.305 153.504 L397.305 153.504 Z\" fill=\"#ff0000\" fill-rule=\"evenodd\" fill-opacity=\"1\" stroke=\"#000000\" stroke-opacity=\"1\" stroke-width=\"3.2\"/>\n",
       "<path clip-path=\"url(#clip512)\" d=\"M417.507 178.722 L417.507 210.722 L449.507 210.722 L449.507 178.722 L417.507 178.722 Z\" fill=\"#ff0000\" fill-rule=\"evenodd\" fill-opacity=\"1\" stroke=\"#000000\" stroke-opacity=\"1\" stroke-width=\"3.2\"/>\n",
       "<path clip-path=\"url(#clip512)\" d=\"M437.71 206.841 L437.71 238.841 L469.71 238.841 L469.71 206.841 L437.71 206.841 Z\" fill=\"#ff0000\" fill-rule=\"evenodd\" fill-opacity=\"1\" stroke=\"#000000\" stroke-opacity=\"1\" stroke-width=\"3.2\"/>\n",
       "<path clip-path=\"url(#clip512)\" d=\"M457.912 237.694 L457.912 269.694 L489.912 269.694 L489.912 237.694 L457.912 237.694 Z\" fill=\"#ff0000\" fill-rule=\"evenodd\" fill-opacity=\"1\" stroke=\"#000000\" stroke-opacity=\"1\" stroke-width=\"3.2\"/>\n",
       "<path clip-path=\"url(#clip512)\" d=\"M478.115 271.099 L478.115 303.099 L510.115 303.099 L510.115 271.099 L478.115 271.099 Z\" fill=\"#ff0000\" fill-rule=\"evenodd\" fill-opacity=\"1\" stroke=\"#000000\" stroke-opacity=\"1\" stroke-width=\"3.2\"/>\n",
       "<path clip-path=\"url(#clip512)\" d=\"M498.318 306.861 L498.318 338.861 L530.318 338.861 L530.318 306.861 L498.318 306.861 Z\" fill=\"#ff0000\" fill-rule=\"evenodd\" fill-opacity=\"1\" stroke=\"#000000\" stroke-opacity=\"1\" stroke-width=\"3.2\"/>\n",
       "<path clip-path=\"url(#clip512)\" d=\"M518.52 344.771 L518.52 376.771 L550.52 376.771 L550.52 344.771 L518.52 344.771 Z\" fill=\"#ff0000\" fill-rule=\"evenodd\" fill-opacity=\"1\" stroke=\"#000000\" stroke-opacity=\"1\" stroke-width=\"3.2\"/>\n",
       "<path clip-path=\"url(#clip512)\" d=\"M538.723 384.608 L538.723 416.608 L570.723 416.608 L570.723 384.608 L538.723 384.608 Z\" fill=\"#ff0000\" fill-rule=\"evenodd\" fill-opacity=\"1\" stroke=\"#000000\" stroke-opacity=\"1\" stroke-width=\"3.2\"/>\n",
       "<path clip-path=\"url(#clip512)\" d=\"M558.925 426.144 L558.925 458.144 L590.925 458.144 L590.925 426.144 L558.925 426.144 Z\" fill=\"#ff0000\" fill-rule=\"evenodd\" fill-opacity=\"1\" stroke=\"#000000\" stroke-opacity=\"1\" stroke-width=\"3.2\"/>\n",
       "<path clip-path=\"url(#clip512)\" d=\"M579.128 469.139 L579.128 501.139 L611.128 501.139 L611.128 469.139 L579.128 469.139 Z\" fill=\"#ff0000\" fill-rule=\"evenodd\" fill-opacity=\"1\" stroke=\"#000000\" stroke-opacity=\"1\" stroke-width=\"3.2\"/>\n",
       "<path clip-path=\"url(#clip512)\" d=\"M599.331 513.35 L599.331 545.35 L631.331 545.35 L631.331 513.35 L599.331 513.35 Z\" fill=\"#ff0000\" fill-rule=\"evenodd\" fill-opacity=\"1\" stroke=\"#000000\" stroke-opacity=\"1\" stroke-width=\"3.2\"/>\n",
       "<path clip-path=\"url(#clip512)\" d=\"M619.533 558.527 L619.533 590.527 L651.533 590.527 L651.533 558.527 L619.533 558.527 Z\" fill=\"#ff0000\" fill-rule=\"evenodd\" fill-opacity=\"1\" stroke=\"#000000\" stroke-opacity=\"1\" stroke-width=\"3.2\"/>\n",
       "<path clip-path=\"url(#clip512)\" d=\"M639.736 604.417 L639.736 636.417 L671.736 636.417 L671.736 604.417 L639.736 604.417 Z\" fill=\"#ff0000\" fill-rule=\"evenodd\" fill-opacity=\"1\" stroke=\"#000000\" stroke-opacity=\"1\" stroke-width=\"3.2\"/>\n",
       "<path clip-path=\"url(#clip512)\" d=\"M659.939 650.766 L659.939 682.766 L691.939 682.766 L691.939 650.766 L659.939 650.766 Z\" fill=\"#ff0000\" fill-rule=\"evenodd\" fill-opacity=\"1\" stroke=\"#000000\" stroke-opacity=\"1\" stroke-width=\"3.2\"/>\n",
       "<path clip-path=\"url(#clip512)\" d=\"M680.141 697.321 L680.141 729.321 L712.141 729.321 L712.141 697.321 L680.141 697.321 Z\" fill=\"#ff0000\" fill-rule=\"evenodd\" fill-opacity=\"1\" stroke=\"#000000\" stroke-opacity=\"1\" stroke-width=\"3.2\"/>\n",
       "<path clip-path=\"url(#clip512)\" d=\"M700.344 743.831 L700.344 775.831 L732.344 775.831 L732.344 743.831 L700.344 743.831 Z\" fill=\"#ff0000\" fill-rule=\"evenodd\" fill-opacity=\"1\" stroke=\"#000000\" stroke-opacity=\"1\" stroke-width=\"3.2\"/>\n",
       "<path clip-path=\"url(#clip512)\" d=\"M720.546 790.046 L720.546 822.046 L752.546 822.046 L752.546 790.046 L720.546 790.046 Z\" fill=\"#ff0000\" fill-rule=\"evenodd\" fill-opacity=\"1\" stroke=\"#000000\" stroke-opacity=\"1\" stroke-width=\"3.2\"/>\n",
       "<path clip-path=\"url(#clip512)\" d=\"M740.749 835.726 L740.749 867.726 L772.749 867.726 L772.749 835.726 L740.749 835.726 Z\" fill=\"#ff0000\" fill-rule=\"evenodd\" fill-opacity=\"1\" stroke=\"#000000\" stroke-opacity=\"1\" stroke-width=\"3.2\"/>\n",
       "<path clip-path=\"url(#clip512)\" d=\"M760.952 880.634 L760.952 912.634 L792.952 912.634 L792.952 880.634 L760.952 880.634 Z\" fill=\"#ff0000\" fill-rule=\"evenodd\" fill-opacity=\"1\" stroke=\"#000000\" stroke-opacity=\"1\" stroke-width=\"3.2\"/>\n",
       "<path clip-path=\"url(#clip512)\" d=\"M781.154 924.543 L781.154 956.543 L813.154 956.543 L813.154 924.543 L781.154 924.543 Z\" fill=\"#ff0000\" fill-rule=\"evenodd\" fill-opacity=\"1\" stroke=\"#000000\" stroke-opacity=\"1\" stroke-width=\"3.2\"/>\n",
       "<path clip-path=\"url(#clip512)\" d=\"M801.357 967.237 L801.357 999.237 L833.357 999.237 L833.357 967.237 L801.357 967.237 Z\" fill=\"#ff0000\" fill-rule=\"evenodd\" fill-opacity=\"1\" stroke=\"#000000\" stroke-opacity=\"1\" stroke-width=\"3.2\"/>\n",
       "<path clip-path=\"url(#clip512)\" d=\"M821.56 1008.51 L821.56 1040.51 L853.56 1040.51 L853.56 1008.51 L821.56 1008.51 Z\" fill=\"#ff0000\" fill-rule=\"evenodd\" fill-opacity=\"1\" stroke=\"#000000\" stroke-opacity=\"1\" stroke-width=\"3.2\"/>\n",
       "<path clip-path=\"url(#clip512)\" d=\"M841.762 1048.17 L841.762 1080.17 L873.762 1080.17 L873.762 1048.17 L841.762 1048.17 Z\" fill=\"#ff0000\" fill-rule=\"evenodd\" fill-opacity=\"1\" stroke=\"#000000\" stroke-opacity=\"1\" stroke-width=\"3.2\"/>\n",
       "<path clip-path=\"url(#clip512)\" d=\"M861.965 1086.04 L861.965 1118.04 L893.965 1118.04 L893.965 1086.04 L861.965 1086.04 Z\" fill=\"#ff0000\" fill-rule=\"evenodd\" fill-opacity=\"1\" stroke=\"#000000\" stroke-opacity=\"1\" stroke-width=\"3.2\"/>\n",
       "<path clip-path=\"url(#clip512)\" d=\"M882.167 1121.94 L882.167 1153.94 L914.167 1153.94 L914.167 1121.94 L882.167 1121.94 Z\" fill=\"#ff0000\" fill-rule=\"evenodd\" fill-opacity=\"1\" stroke=\"#000000\" stroke-opacity=\"1\" stroke-width=\"3.2\"/>\n",
       "<path clip-path=\"url(#clip512)\" d=\"M902.37 1155.75 L902.37 1187.75 L934.37 1187.75 L934.37 1155.75 L902.37 1155.75 Z\" fill=\"#ff0000\" fill-rule=\"evenodd\" fill-opacity=\"1\" stroke=\"#000000\" stroke-opacity=\"1\" stroke-width=\"3.2\"/>\n",
       "<path clip-path=\"url(#clip512)\" d=\"M922.573 1187.31 L922.573 1219.31 L954.573 1219.31 L954.573 1187.31 L922.573 1187.31 Z\" fill=\"#ff0000\" fill-rule=\"evenodd\" fill-opacity=\"1\" stroke=\"#000000\" stroke-opacity=\"1\" stroke-width=\"3.2\"/>\n",
       "<path clip-path=\"url(#clip512)\" d=\"M942.775 1216.53 L942.775 1248.53 L974.775 1248.53 L974.775 1216.53 L942.775 1216.53 Z\" fill=\"#ff0000\" fill-rule=\"evenodd\" fill-opacity=\"1\" stroke=\"#000000\" stroke-opacity=\"1\" stroke-width=\"3.2\"/>\n",
       "<path clip-path=\"url(#clip512)\" d=\"M962.978 1243.29 L962.978 1275.29 L994.978 1275.29 L994.978 1243.29 L962.978 1243.29 Z\" fill=\"#ff0000\" fill-rule=\"evenodd\" fill-opacity=\"1\" stroke=\"#000000\" stroke-opacity=\"1\" stroke-width=\"3.2\"/>\n",
       "<path clip-path=\"url(#clip512)\" d=\"M983.18 1267.53 L983.18 1299.53 L1015.18 1299.53 L1015.18 1267.53 L983.18 1267.53 Z\" fill=\"#ff0000\" fill-rule=\"evenodd\" fill-opacity=\"1\" stroke=\"#000000\" stroke-opacity=\"1\" stroke-width=\"3.2\"/>\n",
       "<path clip-path=\"url(#clip512)\" d=\"M1003.38 1289.18 L1003.38 1321.18 L1035.38 1321.18 L1035.38 1289.18 L1003.38 1289.18 Z\" fill=\"#ff0000\" fill-rule=\"evenodd\" fill-opacity=\"1\" stroke=\"#000000\" stroke-opacity=\"1\" stroke-width=\"3.2\"/>\n",
       "<path clip-path=\"url(#clip512)\" d=\"M1023.59 1308.21 L1023.59 1340.21 L1055.59 1340.21 L1055.59 1308.21 L1023.59 1308.21 Z\" fill=\"#ff0000\" fill-rule=\"evenodd\" fill-opacity=\"1\" stroke=\"#000000\" stroke-opacity=\"1\" stroke-width=\"3.2\"/>\n",
       "<path clip-path=\"url(#clip512)\" d=\"M1043.79 1324.59 L1043.79 1356.59 L1075.79 1356.59 L1075.79 1324.59 L1043.79 1324.59 Z\" fill=\"#ff0000\" fill-rule=\"evenodd\" fill-opacity=\"1\" stroke=\"#000000\" stroke-opacity=\"1\" stroke-width=\"3.2\"/>\n",
       "<path clip-path=\"url(#clip512)\" d=\"M1063.99 1338.31 L1063.99 1370.31 L1095.99 1370.31 L1095.99 1338.31 L1063.99 1338.31 Z\" fill=\"#ff0000\" fill-rule=\"evenodd\" fill-opacity=\"1\" stroke=\"#000000\" stroke-opacity=\"1\" stroke-width=\"3.2\"/>\n",
       "<path clip-path=\"url(#clip512)\" d=\"M1084.19 1349.39 L1084.19 1381.39 L1116.19 1381.39 L1116.19 1349.39 L1084.19 1349.39 Z\" fill=\"#ff0000\" fill-rule=\"evenodd\" fill-opacity=\"1\" stroke=\"#000000\" stroke-opacity=\"1\" stroke-width=\"3.2\"/>\n",
       "<path clip-path=\"url(#clip512)\" d=\"M1104.4 1357.87 L1104.4 1389.87 L1136.4 1389.87 L1136.4 1357.87 L1104.4 1357.87 Z\" fill=\"#ff0000\" fill-rule=\"evenodd\" fill-opacity=\"1\" stroke=\"#000000\" stroke-opacity=\"1\" stroke-width=\"3.2\"/>\n",
       "<path clip-path=\"url(#clip512)\" d=\"M1124.6 1363.79 L1124.6 1395.79 L1156.6 1395.79 L1156.6 1363.79 L1124.6 1363.79 Z\" fill=\"#ff0000\" fill-rule=\"evenodd\" fill-opacity=\"1\" stroke=\"#000000\" stroke-opacity=\"1\" stroke-width=\"3.2\"/>\n",
       "<path clip-path=\"url(#clip512)\" d=\"M1144.8 1367.22 L1144.8 1399.22 L1176.8 1399.22 L1176.8 1367.22 L1144.8 1367.22 Z\" fill=\"#ff0000\" fill-rule=\"evenodd\" fill-opacity=\"1\" stroke=\"#000000\" stroke-opacity=\"1\" stroke-width=\"3.2\"/>\n",
       "<path clip-path=\"url(#clip512)\" d=\"M1165 1368.24 L1165 1400.24 L1197 1400.24 L1197 1368.24 L1165 1368.24 Z\" fill=\"#ff0000\" fill-rule=\"evenodd\" fill-opacity=\"1\" stroke=\"#000000\" stroke-opacity=\"1\" stroke-width=\"3.2\"/>\n",
       "<path clip-path=\"url(#clip512)\" d=\"M1185.21 1366.95 L1185.21 1398.95 L1217.21 1398.95 L1217.21 1366.95 L1185.21 1366.95 Z\" fill=\"#ff0000\" fill-rule=\"evenodd\" fill-opacity=\"1\" stroke=\"#000000\" stroke-opacity=\"1\" stroke-width=\"3.2\"/>\n",
       "<path clip-path=\"url(#clip512)\" d=\"M1205.41 1363.46 L1205.41 1395.46 L1237.41 1395.46 L1237.41 1363.46 L1205.41 1363.46 Z\" fill=\"#ff0000\" fill-rule=\"evenodd\" fill-opacity=\"1\" stroke=\"#000000\" stroke-opacity=\"1\" stroke-width=\"3.2\"/>\n",
       "<path clip-path=\"url(#clip512)\" d=\"M1225.61 1357.89 L1225.61 1389.89 L1257.61 1389.89 L1257.61 1357.89 L1225.61 1357.89 Z\" fill=\"#ff0000\" fill-rule=\"evenodd\" fill-opacity=\"1\" stroke=\"#000000\" stroke-opacity=\"1\" stroke-width=\"3.2\"/>\n",
       "<path clip-path=\"url(#clip512)\" d=\"M1245.81 1350.37 L1245.81 1382.37 L1277.81 1382.37 L1277.81 1350.37 L1245.81 1350.37 Z\" fill=\"#ff0000\" fill-rule=\"evenodd\" fill-opacity=\"1\" stroke=\"#000000\" stroke-opacity=\"1\" stroke-width=\"3.2\"/>\n",
       "<path clip-path=\"url(#clip512)\" d=\"M1266.02 1341.07 L1266.02 1373.07 L1298.02 1373.07 L1298.02 1341.07 L1266.02 1341.07 Z\" fill=\"#ff0000\" fill-rule=\"evenodd\" fill-opacity=\"1\" stroke=\"#000000\" stroke-opacity=\"1\" stroke-width=\"3.2\"/>\n",
       "<path clip-path=\"url(#clip512)\" d=\"M1286.22 1330.12 L1286.22 1362.12 L1318.22 1362.12 L1318.22 1330.12 L1286.22 1330.12 Z\" fill=\"#ff0000\" fill-rule=\"evenodd\" fill-opacity=\"1\" stroke=\"#000000\" stroke-opacity=\"1\" stroke-width=\"3.2\"/>\n",
       "<path clip-path=\"url(#clip512)\" d=\"M1306.42 1317.69 L1306.42 1349.69 L1338.42 1349.69 L1338.42 1317.69 L1306.42 1317.69 Z\" fill=\"#ff0000\" fill-rule=\"evenodd\" fill-opacity=\"1\" stroke=\"#000000\" stroke-opacity=\"1\" stroke-width=\"3.2\"/>\n",
       "<path clip-path=\"url(#clip512)\" d=\"M1326.62 1303.96 L1326.62 1335.96 L1358.62 1335.96 L1358.62 1303.96 L1326.62 1303.96 Z\" fill=\"#ff0000\" fill-rule=\"evenodd\" fill-opacity=\"1\" stroke=\"#000000\" stroke-opacity=\"1\" stroke-width=\"3.2\"/>\n",
       "<path clip-path=\"url(#clip512)\" d=\"M1346.83 1289.08 L1346.83 1321.08 L1378.83 1321.08 L1378.83 1289.08 L1346.83 1289.08 Z\" fill=\"#ff0000\" fill-rule=\"evenodd\" fill-opacity=\"1\" stroke=\"#000000\" stroke-opacity=\"1\" stroke-width=\"3.2\"/>\n",
       "<path clip-path=\"url(#clip512)\" d=\"M1367.03 1273.25 L1367.03 1305.25 L1399.03 1305.25 L1399.03 1273.25 L1367.03 1273.25 Z\" fill=\"#ff0000\" fill-rule=\"evenodd\" fill-opacity=\"1\" stroke=\"#000000\" stroke-opacity=\"1\" stroke-width=\"3.2\"/>\n",
       "<path clip-path=\"url(#clip512)\" d=\"M1387.23 1256.64 L1387.23 1288.64 L1419.23 1288.64 L1419.23 1256.64 L1387.23 1256.64 Z\" fill=\"#ff0000\" fill-rule=\"evenodd\" fill-opacity=\"1\" stroke=\"#000000\" stroke-opacity=\"1\" stroke-width=\"3.2\"/>\n",
       "<path clip-path=\"url(#clip512)\" d=\"M1407.44 1239.44 L1407.44 1271.44 L1439.44 1271.44 L1439.44 1239.44 L1407.44 1239.44 Z\" fill=\"#ff0000\" fill-rule=\"evenodd\" fill-opacity=\"1\" stroke=\"#000000\" stroke-opacity=\"1\" stroke-width=\"3.2\"/>\n",
       "<path clip-path=\"url(#clip512)\" d=\"M1427.64 1221.81 L1427.64 1253.81 L1459.64 1253.81 L1459.64 1221.81 L1427.64 1221.81 Z\" fill=\"#ff0000\" fill-rule=\"evenodd\" fill-opacity=\"1\" stroke=\"#000000\" stroke-opacity=\"1\" stroke-width=\"3.2\"/>\n",
       "<path clip-path=\"url(#clip512)\" d=\"M1447.84 1203.94 L1447.84 1235.94 L1479.84 1235.94 L1479.84 1203.94 L1447.84 1203.94 Z\" fill=\"#ff0000\" fill-rule=\"evenodd\" fill-opacity=\"1\" stroke=\"#000000\" stroke-opacity=\"1\" stroke-width=\"3.2\"/>\n",
       "<path clip-path=\"url(#clip512)\" d=\"M1468.04 1186 L1468.04 1218 L1500.04 1218 L1500.04 1186 L1468.04 1186 Z\" fill=\"#ff0000\" fill-rule=\"evenodd\" fill-opacity=\"1\" stroke=\"#000000\" stroke-opacity=\"1\" stroke-width=\"3.2\"/>\n",
       "<path clip-path=\"url(#clip512)\" d=\"M1488.25 1168.16 L1488.25 1200.16 L1520.25 1200.16 L1520.25 1168.16 L1488.25 1168.16 Z\" fill=\"#ff0000\" fill-rule=\"evenodd\" fill-opacity=\"1\" stroke=\"#000000\" stroke-opacity=\"1\" stroke-width=\"3.2\"/>\n",
       "<path clip-path=\"url(#clip512)\" d=\"M1508.45 1150.58 L1508.45 1182.58 L1540.45 1182.58 L1540.45 1150.58 L1508.45 1150.58 Z\" fill=\"#ff0000\" fill-rule=\"evenodd\" fill-opacity=\"1\" stroke=\"#000000\" stroke-opacity=\"1\" stroke-width=\"3.2\"/>\n",
       "<path clip-path=\"url(#clip512)\" d=\"M1528.65 1133.42 L1528.65 1165.42 L1560.65 1165.42 L1560.65 1133.42 L1528.65 1133.42 Z\" fill=\"#ff0000\" fill-rule=\"evenodd\" fill-opacity=\"1\" stroke=\"#000000\" stroke-opacity=\"1\" stroke-width=\"3.2\"/>\n",
       "<path clip-path=\"url(#clip512)\" d=\"M1548.85 1116.82 L1548.85 1148.82 L1580.85 1148.82 L1580.85 1116.82 L1548.85 1116.82 Z\" fill=\"#ff0000\" fill-rule=\"evenodd\" fill-opacity=\"1\" stroke=\"#000000\" stroke-opacity=\"1\" stroke-width=\"3.2\"/>\n",
       "<path clip-path=\"url(#clip512)\" d=\"M1569.06 1100.93 L1569.06 1132.93 L1601.06 1132.93 L1601.06 1100.93 L1569.06 1100.93 Z\" fill=\"#ff0000\" fill-rule=\"evenodd\" fill-opacity=\"1\" stroke=\"#000000\" stroke-opacity=\"1\" stroke-width=\"3.2\"/>\n",
       "<path clip-path=\"url(#clip512)\" d=\"M1589.26 1085.86 L1589.26 1117.86 L1621.26 1117.86 L1621.26 1085.86 L1589.26 1085.86 Z\" fill=\"#ff0000\" fill-rule=\"evenodd\" fill-opacity=\"1\" stroke=\"#000000\" stroke-opacity=\"1\" stroke-width=\"3.2\"/>\n",
       "<path clip-path=\"url(#clip512)\" d=\"M1609.46 1071.74 L1609.46 1103.74 L1641.46 1103.74 L1641.46 1071.74 L1609.46 1071.74 Z\" fill=\"#ff0000\" fill-rule=\"evenodd\" fill-opacity=\"1\" stroke=\"#000000\" stroke-opacity=\"1\" stroke-width=\"3.2\"/>\n",
       "<path clip-path=\"url(#clip512)\" d=\"M1629.66 1058.67 L1629.66 1090.67 L1661.66 1090.67 L1661.66 1058.67 L1629.66 1058.67 Z\" fill=\"#ff0000\" fill-rule=\"evenodd\" fill-opacity=\"1\" stroke=\"#000000\" stroke-opacity=\"1\" stroke-width=\"3.2\"/>\n",
       "<path clip-path=\"url(#clip512)\" d=\"M1649.87 1046.75 L1649.87 1078.75 L1681.87 1078.75 L1681.87 1046.75 L1649.87 1046.75 Z\" fill=\"#ff0000\" fill-rule=\"evenodd\" fill-opacity=\"1\" stroke=\"#000000\" stroke-opacity=\"1\" stroke-width=\"3.2\"/>\n",
       "<path clip-path=\"url(#clip512)\" d=\"M1670.07 1036.04 L1670.07 1068.04 L1702.07 1068.04 L1702.07 1036.04 L1670.07 1036.04 Z\" fill=\"#ff0000\" fill-rule=\"evenodd\" fill-opacity=\"1\" stroke=\"#000000\" stroke-opacity=\"1\" stroke-width=\"3.2\"/>\n",
       "<path clip-path=\"url(#clip512)\" d=\"M1690.27 1026.63 L1690.27 1058.63 L1722.27 1058.63 L1722.27 1026.63 L1690.27 1026.63 Z\" fill=\"#ff0000\" fill-rule=\"evenodd\" fill-opacity=\"1\" stroke=\"#000000\" stroke-opacity=\"1\" stroke-width=\"3.2\"/>\n",
       "<path clip-path=\"url(#clip512)\" d=\"M1710.47 1018.56 L1710.47 1050.56 L1742.47 1050.56 L1742.47 1018.56 L1710.47 1018.56 Z\" fill=\"#ff0000\" fill-rule=\"evenodd\" fill-opacity=\"1\" stroke=\"#000000\" stroke-opacity=\"1\" stroke-width=\"3.2\"/>\n",
       "<path clip-path=\"url(#clip512)\" d=\"M1730.68 1011.86 L1730.68 1043.86 L1762.68 1043.86 L1762.68 1011.86 L1730.68 1011.86 Z\" fill=\"#ff0000\" fill-rule=\"evenodd\" fill-opacity=\"1\" stroke=\"#000000\" stroke-opacity=\"1\" stroke-width=\"3.2\"/>\n",
       "<path clip-path=\"url(#clip512)\" d=\"M1750.88 1006.58 L1750.88 1038.58 L1782.88 1038.58 L1782.88 1006.58 L1750.88 1006.58 Z\" fill=\"#ff0000\" fill-rule=\"evenodd\" fill-opacity=\"1\" stroke=\"#000000\" stroke-opacity=\"1\" stroke-width=\"3.2\"/>\n",
       "<path clip-path=\"url(#clip512)\" d=\"M1771.08 1002.71 L1771.08 1034.71 L1803.08 1034.71 L1803.08 1002.71 L1771.08 1002.71 Z\" fill=\"#ff0000\" fill-rule=\"evenodd\" fill-opacity=\"1\" stroke=\"#000000\" stroke-opacity=\"1\" stroke-width=\"3.2\"/>\n",
       "<path clip-path=\"url(#clip512)\" d=\"M1791.29 1000.27 L1791.29 1032.27 L1823.29 1032.27 L1823.29 1000.27 L1791.29 1000.27 Z\" fill=\"#ff0000\" fill-rule=\"evenodd\" fill-opacity=\"1\" stroke=\"#000000\" stroke-opacity=\"1\" stroke-width=\"3.2\"/>\n",
       "<path clip-path=\"url(#clip512)\" d=\"M1811.49 999.226 L1811.49 1031.23 L1843.49 1031.23 L1843.49 999.226 L1811.49 999.226 Z\" fill=\"#ff0000\" fill-rule=\"evenodd\" fill-opacity=\"1\" stroke=\"#000000\" stroke-opacity=\"1\" stroke-width=\"3.2\"/>\n",
       "<path clip-path=\"url(#clip512)\" d=\"M1831.69 999.562 L1831.69 1031.56 L1863.69 1031.56 L1863.69 999.562 L1831.69 999.562 Z\" fill=\"#ff0000\" fill-rule=\"evenodd\" fill-opacity=\"1\" stroke=\"#000000\" stroke-opacity=\"1\" stroke-width=\"3.2\"/>\n",
       "<path clip-path=\"url(#clip512)\" d=\"M1851.89 1001.24 L1851.89 1033.24 L1883.89 1033.24 L1883.89 1001.24 L1851.89 1001.24 Z\" fill=\"#ff0000\" fill-rule=\"evenodd\" fill-opacity=\"1\" stroke=\"#000000\" stroke-opacity=\"1\" stroke-width=\"3.2\"/>\n",
       "<path clip-path=\"url(#clip512)\" d=\"M1872.1 1004.21 L1872.1 1036.21 L1904.1 1036.21 L1904.1 1004.21 L1872.1 1004.21 Z\" fill=\"#ff0000\" fill-rule=\"evenodd\" fill-opacity=\"1\" stroke=\"#000000\" stroke-opacity=\"1\" stroke-width=\"3.2\"/>\n",
       "<path clip-path=\"url(#clip512)\" d=\"M1892.3 1008.4 L1892.3 1040.4 L1924.3 1040.4 L1924.3 1008.4 L1892.3 1008.4 Z\" fill=\"#ff0000\" fill-rule=\"evenodd\" fill-opacity=\"1\" stroke=\"#000000\" stroke-opacity=\"1\" stroke-width=\"3.2\"/>\n",
       "<path clip-path=\"url(#clip512)\" d=\"M1912.5 1013.76 L1912.5 1045.76 L1944.5 1045.76 L1944.5 1013.76 L1912.5 1013.76 Z\" fill=\"#ff0000\" fill-rule=\"evenodd\" fill-opacity=\"1\" stroke=\"#000000\" stroke-opacity=\"1\" stroke-width=\"3.2\"/>\n",
       "<path clip-path=\"url(#clip512)\" d=\"M1932.7 1020.2 L1932.7 1052.2 L1964.7 1052.2 L1964.7 1020.2 L1932.7 1020.2 Z\" fill=\"#ff0000\" fill-rule=\"evenodd\" fill-opacity=\"1\" stroke=\"#000000\" stroke-opacity=\"1\" stroke-width=\"3.2\"/>\n",
       "<path clip-path=\"url(#clip512)\" d=\"M1952.91 1027.63 L1952.91 1059.63 L1984.91 1059.63 L1984.91 1027.63 L1952.91 1027.63 Z\" fill=\"#ff0000\" fill-rule=\"evenodd\" fill-opacity=\"1\" stroke=\"#000000\" stroke-opacity=\"1\" stroke-width=\"3.2\"/>\n",
       "<path clip-path=\"url(#clip512)\" d=\"M1973.11 1035.95 L1973.11 1067.95 L2005.11 1067.95 L2005.11 1035.95 L1973.11 1035.95 Z\" fill=\"#ff0000\" fill-rule=\"evenodd\" fill-opacity=\"1\" stroke=\"#000000\" stroke-opacity=\"1\" stroke-width=\"3.2\"/>\n",
       "<path clip-path=\"url(#clip512)\" d=\"M1993.31 1045.08 L1993.31 1077.08 L2025.31 1077.08 L2025.31 1045.08 L1993.31 1045.08 Z\" fill=\"#ff0000\" fill-rule=\"evenodd\" fill-opacity=\"1\" stroke=\"#000000\" stroke-opacity=\"1\" stroke-width=\"3.2\"/>\n",
       "<path clip-path=\"url(#clip512)\" d=\"M2013.51 1054.89 L2013.51 1086.89 L2045.51 1086.89 L2045.51 1054.89 L2013.51 1054.89 Z\" fill=\"#ff0000\" fill-rule=\"evenodd\" fill-opacity=\"1\" stroke=\"#000000\" stroke-opacity=\"1\" stroke-width=\"3.2\"/>\n",
       "<path clip-path=\"url(#clip512)\" d=\"M2033.72 1065.29 L2033.72 1097.29 L2065.72 1097.29 L2065.72 1065.29 L2033.72 1065.29 Z\" fill=\"#ff0000\" fill-rule=\"evenodd\" fill-opacity=\"1\" stroke=\"#000000\" stroke-opacity=\"1\" stroke-width=\"3.2\"/>\n",
       "<path clip-path=\"url(#clip512)\" d=\"M2053.92 1076.15 L2053.92 1108.15 L2085.92 1108.15 L2085.92 1076.15 L2053.92 1076.15 Z\" fill=\"#ff0000\" fill-rule=\"evenodd\" fill-opacity=\"1\" stroke=\"#000000\" stroke-opacity=\"1\" stroke-width=\"3.2\"/>\n",
       "<path clip-path=\"url(#clip512)\" d=\"M2074.12 1087.37 L2074.12 1119.37 L2106.12 1119.37 L2106.12 1087.37 L2074.12 1087.37 Z\" fill=\"#ff0000\" fill-rule=\"evenodd\" fill-opacity=\"1\" stroke=\"#000000\" stroke-opacity=\"1\" stroke-width=\"3.2\"/>\n",
       "<path clip-path=\"url(#clip512)\" d=\"M2094.32 1098.82 L2094.32 1130.82 L2126.32 1130.82 L2126.32 1098.82 L2094.32 1098.82 Z\" fill=\"#ff0000\" fill-rule=\"evenodd\" fill-opacity=\"1\" stroke=\"#000000\" stroke-opacity=\"1\" stroke-width=\"3.2\"/>\n",
       "<path clip-path=\"url(#clip512)\" d=\"M2114.53 1110.4 L2114.53 1142.4 L2146.53 1142.4 L2146.53 1110.4 L2114.53 1110.4 Z\" fill=\"#ff0000\" fill-rule=\"evenodd\" fill-opacity=\"1\" stroke=\"#000000\" stroke-opacity=\"1\" stroke-width=\"3.2\"/>\n",
       "<path clip-path=\"url(#clip512)\" d=\"M2134.73 1121.98 L2134.73 1153.98 L2166.73 1153.98 L2166.73 1121.98 L2134.73 1121.98 Z\" fill=\"#ff0000\" fill-rule=\"evenodd\" fill-opacity=\"1\" stroke=\"#000000\" stroke-opacity=\"1\" stroke-width=\"3.2\"/>\n",
       "<path clip-path=\"url(#clip512)\" d=\"M2154.93 1133.45 L2154.93 1165.45 L2186.93 1165.45 L2186.93 1133.45 L2154.93 1133.45 Z\" fill=\"#ff0000\" fill-rule=\"evenodd\" fill-opacity=\"1\" stroke=\"#000000\" stroke-opacity=\"1\" stroke-width=\"3.2\"/>\n",
       "<path clip-path=\"url(#clip512)\" d=\"M2175.13 1144.72 L2175.13 1176.72 L2207.13 1176.72 L2207.13 1144.72 L2175.13 1144.72 Z\" fill=\"#ff0000\" fill-rule=\"evenodd\" fill-opacity=\"1\" stroke=\"#000000\" stroke-opacity=\"1\" stroke-width=\"3.2\"/>\n",
       "<path clip-path=\"url(#clip512)\" d=\"M2195.34 1155.66 L2195.34 1187.66 L2227.34 1187.66 L2227.34 1155.66 L2195.34 1155.66 Z\" fill=\"#ff0000\" fill-rule=\"evenodd\" fill-opacity=\"1\" stroke=\"#000000\" stroke-opacity=\"1\" stroke-width=\"3.2\"/>\n",
       "<path clip-path=\"url(#clip512)\" d=\"M2215.54 1166.19 L2215.54 1198.19 L2247.54 1198.19 L2247.54 1166.19 L2215.54 1166.19 Z\" fill=\"#ff0000\" fill-rule=\"evenodd\" fill-opacity=\"1\" stroke=\"#000000\" stroke-opacity=\"1\" stroke-width=\"3.2\"/>\n",
       "<path clip-path=\"url(#clip512)\" d=\"M2235.74 1176.2 L2235.74 1208.2 L2267.74 1208.2 L2267.74 1176.2 L2235.74 1176.2 Z\" fill=\"#ff0000\" fill-rule=\"evenodd\" fill-opacity=\"1\" stroke=\"#000000\" stroke-opacity=\"1\" stroke-width=\"3.2\"/>\n",
       "<path clip-path=\"url(#clip512)\" d=\"M2255.95 1185.62 L2255.95 1217.62 L2287.95 1217.62 L2287.95 1185.62 L2255.95 1185.62 Z\" fill=\"#ff0000\" fill-rule=\"evenodd\" fill-opacity=\"1\" stroke=\"#000000\" stroke-opacity=\"1\" stroke-width=\"3.2\"/>\n",
       "<path clip-path=\"url(#clip512)\" d=\"M2276.15 1194.36 L2276.15 1226.36 L2308.15 1226.36 L2308.15 1194.36 L2276.15 1194.36 Z\" fill=\"#ff0000\" fill-rule=\"evenodd\" fill-opacity=\"1\" stroke=\"#000000\" stroke-opacity=\"1\" stroke-width=\"3.2\"/>\n",
       "</svg>\n"
      ]
     },
     "execution_count": 110,
     "metadata": {},
     "output_type": "execute_result"
    }
   ],
   "source": [
    "# notice the use of a symbol as an argument !\n",
    "plot(0:0.1:10, x -> sin(x) / x, xlabel=\"x\", ylabel=\"sin(x)/x\", color=:red, marker=:square, legend=:none)"
   ]
  },
  {
   "cell_type": "code",
   "execution_count": 111,
   "metadata": {},
   "outputs": [
    {
     "data": {
      "image/svg+xml": [
       "<?xml version=\"1.0\" encoding=\"utf-8\"?>\n",
       "<svg xmlns=\"http://www.w3.org/2000/svg\" xmlns:xlink=\"http://www.w3.org/1999/xlink\" width=\"600\" height=\"400\" viewBox=\"0 0 2400 1600\">\n",
       "<defs>\n",
       "  <clipPath id=\"clip550\">\n",
       "    <rect x=\"0\" y=\"0\" width=\"2400\" height=\"1600\"/>\n",
       "  </clipPath>\n",
       "</defs>\n",
       "<path clip-path=\"url(#clip550)\" d=\"\n",
       "M0 1600 L2400 1600 L2400 0 L0 0  Z\n",
       "  \" fill=\"#ffffff\" fill-rule=\"evenodd\" fill-opacity=\"1\"/>\n",
       "<defs>\n",
       "  <clipPath id=\"clip551\">\n",
       "    <rect x=\"480\" y=\"0\" width=\"1681\" height=\"1600\"/>\n",
       "  </clipPath>\n",
       "</defs>\n",
       "<path clip-path=\"url(#clip550)\" d=\"\n",
       "M169.469 1486.45 L2112.76 1486.45 L2112.76 47.2441 L169.469 47.2441  Z\n",
       "  \" fill=\"#ffffff\" fill-rule=\"evenodd\" fill-opacity=\"1\"/>\n",
       "<defs>\n",
       "  <clipPath id=\"clip552\">\n",
       "    <rect x=\"169\" y=\"47\" width=\"1944\" height=\"1440\"/>\n",
       "  </clipPath>\n",
       "</defs>\n",
       "<polyline clip-path=\"url(#clip552)\" style=\"stroke:#000000; stroke-width:2; stroke-opacity:0.1; fill:none\" points=\"\n",
       "  169.469,1486.45 169.469,47.2441 \n",
       "  \"/>\n",
       "<polyline clip-path=\"url(#clip552)\" style=\"stroke:#000000; stroke-width:2; stroke-opacity:0.1; fill:none\" points=\"\n",
       "  655.29,1486.45 655.29,47.2441 \n",
       "  \"/>\n",
       "<polyline clip-path=\"url(#clip552)\" style=\"stroke:#000000; stroke-width:2; stroke-opacity:0.1; fill:none\" points=\"\n",
       "  1141.11,1486.45 1141.11,47.2441 \n",
       "  \"/>\n",
       "<polyline clip-path=\"url(#clip552)\" style=\"stroke:#000000; stroke-width:2; stroke-opacity:0.1; fill:none\" points=\"\n",
       "  1626.93,1486.45 1626.93,47.2441 \n",
       "  \"/>\n",
       "<polyline clip-path=\"url(#clip552)\" style=\"stroke:#000000; stroke-width:2; stroke-opacity:0.1; fill:none\" points=\"\n",
       "  2112.76,1486.45 2112.76,47.2441 \n",
       "  \"/>\n",
       "<polyline clip-path=\"url(#clip550)\" style=\"stroke:#000000; stroke-width:4; stroke-opacity:1; fill:none\" points=\"\n",
       "  169.469,1486.45 2112.76,1486.45 \n",
       "  \"/>\n",
       "<polyline clip-path=\"url(#clip550)\" style=\"stroke:#000000; stroke-width:4; stroke-opacity:1; fill:none\" points=\"\n",
       "  169.469,1486.45 169.469,1469.18 \n",
       "  \"/>\n",
       "<polyline clip-path=\"url(#clip550)\" style=\"stroke:#000000; stroke-width:4; stroke-opacity:1; fill:none\" points=\"\n",
       "  655.29,1486.45 655.29,1469.18 \n",
       "  \"/>\n",
       "<polyline clip-path=\"url(#clip550)\" style=\"stroke:#000000; stroke-width:4; stroke-opacity:1; fill:none\" points=\"\n",
       "  1141.11,1486.45 1141.11,1469.18 \n",
       "  \"/>\n",
       "<polyline clip-path=\"url(#clip550)\" style=\"stroke:#000000; stroke-width:4; stroke-opacity:1; fill:none\" points=\"\n",
       "  1626.93,1486.45 1626.93,1469.18 \n",
       "  \"/>\n",
       "<polyline clip-path=\"url(#clip550)\" style=\"stroke:#000000; stroke-width:4; stroke-opacity:1; fill:none\" points=\"\n",
       "  2112.76,1486.45 2112.76,1469.18 \n",
       "  \"/>\n",
       "<path clip-path=\"url(#clip550)\" d=\"M 0 0 M123.138 1530.29 L152.814 1530.29 L152.814 1534.23 L123.138 1534.23 L123.138 1530.29 Z\" fill=\"#000000\" fill-rule=\"evenodd\" fill-opacity=\"1\" /><path clip-path=\"url(#clip550)\" d=\"M 0 0 M157.929 1512.56 L176.286 1512.56 L176.286 1516.5 L162.212 1516.5 L162.212 1524.97 Q163.23 1524.62 164.249 1524.46 Q165.267 1524.27 166.286 1524.27 Q172.073 1524.27 175.452 1527.44 Q178.832 1530.62 178.832 1536.03 Q178.832 1541.61 175.36 1544.71 Q171.888 1547.79 165.568 1547.79 Q163.392 1547.79 161.124 1547.42 Q158.878 1547.05 156.471 1546.31 L156.471 1541.61 Q158.554 1542.74 160.776 1543.3 Q162.999 1543.86 165.476 1543.86 Q169.48 1543.86 171.818 1541.75 Q174.156 1539.64 174.156 1536.03 Q174.156 1532.42 171.818 1530.31 Q169.48 1528.21 165.476 1528.21 Q163.601 1528.21 161.726 1528.62 Q159.874 1529.04 157.929 1529.92 L157.929 1512.56 Z\" fill=\"#000000\" fill-rule=\"evenodd\" fill-opacity=\"1\" /><path clip-path=\"url(#clip550)\" d=\"M 0 0 M183.901 1541.24 L188.786 1541.24 L188.786 1547.12 L183.901 1547.12 L183.901 1541.24 Z\" fill=\"#000000\" fill-rule=\"evenodd\" fill-opacity=\"1\" /><path clip-path=\"url(#clip550)\" d=\"M 0 0 M203.855 1515.64 Q200.244 1515.64 198.415 1519.2 Q196.61 1522.75 196.61 1529.87 Q196.61 1536.98 198.415 1540.55 Q200.244 1544.09 203.855 1544.09 Q207.489 1544.09 209.295 1540.55 Q211.123 1536.98 211.123 1529.87 Q211.123 1522.75 209.295 1519.2 Q207.489 1515.64 203.855 1515.64 M203.855 1511.93 Q209.665 1511.93 212.721 1516.54 Q215.799 1521.12 215.799 1529.87 Q215.799 1538.6 212.721 1543.21 Q209.665 1547.79 203.855 1547.79 Q198.045 1547.79 194.966 1543.21 Q191.911 1538.6 191.911 1529.87 Q191.911 1521.12 194.966 1516.54 Q198.045 1511.93 203.855 1511.93 Z\" fill=\"#000000\" fill-rule=\"evenodd\" fill-opacity=\"1\" /><path clip-path=\"url(#clip550)\" d=\"M 0 0 M609.758 1530.29 L639.434 1530.29 L639.434 1534.23 L609.758 1534.23 L609.758 1530.29 Z\" fill=\"#000000\" fill-rule=\"evenodd\" fill-opacity=\"1\" /><path clip-path=\"url(#clip550)\" d=\"M 0 0 M648.531 1543.18 L664.851 1543.18 L664.851 1547.12 L642.906 1547.12 L642.906 1543.18 Q645.568 1540.43 650.152 1535.8 Q654.758 1531.15 655.939 1529.81 Q658.184 1527.28 659.064 1525.55 Q659.966 1523.79 659.966 1522.1 Q659.966 1519.34 658.022 1517.61 Q656.101 1515.87 652.999 1515.87 Q650.8 1515.87 648.346 1516.63 Q645.915 1517.4 643.138 1518.95 L643.138 1514.23 Q645.962 1513.09 648.415 1512.51 Q650.869 1511.93 652.906 1511.93 Q658.276 1511.93 661.471 1514.62 Q664.665 1517.31 664.665 1521.8 Q664.665 1523.93 663.855 1525.85 Q663.068 1527.74 660.962 1530.34 Q660.383 1531.01 657.281 1534.23 Q654.179 1537.42 648.531 1543.18 Z\" fill=\"#000000\" fill-rule=\"evenodd\" fill-opacity=\"1\" /><path clip-path=\"url(#clip550)\" d=\"M 0 0 M669.92 1541.24 L674.804 1541.24 L674.804 1547.12 L669.92 1547.12 L669.92 1541.24 Z\" fill=\"#000000\" fill-rule=\"evenodd\" fill-opacity=\"1\" /><path clip-path=\"url(#clip550)\" d=\"M 0 0 M679.92 1512.56 L698.276 1512.56 L698.276 1516.5 L684.202 1516.5 L684.202 1524.97 Q685.221 1524.62 686.239 1524.46 Q687.258 1524.27 688.276 1524.27 Q694.063 1524.27 697.443 1527.44 Q700.823 1530.62 700.823 1536.03 Q700.823 1541.61 697.35 1544.71 Q693.878 1547.79 687.559 1547.79 Q685.383 1547.79 683.114 1547.42 Q680.869 1547.05 678.462 1546.31 L678.462 1541.61 Q680.545 1542.74 682.767 1543.3 Q684.989 1543.86 687.466 1543.86 Q691.471 1543.86 693.809 1541.75 Q696.147 1539.64 696.147 1536.03 Q696.147 1532.42 693.809 1530.31 Q691.471 1528.21 687.466 1528.21 Q685.591 1528.21 683.716 1528.62 Q681.864 1529.04 679.92 1529.92 L679.92 1512.56 Z\" fill=\"#000000\" fill-rule=\"evenodd\" fill-opacity=\"1\" /><path clip-path=\"url(#clip550)\" d=\"M 0 0 M1122.63 1515.64 Q1119.02 1515.64 1117.19 1519.2 Q1115.38 1522.75 1115.38 1529.87 Q1115.38 1536.98 1117.19 1540.55 Q1119.02 1544.09 1122.63 1544.09 Q1126.26 1544.09 1128.07 1540.55 Q1129.9 1536.98 1129.9 1529.87 Q1129.9 1522.75 1128.07 1519.2 Q1126.26 1515.64 1122.63 1515.64 M1122.63 1511.93 Q1128.44 1511.93 1131.49 1516.54 Q1134.57 1521.12 1134.57 1529.87 Q1134.57 1538.6 1131.49 1543.21 Q1128.44 1547.79 1122.63 1547.79 Q1116.82 1547.79 1113.74 1543.21 Q1110.68 1538.6 1110.68 1529.87 Q1110.68 1521.12 1113.74 1516.54 Q1116.82 1511.93 1122.63 1511.93 Z\" fill=\"#000000\" fill-rule=\"evenodd\" fill-opacity=\"1\" /><path clip-path=\"url(#clip550)\" d=\"M 0 0 M1139.64 1541.24 L1144.53 1541.24 L1144.53 1547.12 L1139.64 1547.12 L1139.64 1541.24 Z\" fill=\"#000000\" fill-rule=\"evenodd\" fill-opacity=\"1\" /><path clip-path=\"url(#clip550)\" d=\"M 0 0 M1159.6 1515.64 Q1155.98 1515.64 1154.16 1519.2 Q1152.35 1522.75 1152.35 1529.87 Q1152.35 1536.98 1154.16 1540.55 Q1155.98 1544.09 1159.6 1544.09 Q1163.23 1544.09 1165.04 1540.55 Q1166.86 1536.98 1166.86 1529.87 Q1166.86 1522.75 1165.04 1519.2 Q1163.23 1515.64 1159.6 1515.64 M1159.6 1511.93 Q1165.41 1511.93 1168.46 1516.54 Q1171.54 1521.12 1171.54 1529.87 Q1171.54 1538.6 1168.46 1543.21 Q1165.41 1547.79 1159.6 1547.79 Q1153.79 1547.79 1150.71 1543.21 Q1147.65 1538.6 1147.65 1529.87 Q1147.65 1521.12 1150.71 1516.54 Q1153.79 1511.93 1159.6 1511.93 Z\" fill=\"#000000\" fill-rule=\"evenodd\" fill-opacity=\"1\" /><path clip-path=\"url(#clip550)\" d=\"M 0 0 M1603.6 1543.18 L1619.92 1543.18 L1619.92 1547.12 L1597.98 1547.12 L1597.98 1543.18 Q1600.64 1540.43 1605.22 1535.8 Q1609.83 1531.15 1611.01 1529.81 Q1613.25 1527.28 1614.13 1525.55 Q1615.04 1523.79 1615.04 1522.1 Q1615.04 1519.34 1613.09 1517.61 Q1611.17 1515.87 1608.07 1515.87 Q1605.87 1515.87 1603.42 1516.63 Q1600.99 1517.4 1598.21 1518.95 L1598.21 1514.23 Q1601.03 1513.09 1603.49 1512.51 Q1605.94 1511.93 1607.98 1511.93 Q1613.35 1511.93 1616.54 1514.62 Q1619.74 1517.31 1619.74 1521.8 Q1619.74 1523.93 1618.92 1525.85 Q1618.14 1527.74 1616.03 1530.34 Q1615.45 1531.01 1612.35 1534.23 Q1609.25 1537.42 1603.6 1543.18 Z\" fill=\"#000000\" fill-rule=\"evenodd\" fill-opacity=\"1\" /><path clip-path=\"url(#clip550)\" d=\"M 0 0 M1624.99 1541.24 L1629.87 1541.24 L1629.87 1547.12 L1624.99 1547.12 L1624.99 1541.24 Z\" fill=\"#000000\" fill-rule=\"evenodd\" fill-opacity=\"1\" /><path clip-path=\"url(#clip550)\" d=\"M 0 0 M1634.99 1512.56 L1653.35 1512.56 L1653.35 1516.5 L1639.27 1516.5 L1639.27 1524.97 Q1640.29 1524.62 1641.31 1524.46 Q1642.33 1524.27 1643.35 1524.27 Q1649.13 1524.27 1652.51 1527.44 Q1655.89 1530.62 1655.89 1536.03 Q1655.89 1541.61 1652.42 1544.71 Q1648.95 1547.79 1642.63 1547.79 Q1640.45 1547.79 1638.18 1547.42 Q1635.94 1547.05 1633.53 1546.31 L1633.53 1541.61 Q1635.61 1542.74 1637.84 1543.3 Q1640.06 1543.86 1642.54 1543.86 Q1646.54 1543.86 1648.88 1541.75 Q1651.22 1539.64 1651.22 1536.03 Q1651.22 1532.42 1648.88 1530.31 Q1646.54 1528.21 1642.54 1528.21 Q1640.66 1528.21 1638.79 1528.62 Q1636.93 1529.04 1634.99 1529.92 L1634.99 1512.56 Z\" fill=\"#000000\" fill-rule=\"evenodd\" fill-opacity=\"1\" /><path clip-path=\"url(#clip550)\" d=\"M 0 0 M2084.55 1512.56 L2102.91 1512.56 L2102.91 1516.5 L2088.83 1516.5 L2088.83 1524.97 Q2089.85 1524.62 2090.87 1524.46 Q2091.89 1524.27 2092.91 1524.27 Q2098.69 1524.27 2102.07 1527.44 Q2105.45 1530.62 2105.45 1536.03 Q2105.45 1541.61 2101.98 1544.71 Q2098.51 1547.79 2092.19 1547.79 Q2090.01 1547.79 2087.74 1547.42 Q2085.5 1547.05 2083.09 1546.31 L2083.09 1541.61 Q2085.18 1542.74 2087.4 1543.3 Q2089.62 1543.86 2092.1 1543.86 Q2096.1 1543.86 2098.44 1541.75 Q2100.78 1539.64 2100.78 1536.03 Q2100.78 1532.42 2098.44 1530.31 Q2096.1 1528.21 2092.1 1528.21 Q2090.22 1528.21 2088.35 1528.62 Q2086.49 1529.04 2084.55 1529.92 L2084.55 1512.56 Z\" fill=\"#000000\" fill-rule=\"evenodd\" fill-opacity=\"1\" /><path clip-path=\"url(#clip550)\" d=\"M 0 0 M2110.52 1541.24 L2115.41 1541.24 L2115.41 1547.12 L2110.52 1547.12 L2110.52 1541.24 Z\" fill=\"#000000\" fill-rule=\"evenodd\" fill-opacity=\"1\" /><path clip-path=\"url(#clip550)\" d=\"M 0 0 M2130.48 1515.64 Q2126.86 1515.64 2125.04 1519.2 Q2123.23 1522.75 2123.23 1529.87 Q2123.23 1536.98 2125.04 1540.55 Q2126.86 1544.09 2130.48 1544.09 Q2134.11 1544.09 2135.92 1540.55 Q2137.74 1536.98 2137.74 1529.87 Q2137.74 1522.75 2135.92 1519.2 Q2134.11 1515.64 2130.48 1515.64 M2130.48 1511.93 Q2136.29 1511.93 2139.34 1516.54 Q2142.42 1521.12 2142.42 1529.87 Q2142.42 1538.6 2139.34 1543.21 Q2136.29 1547.79 2130.48 1547.79 Q2124.67 1547.79 2121.59 1543.21 Q2118.53 1538.6 2118.53 1529.87 Q2118.53 1521.12 2121.59 1516.54 Q2124.67 1511.93 2130.48 1511.93 Z\" fill=\"#000000\" fill-rule=\"evenodd\" fill-opacity=\"1\" /><polyline clip-path=\"url(#clip552)\" style=\"stroke:#000000; stroke-width:2; stroke-opacity:0.1; fill:none\" points=\"\n",
       "  169.469,1486.45 2112.76,1486.45 \n",
       "  \"/>\n",
       "<polyline clip-path=\"url(#clip552)\" style=\"stroke:#000000; stroke-width:2; stroke-opacity:0.1; fill:none\" points=\"\n",
       "  169.469,1126.65 2112.76,1126.65 \n",
       "  \"/>\n",
       "<polyline clip-path=\"url(#clip552)\" style=\"stroke:#000000; stroke-width:2; stroke-opacity:0.1; fill:none\" points=\"\n",
       "  169.469,766.846 2112.76,766.846 \n",
       "  \"/>\n",
       "<polyline clip-path=\"url(#clip552)\" style=\"stroke:#000000; stroke-width:2; stroke-opacity:0.1; fill:none\" points=\"\n",
       "  169.469,407.045 2112.76,407.045 \n",
       "  \"/>\n",
       "<polyline clip-path=\"url(#clip552)\" style=\"stroke:#000000; stroke-width:2; stroke-opacity:0.1; fill:none\" points=\"\n",
       "  169.469,47.2441 2112.76,47.2441 \n",
       "  \"/>\n",
       "<polyline clip-path=\"url(#clip550)\" style=\"stroke:#000000; stroke-width:4; stroke-opacity:1; fill:none\" points=\"\n",
       "  169.469,1486.45 169.469,47.2441 \n",
       "  \"/>\n",
       "<polyline clip-path=\"url(#clip550)\" style=\"stroke:#000000; stroke-width:4; stroke-opacity:1; fill:none\" points=\"\n",
       "  169.469,1486.45 192.788,1486.45 \n",
       "  \"/>\n",
       "<polyline clip-path=\"url(#clip550)\" style=\"stroke:#000000; stroke-width:4; stroke-opacity:1; fill:none\" points=\"\n",
       "  169.469,1126.65 192.788,1126.65 \n",
       "  \"/>\n",
       "<polyline clip-path=\"url(#clip550)\" style=\"stroke:#000000; stroke-width:4; stroke-opacity:1; fill:none\" points=\"\n",
       "  169.469,766.846 192.788,766.846 \n",
       "  \"/>\n",
       "<polyline clip-path=\"url(#clip550)\" style=\"stroke:#000000; stroke-width:4; stroke-opacity:1; fill:none\" points=\"\n",
       "  169.469,407.045 192.788,407.045 \n",
       "  \"/>\n",
       "<polyline clip-path=\"url(#clip550)\" style=\"stroke:#000000; stroke-width:4; stroke-opacity:1; fill:none\" points=\"\n",
       "  169.469,47.2441 192.788,47.2441 \n",
       "  \"/>\n",
       "<path clip-path=\"url(#clip550)\" d=\"M 0 0 M50.9921 1486.9 L80.6679 1486.9 L80.6679 1490.83 L50.9921 1490.83 L50.9921 1486.9 Z\" fill=\"#000000\" fill-rule=\"evenodd\" fill-opacity=\"1\" /><path clip-path=\"url(#clip550)\" d=\"M 0 0 M86.5475 1499.79 L94.1863 1499.79 L94.1863 1473.43 L85.8762 1475.09 L85.8762 1470.83 L94.14 1469.17 L98.8159 1469.17 L98.8159 1499.79 L106.455 1499.79 L106.455 1503.73 L86.5475 1503.73 L86.5475 1499.79 Z\" fill=\"#000000\" fill-rule=\"evenodd\" fill-opacity=\"1\" /><path clip-path=\"url(#clip550)\" d=\"M 0 0 M121.524 1472.25 Q117.913 1472.25 116.084 1475.81 Q114.279 1479.35 114.279 1486.48 Q114.279 1493.59 116.084 1497.15 Q117.913 1500.7 121.524 1500.7 Q125.158 1500.7 126.964 1497.15 Q128.793 1493.59 128.793 1486.48 Q128.793 1479.35 126.964 1475.81 Q125.158 1472.25 121.524 1472.25 M121.524 1468.54 Q127.334 1468.54 130.39 1473.15 Q133.469 1477.73 133.469 1486.48 Q133.469 1495.21 130.39 1499.82 Q127.334 1504.4 121.524 1504.4 Q115.714 1504.4 112.635 1499.82 Q109.58 1495.21 109.58 1486.48 Q109.58 1477.73 112.635 1473.15 Q115.714 1468.54 121.524 1468.54 Z\" fill=\"#000000\" fill-rule=\"evenodd\" fill-opacity=\"1\" /><path clip-path=\"url(#clip550)\" d=\"M 0 0 M77.7744 1127.1 L107.45 1127.1 L107.45 1131.03 L77.7744 1131.03 L77.7744 1127.1 Z\" fill=\"#000000\" fill-rule=\"evenodd\" fill-opacity=\"1\" /><path clip-path=\"url(#clip550)\" d=\"M 0 0 M112.566 1109.37 L130.922 1109.37 L130.922 1113.3 L116.848 1113.3 L116.848 1121.77 Q117.867 1121.43 118.885 1121.27 Q119.904 1121.08 120.922 1121.08 Q126.709 1121.08 130.089 1124.25 Q133.469 1127.42 133.469 1132.84 Q133.469 1138.42 129.996 1141.52 Q126.524 1144.6 120.205 1144.6 Q118.029 1144.6 115.76 1144.23 Q113.515 1143.86 111.108 1143.12 L111.108 1138.42 Q113.191 1139.55 115.413 1140.11 Q117.635 1140.66 120.112 1140.66 Q124.117 1140.66 126.455 1138.56 Q128.793 1136.45 128.793 1132.84 Q128.793 1129.23 126.455 1127.12 Q124.117 1125.01 120.112 1125.01 Q118.237 1125.01 116.362 1125.43 Q114.51 1125.85 112.566 1126.73 L112.566 1109.37 Z\" fill=\"#000000\" fill-rule=\"evenodd\" fill-opacity=\"1\" /><path clip-path=\"url(#clip550)\" d=\"M 0 0 M121.524 752.645 Q117.913 752.645 116.084 756.209 Q114.279 759.751 114.279 766.881 Q114.279 773.987 116.084 777.552 Q117.913 781.094 121.524 781.094 Q125.158 781.094 126.964 777.552 Q128.793 773.987 128.793 766.881 Q128.793 759.751 126.964 756.209 Q125.158 752.645 121.524 752.645 M121.524 748.941 Q127.334 748.941 130.39 753.547 Q133.469 758.131 133.469 766.881 Q133.469 775.608 130.39 780.214 Q127.334 784.797 121.524 784.797 Q115.714 784.797 112.635 780.214 Q109.58 775.608 109.58 766.881 Q109.58 758.131 112.635 753.547 Q115.714 748.941 121.524 748.941 Z\" fill=\"#000000\" fill-rule=\"evenodd\" fill-opacity=\"1\" /><path clip-path=\"url(#clip550)\" d=\"M 0 0 M112.566 389.765 L130.922 389.765 L130.922 393.7 L116.848 393.7 L116.848 402.172 Q117.867 401.825 118.885 401.663 Q119.904 401.478 120.922 401.478 Q126.709 401.478 130.089 404.649 Q133.469 407.82 133.469 413.237 Q133.469 418.816 129.996 421.918 Q126.524 424.996 120.205 424.996 Q118.029 424.996 115.76 424.626 Q113.515 424.256 111.108 423.515 L111.108 418.816 Q113.191 419.95 115.413 420.506 Q117.635 421.061 120.112 421.061 Q124.117 421.061 126.455 418.955 Q128.793 416.848 128.793 413.237 Q128.793 409.626 126.455 407.52 Q124.117 405.413 120.112 405.413 Q118.237 405.413 116.362 405.83 Q114.51 406.246 112.566 407.126 L112.566 389.765 Z\" fill=\"#000000\" fill-rule=\"evenodd\" fill-opacity=\"1\" /><path clip-path=\"url(#clip550)\" d=\"M 0 0 M86.5475 60.5889 L94.1863 60.5889 L94.1863 34.2233 L85.8762 35.89 L85.8762 31.6308 L94.14 29.9641 L98.8159 29.9641 L98.8159 60.5889 L106.455 60.5889 L106.455 64.5241 L86.5475 64.5241 L86.5475 60.5889 Z\" fill=\"#000000\" fill-rule=\"evenodd\" fill-opacity=\"1\" /><path clip-path=\"url(#clip550)\" d=\"M 0 0 M121.524 33.0428 Q117.913 33.0428 116.084 36.6076 Q114.279 40.1492 114.279 47.2788 Q114.279 54.3853 116.084 57.9501 Q117.913 61.4917 121.524 61.4917 Q125.158 61.4917 126.964 57.9501 Q128.793 54.3853 128.793 47.2788 Q128.793 40.1492 126.964 36.6076 Q125.158 33.0428 121.524 33.0428 M121.524 29.3391 Q127.334 29.3391 130.39 33.9456 Q133.469 38.5289 133.469 47.2788 Q133.469 56.0056 130.39 60.6121 Q127.334 65.1954 121.524 65.1954 Q115.714 65.1954 112.635 60.6121 Q109.58 56.0056 109.58 47.2788 Q109.58 38.5289 112.635 33.9456 Q115.714 29.3391 121.524 29.3391 Z\" fill=\"#000000\" fill-rule=\"evenodd\" fill-opacity=\"1\" /><polyline clip-path=\"url(#clip552)\" style=\"stroke:#3b0964; stroke-width:4; stroke-opacity:1; fill:none\" points=\"\n",
       "  169.469,1481.38 183.888,1479.25 188.901,1478.51 208.334,1475.67 227.767,1472.89 233.708,1472.06 247.2,1470.15 266.633,1467.45 285.72,1464.86 286.066,1464.81 \n",
       "  305.499,1462.2 324.932,1459.65 340.45,1457.66 344.364,1457.16 363.797,1454.7 383.23,1452.29 398.356,1450.47 402.663,1449.94 422.096,1447.63 441.529,1445.38 \n",
       "  460.193,1443.27 460.962,1443.18 480.395,1441.03 499.827,1438.93 519.26,1436.89 527.207,1436.08 538.693,1434.89 558.126,1432.95 577.559,1431.07 596.992,1429.24 \n",
       "  600.974,1428.88 616.425,1427.46 635.858,1425.74 655.29,1424.07 674.723,1422.47 684.632,1421.68 694.156,1420.92 713.589,1419.42 733.022,1417.98 752.455,1416.6 \n",
       "  771.888,1415.28 784.168,1414.49 791.32,1414.02 810.753,1412.81 830.186,1411.66 849.619,1410.57 869.052,1409.54 888.485,1408.58 907.918,1407.67 916.639,1407.29 \n",
       "  927.351,1406.82 946.783,1406.03 966.216,1405.3 985.649,1404.63 1005.08,1404.02 1024.51,1403.47 1043.95,1402.99 1063.38,1402.56 1082.81,1402.2 1102.25,1401.9 \n",
       "  1121.68,1401.65 1141.11,1401.47 1160.55,1401.36 1179.98,1401.3 1199.41,1401.3 1218.84,1401.36 1238.28,1401.49 1257.71,1401.68 1277.14,1401.92 1296.58,1402.23 \n",
       "  1316.01,1402.6 1335.44,1403.03 1354.87,1403.51 1374.31,1404.06 1393.74,1404.68 1413.17,1405.35 1432.61,1406.08 1452.04,1406.87 1461.67,1407.29 1471.47,1407.72 \n",
       "  1490.9,1408.62 1510.34,1409.58 1529.77,1410.6 1549.2,1411.68 1568.64,1412.82 1588.07,1414.02 1595.22,1414.49 1607.5,1415.27 1626.93,1416.58 1646.37,1417.94 \n",
       "  1665.8,1419.36 1685.23,1420.84 1695.84,1421.68 1704.67,1422.38 1724.1,1423.96 1743.53,1425.59 1762.96,1427.29 1780.6,1428.88 1782.4,1429.04 1801.83,1430.83 \n",
       "  1821.26,1432.68 1840.7,1434.59 1855.44,1436.08 1860.13,1436.54 1879.56,1438.54 1898.99,1440.6 1918.43,1442.71 1923.47,1443.27 1937.86,1444.86 1957.29,1447.06 \n",
       "  1976.73,1449.32 1986.41,1450.47 1996.16,1451.61 2015.59,1453.96 2035.02,1456.35 2045.4,1457.66 2054.46,1458.8 2073.89,1461.28 2093.32,1463.81 2101.18,1464.86 \n",
       "  2112.76,1466.39 \n",
       "  \"/>\n",
       "<polyline clip-path=\"url(#clip552)\" style=\"stroke:#1f0c47; stroke-width:4; stroke-opacity:1; fill:none\" points=\"\n",
       "  2059.83,1486.45 2054.46,1485.78 2035.02,1483.43 2015.59,1481.14 1999.26,1479.25 1996.16,1478.89 1976.73,1476.68 1957.29,1474.52 1937.86,1472.41 1934.48,1472.06 \n",
       "  1918.43,1470.34 1898.99,1468.32 1879.56,1466.36 1864.32,1464.86 1860.13,1464.44 1840.7,1462.57 1821.26,1460.75 1801.83,1458.98 1786.91,1457.66 1782.4,1457.26 \n",
       "  1762.96,1455.59 1743.53,1453.97 1724.1,1452.41 1704.67,1450.9 1698.92,1450.47 1685.23,1449.43 1665.8,1448.02 1646.37,1446.67 1626.93,1445.37 1607.5,1444.12 \n",
       "  1593.53,1443.27 1588.07,1442.93 1568.64,1441.79 1549.2,1440.71 1529.77,1439.68 1510.34,1438.71 1490.9,1437.79 1471.47,1436.93 1452.04,1436.13 1450.51,1436.08 \n",
       "  1432.61,1435.38 1413.17,1434.69 1393.74,1434.05 1374.31,1433.48 1354.87,1432.96 1335.44,1432.5 1316.01,1432.09 1296.58,1431.75 1277.14,1431.46 1257.71,1431.23 \n",
       "  1238.28,1431.06 1218.84,1430.95 1199.41,1430.89 1179.98,1430.9 1160.55,1430.96 1141.11,1431.08 1121.68,1431.26 1102.25,1431.49 1082.81,1431.79 1063.38,1432.14 \n",
       "  1043.95,1432.56 1024.51,1433.03 1005.08,1433.56 985.649,1434.15 966.216,1434.8 946.783,1435.5 932.199,1436.08 927.351,1436.26 907.918,1437.08 888.485,1437.95 \n",
       "  869.052,1438.88 849.619,1439.87 830.186,1440.92 810.753,1442.03 791.32,1443.2 790.106,1443.27 771.888,1444.41 752.455,1445.68 733.022,1447 713.589,1448.39 \n",
       "  694.156,1449.83 685.885,1450.47 674.723,1451.32 655.29,1452.86 635.858,1454.46 616.425,1456.12 598.933,1457.66 596.992,1457.83 577.559,1459.59 558.126,1461.4 \n",
       "  538.693,1463.27 522.615,1464.86 519.26,1465.19 499.827,1467.15 480.395,1469.17 460.962,1471.24 453.568,1472.06 441.529,1473.36 422.096,1475.53 402.663,1477.75 \n",
       "  389.871,1479.25 383.23,1480.02 363.797,1482.33 344.364,1484.7 330.351,1486.45 \n",
       "  \"/>\n",
       "<polyline clip-path=\"url(#clip552)\" style=\"stroke:#6e186e; stroke-width:4; stroke-opacity:1; fill:none\" points=\"\n",
       "  169.469,1424.72 188.458,1421.68 188.901,1421.61 208.334,1418.54 227.767,1415.52 234.556,1414.49 247.2,1412.54 266.633,1409.62 282.437,1407.29 286.066,1406.75 \n",
       "  305.499,1403.92 324.932,1401.15 332.501,1400.1 344.364,1398.42 363.797,1395.75 383.23,1393.14 385.067,1392.9 402.663,1390.57 422.096,1388.05 440.755,1385.7 \n",
       "  441.529,1385.6 460.962,1383.19 480.395,1380.85 499.827,1378.56 500.311,1378.51 519.26,1376.32 538.693,1374.14 558.126,1372.03 564.913,1371.31 577.559,1369.96 \n",
       "  596.992,1367.96 616.425,1366.02 635.858,1364.14 636.134,1364.12 655.29,1362.31 674.723,1360.55 694.156,1358.85 713.589,1357.22 717.318,1356.92 733.022,1355.64 \n",
       "  752.455,1354.12 771.888,1352.68 791.32,1351.29 810.753,1349.98 814.762,1349.72 830.186,1348.72 849.619,1347.53 869.052,1346.4 888.485,1345.34 907.918,1344.35 \n",
       "  927.351,1343.43 946.783,1342.57 947.9,1342.53 966.216,1341.78 985.649,1341.05 1005.08,1340.39 1024.51,1339.79 1043.95,1339.27 1063.38,1338.81 1082.81,1338.43 \n",
       "  1102.25,1338.11 1121.68,1337.85 1141.11,1337.67 1160.55,1337.55 1179.98,1337.51 1199.41,1337.53 1218.84,1337.62 1238.28,1337.77 1257.71,1337.99 1277.14,1338.29 \n",
       "  1296.58,1338.64 1316.01,1339.07 1335.44,1339.56 1354.87,1340.12 1374.31,1340.75 1393.74,1341.45 1413.17,1342.21 1420.55,1342.53 1432.61,1343.04 1452.04,1343.92 \n",
       "  1471.47,1344.88 1490.9,1345.89 1510.34,1346.98 1529.77,1348.13 1549.2,1349.35 1554.89,1349.72 1568.64,1350.62 1588.07,1351.95 1607.5,1353.35 1626.93,1354.81 \n",
       "  1646.37,1356.34 1653.4,1356.92 1665.8,1357.92 1685.23,1359.56 1704.67,1361.26 1724.1,1363.03 1735.62,1364.12 1743.53,1364.85 1762.96,1366.72 1782.4,1368.66 \n",
       "  1801.83,1370.66 1808,1371.31 1821.26,1372.7 1840.7,1374.8 1860.13,1376.96 1873.63,1378.51 1879.56,1379.18 1898.99,1381.44 1918.43,1383.76 1934.29,1385.7 \n",
       "  1937.86,1386.14 1957.29,1388.55 1976.73,1391.03 1991.06,1392.9 1996.16,1393.56 2015.59,1396.13 2035.02,1398.75 2044.73,1400.1 2054.46,1401.43 2073.89,1404.14 \n",
       "  2093.32,1406.92 2095.88,1407.29 2112.76,1409.73 \n",
       "  \"/>\n",
       "<polyline clip-path=\"url(#clip552)\" style=\"stroke:#88216a; stroke-width:4; stroke-opacity:1; fill:none\" points=\"\n",
       "  2112.76,1379.46 2106.44,1378.51 2093.32,1376.5 2073.89,1373.59 2058.38,1371.31 2054.46,1370.73 2035.02,1367.91 2015.59,1365.15 2008.17,1364.12 1996.16,1362.43 \n",
       "  1976.73,1359.76 1957.29,1357.16 1955.46,1356.92 1937.86,1354.59 1918.43,1352.09 1899.62,1349.72 1898.99,1349.64 1879.56,1347.24 1860.13,1344.9 1840.7,1342.62 \n",
       "  1839.89,1342.53 1821.26,1340.38 1801.83,1338.21 1782.4,1336.1 1775.05,1335.33 1762.96,1334.05 1743.53,1332.05 1724.1,1330.12 1704.67,1328.25 1703.4,1328.14 \n",
       "  1685.23,1326.43 1665.8,1324.68 1646.37,1323 1626.93,1321.38 1621.37,1320.94 1607.5,1319.82 1588.07,1318.32 1568.64,1316.89 1549.2,1315.54 1529.77,1314.25 \n",
       "  1521.78,1313.74 1510.34,1313.02 1490.9,1311.85 1471.47,1310.75 1452.04,1309.73 1432.61,1308.78 1413.17,1307.89 1393.74,1307.08 1379.83,1306.55 1374.31,1306.33 \n",
       "  1354.87,1305.65 1335.44,1305.05 1316.01,1304.51 1296.58,1304.04 1277.14,1303.65 1257.71,1303.33 1238.28,1303.08 1218.84,1302.91 1199.41,1302.8 1179.98,1302.77 \n",
       "  1160.55,1302.81 1141.11,1302.93 1121.68,1303.11 1102.25,1303.37 1082.81,1303.7 1063.38,1304.11 1043.95,1304.59 1024.51,1305.14 1005.08,1305.76 985.649,1306.45 \n",
       "  983.278,1306.55 966.216,1307.21 946.783,1308.04 927.351,1308.95 907.918,1309.92 888.485,1310.97 869.052,1312.09 849.619,1313.28 842.493,1313.74 830.186,1314.53 \n",
       "  810.753,1315.85 791.32,1317.24 771.888,1318.71 752.455,1320.24 744.002,1320.94 733.022,1321.84 713.589,1323.49 694.156,1325.22 674.723,1327.02 663.094,1328.14 \n",
       "  655.29,1328.88 635.858,1330.79 616.425,1332.78 596.992,1334.83 592.446,1335.33 577.559,1336.94 558.126,1339.11 538.693,1341.35 528.761,1342.53 519.26,1343.64 \n",
       "  499.827,1345.99 480.395,1348.41 470.105,1349.72 460.962,1350.88 441.529,1353.4 422.096,1355.99 415.331,1356.92 402.663,1358.63 383.23,1361.33 363.797,1364.09 \n",
       "  363.614,1364.12 344.364,1366.88 324.932,1369.75 314.547,1371.31 305.499,1372.66 286.066,1375.62 267.514,1378.51 266.633,1378.64 247.2,1381.7 227.767,1384.82 \n",
       "  222.373,1385.7 208.334,1387.98 188.901,1391.19 178.779,1392.9 169.469,1394.45 \n",
       "  \"/>\n",
       "<polyline clip-path=\"url(#clip552)\" style=\"stroke:#a12b61; stroke-width:4; stroke-opacity:1; fill:none\" points=\"\n",
       "  169.469,1362.63 188.901,1359.2 202.07,1356.92 208.334,1355.82 227.767,1352.49 244.197,1349.72 247.2,1349.21 266.633,1345.97 286.066,1342.8 287.798,1342.53 \n",
       "  305.499,1339.67 324.932,1336.6 333.144,1335.33 344.364,1333.58 363.797,1330.61 380.416,1328.14 383.23,1327.71 402.663,1324.85 422.096,1322.06 430.111,1320.94 \n",
       "  441.529,1319.32 460.962,1316.64 480.395,1314.03 482.619,1313.74 499.827,1311.47 519.26,1308.97 538.693,1306.55 538.722,1306.55 558.126,1304.17 577.559,1301.86 \n",
       "  596.992,1299.63 599.526,1299.35 616.425,1297.45 635.858,1295.34 655.29,1293.3 666.64,1292.16 674.723,1291.33 694.156,1289.42 713.589,1287.58 733.022,1285.82 \n",
       "  742.924,1284.96 752.455,1284.12 771.888,1282.49 791.32,1280.94 810.753,1279.46 830.186,1278.06 834.473,1277.76 849.619,1276.72 869.052,1275.45 888.485,1274.26 \n",
       "  907.918,1273.15 927.351,1272.12 946.783,1271.16 959.931,1270.57 966.216,1270.28 985.649,1269.47 1005.08,1268.73 1024.51,1268.08 1043.95,1267.5 1063.38,1267 \n",
       "  1082.81,1266.57 1102.25,1266.23 1121.68,1265.96 1141.11,1265.78 1160.55,1265.67 1179.98,1265.63 1199.41,1265.68 1218.84,1265.8 1238.28,1266 1257.71,1266.28 \n",
       "  1277.14,1266.63 1296.58,1267.06 1316.01,1267.57 1335.44,1268.16 1354.87,1268.82 1374.31,1269.56 1393.74,1270.38 1397.91,1270.57 1413.17,1271.26 1432.61,1272.22 \n",
       "  1452.04,1273.25 1471.47,1274.36 1490.9,1275.54 1510.34,1276.8 1524.39,1277.76 1529.77,1278.13 1549.2,1279.52 1568.64,1280.98 1588.07,1282.52 1607.5,1284.13 \n",
       "  1617.03,1284.96 1626.93,1285.81 1646.37,1287.54 1665.8,1289.35 1685.23,1291.23 1694.39,1292.16 1704.67,1293.17 1724.1,1295.17 1743.53,1297.25 1762.62,1299.35 \n",
       "  1762.96,1299.39 1782.4,1301.57 1801.83,1303.83 1821.26,1306.16 1824.43,1306.55 1840.7,1308.53 1860.13,1310.96 1879.56,1313.47 1881.66,1313.74 1898.99,1316.01 \n",
       "  1918.43,1318.62 1935.27,1320.94 1937.86,1321.29 1957.29,1324 1976.73,1326.78 1985.99,1328.14 1996.16,1329.61 2015.59,1332.48 2034.42,1335.33 2035.02,1335.42 \n",
       "  2054.46,1338.39 2073.89,1341.43 2080.76,1342.53 2093.32,1344.51 2112.76,1347.64 \n",
       "  \"/>\n",
       "<polyline clip-path=\"url(#clip552)\" style=\"stroke:#ba3655; stroke-width:4; stroke-opacity:1; fill:none\" points=\"\n",
       "  2112.76,1314 2111.25,1313.74 2093.32,1310.66 2073.89,1307.39 2068.8,1306.55 2054.46,1304.15 2035.02,1300.97 2024.89,1299.35 2015.59,1297.84 1996.16,1294.77 \n",
       "  1979.29,1292.16 1976.73,1291.75 1957.29,1288.78 1937.86,1285.87 1931.61,1284.96 1918.43,1283.01 1898.99,1280.21 1881.54,1277.76 1879.56,1277.48 1860.13,1274.79 \n",
       "  1840.7,1272.17 1828.41,1270.57 1821.26,1269.62 1801.83,1267.12 1782.4,1264.69 1771.51,1263.37 1762.96,1262.32 1743.53,1260.01 1724.1,1257.78 1709.63,1256.18 \n",
       "  1704.67,1255.62 1685.23,1253.51 1665.8,1251.47 1646.37,1249.52 1640.75,1248.98 1626.93,1247.63 1607.5,1245.8 1588.07,1244.06 1568.64,1242.39 1561.17,1241.78 \n",
       "  1549.2,1240.79 1529.77,1239.26 1510.34,1237.82 1490.9,1236.45 1471.47,1235.16 1462.18,1234.59 1452.04,1233.95 1432.61,1232.81 1413.17,1231.75 1393.74,1230.78 \n",
       "  1374.31,1229.88 1354.87,1229.07 1335.44,1228.35 1316.01,1227.7 1305.25,1227.39 1296.58,1227.14 1277.14,1226.65 1257.71,1226.25 1238.28,1225.93 1218.84,1225.7 \n",
       "  1199.41,1225.56 1179.98,1225.49 1160.55,1225.52 1141.11,1225.63 1121.68,1225.82 1102.25,1226.1 1082.81,1226.46 1063.38,1226.91 1045.84,1227.39 1043.95,1227.44 \n",
       "  1024.51,1228.05 1005.08,1228.75 985.649,1229.53 966.216,1230.39 946.783,1231.34 927.351,1232.37 907.918,1233.49 890.107,1234.59 888.485,1234.69 869.052,1235.95 \n",
       "  849.619,1237.3 830.186,1238.74 810.753,1240.26 792.214,1241.78 791.32,1241.86 771.888,1243.52 752.455,1245.26 733.022,1247.08 713.728,1248.98 713.589,1248.99 \n",
       "  694.156,1250.95 674.723,1253 655.29,1255.12 646.027,1256.18 635.858,1257.31 616.425,1259.57 596.992,1261.91 585.208,1263.37 577.559,1264.31 558.126,1266.77 \n",
       "  538.693,1269.31 529.396,1270.57 519.26,1271.92 499.827,1274.58 480.395,1277.32 477.346,1277.76 460.962,1280.11 441.529,1282.97 428.349,1284.96 422.096,1285.89 \n",
       "  402.663,1288.86 383.23,1291.91 381.735,1292.16 363.797,1295 344.364,1298.16 337.226,1299.35 324.932,1301.37 305.499,1304.64 294.403,1306.55 286.066,1307.96 \n",
       "  266.633,1311.33 253.05,1313.74 247.2,1314.77 227.767,1318.24 212.989,1320.94 208.334,1321.78 188.901,1325.35 174.066,1328.14 169.469,1328.99 \n",
       "  \"/>\n",
       "<polyline clip-path=\"url(#clip552)\" style=\"stroke:#d04544; stroke-width:4; stroke-opacity:1; fill:none\" points=\"\n",
       "  169.469,1293.16 174.573,1292.16 188.901,1289.29 208.334,1285.47 211.009,1284.96 227.767,1281.69 247.2,1277.98 248.374,1277.76 266.633,1274.3 286.066,1270.7 \n",
       "  286.793,1270.57 305.499,1267.13 324.932,1263.63 326.414,1263.37 344.364,1260.17 363.797,1256.79 367.413,1256.18 383.23,1253.45 402.663,1250.18 410.003,1248.98 \n",
       "  422.096,1246.97 441.529,1243.82 454.444,1241.78 460.962,1240.74 480.395,1237.71 499.827,1234.77 501.09,1234.59 519.26,1231.88 538.693,1229.06 550.588,1227.39 \n",
       "  558.126,1226.32 577.559,1223.63 596.992,1221.04 603.511,1220.2 616.425,1218.5 635.858,1216.04 655.29,1213.67 660.998,1213 674.723,1211.36 694.156,1209.13 \n",
       "  713.589,1206.99 724.836,1205.8 733.022,1204.93 752.455,1202.93 771.888,1201.03 791.32,1199.22 798.228,1198.61 810.753,1197.48 830.186,1195.82 849.619,1194.26 \n",
       "  869.052,1192.79 888.422,1191.41 888.485,1191.41 907.918,1190.1 927.351,1188.88 946.783,1187.76 966.216,1186.73 985.649,1185.79 1005.08,1184.95 1024.07,1184.22 \n",
       "  1024.51,1184.2 1043.95,1183.53 1063.38,1182.95 1082.81,1182.47 1102.25,1182.09 1121.68,1181.8 1141.11,1181.6 1160.55,1181.5 1179.98,1181.49 1199.41,1181.57 \n",
       "  1218.84,1181.75 1238.28,1182.02 1257.71,1182.39 1277.14,1182.85 1296.58,1183.4 1316.01,1184.04 1320.58,1184.22 1335.44,1184.77 1354.87,1185.59 1374.31,1186.49 \n",
       "  1393.74,1187.49 1413.17,1188.58 1432.61,1189.77 1452.04,1191.04 1457.37,1191.41 1471.47,1192.38 1490.9,1193.81 1510.34,1195.33 1529.77,1196.94 1548.88,1198.61 \n",
       "  1549.2,1198.63 1568.64,1200.39 1588.07,1202.23 1607.5,1204.16 1623.28,1205.8 1626.93,1206.18 1646.37,1208.25 1665.8,1210.4 1685.23,1212.64 1688.19,1213 \n",
       "  1704.67,1214.94 1724.1,1217.31 1743.53,1219.77 1746.76,1220.2 1762.96,1222.28 1782.4,1224.87 1800.79,1227.39 1801.83,1227.53 1821.26,1230.24 1840.7,1233.03 \n",
       "  1851.26,1234.59 1860.13,1235.88 1879.56,1238.78 1898.99,1241.77 1899.09,1241.78 1918.43,1244.79 1937.86,1247.88 1944.56,1248.98 1957.29,1251.03 1976.73,1254.24 \n",
       "  1988.2,1256.18 1996.16,1257.5 2015.59,1260.81 2030.28,1263.37 2035.02,1264.19 2054.46,1267.6 2070.98,1270.57 2073.89,1271.08 2093.32,1274.59 2110.49,1277.76 \n",
       "  2112.76,1278.18 \n",
       "  \"/>\n",
       "<polyline clip-path=\"url(#clip552)\" style=\"stroke:#e35832; stroke-width:4; stroke-opacity:1; fill:none\" points=\"\n",
       "  2112.76,1239.68 2093.32,1235.81 2087.04,1234.59 2073.89,1231.98 2054.46,1228.22 2050.11,1227.39 2035.02,1224.49 2015.59,1220.82 2012.19,1220.2 1996.16,1217.19 \n",
       "  1976.73,1213.64 1973.15,1213 1957.29,1210.12 1937.86,1206.68 1932.8,1205.8 1918.43,1203.28 1898.99,1199.95 1890.96,1198.61 1879.56,1196.67 1860.13,1193.46 \n",
       "  1847.35,1191.41 1840.7,1190.32 1821.26,1187.24 1801.83,1184.24 1801.65,1184.22 1782.4,1181.28 1762.96,1178.42 1753.18,1177.02 1743.53,1175.62 1724.1,1172.88 \n",
       "  1704.67,1170.24 1701.45,1169.82 1685.23,1167.66 1665.8,1165.16 1646.37,1162.76 1645.27,1162.63 1626.93,1160.41 1607.5,1158.15 1588.07,1155.99 1582.76,1155.43 \n",
       "  1568.64,1153.9 1549.2,1151.9 1529.77,1150 1510.77,1148.23 1510.34,1148.19 1490.9,1146.46 1471.47,1144.82 1452.04,1143.28 1432.61,1141.85 1420.84,1141.04 \n",
       "  1413.17,1140.5 1393.74,1139.25 1374.31,1138.09 1354.87,1137.04 1335.44,1136.09 1316.01,1135.25 1296.58,1134.51 1277.14,1133.88 1275.92,1133.84 1257.71,1133.34 \n",
       "  1238.28,1132.9 1218.84,1132.57 1199.41,1132.35 1179.98,1132.23 1160.55,1132.22 1141.11,1132.32 1121.68,1132.52 1102.25,1132.83 1082.81,1133.25 1063.38,1133.78 \n",
       "  1061.42,1133.84 1043.95,1134.4 1024.51,1135.13 1005.08,1135.96 985.649,1136.9 966.216,1137.94 946.783,1139.09 927.351,1140.35 917.53,1141.04 907.918,1141.7 \n",
       "  888.485,1143.14 869.052,1144.69 849.619,1146.34 830.186,1148.09 828.699,1148.23 810.753,1149.92 791.32,1151.85 771.888,1153.88 757.763,1155.43 752.455,1156 \n",
       "  733.022,1158.2 713.589,1160.5 696.347,1162.63 694.156,1162.89 674.723,1165.35 655.29,1167.9 641.254,1169.82 635.858,1170.55 616.425,1173.25 596.992,1176.06 \n",
       "  590.577,1177.02 577.559,1178.93 558.126,1181.88 543.24,1184.22 538.693,1184.92 519.26,1188.01 499.827,1191.19 498.529,1191.41 480.395,1194.42 460.962,1197.74 \n",
       "  456.031,1198.61 441.529,1201.11 422.096,1204.56 415.285,1205.8 402.663,1208.07 383.23,1211.64 376.034,1213 363.797,1215.27 344.364,1218.97 338.068,1220.2 \n",
       "  324.932,1222.71 305.499,1226.53 301.213,1227.39 286.066,1230.39 266.633,1234.32 265.326,1234.59 247.2,1238.28 230.341,1241.78 227.767,1242.31 208.334,1246.38 \n",
       "  196.142,1248.98 188.901,1250.5 169.469,1254.67 \n",
       "  \"/>\n",
       "<polyline clip-path=\"url(#clip552)\" style=\"stroke:#f0701e; stroke-width:4; stroke-opacity:1; fill:none\" points=\"\n",
       "  169.469,1212.83 188.901,1208.26 199.556,1205.8 208.334,1203.75 227.767,1199.29 230.79,1198.61 247.2,1194.86 262.611,1191.41 266.633,1190.5 286.066,1186.17 \n",
       "  295.061,1184.22 305.499,1181.9 324.932,1177.7 328.161,1177.02 344.364,1173.53 362.048,1169.82 363.797,1169.45 383.23,1165.4 396.861,1162.63 402.663,1161.43 \n",
       "  422.096,1157.51 432.661,1155.43 441.529,1153.66 460.962,1149.87 469.616,1148.23 480.395,1146.16 499.827,1142.51 507.934,1141.04 519.26,1138.94 538.693,1135.44 \n",
       "  547.873,1133.84 558.126,1132.02 577.559,1128.68 589.763,1126.65 596.992,1125.42 616.425,1122.23 634.031,1119.45 635.858,1119.16 655.29,1116.13 674.723,1113.23 \n",
       "  681.5,1112.25 694.156,1110.4 713.589,1107.66 732.945,1105.06 733.022,1105.05 752.455,1102.49 771.888,1100.06 790.331,1097.86 791.32,1097.74 810.753,1095.5 \n",
       "  830.186,1093.37 849.619,1091.37 856.911,1090.67 869.052,1089.47 888.485,1087.67 907.918,1085.99 927.351,1084.44 940.509,1083.47 946.783,1083 966.216,1081.66 \n",
       "  985.649,1080.45 1005.08,1079.37 1024.51,1078.41 1043.95,1077.58 1063.38,1076.87 1082.81,1076.28 1083.22,1076.27 1102.25,1075.81 1121.68,1075.47 1141.11,1075.26 \n",
       "  1160.55,1075.17 1179.98,1075.21 1199.41,1075.38 1218.84,1075.67 1238.28,1076.09 1244.95,1076.27 1257.71,1076.62 1277.14,1077.28 1296.58,1078.06 1316.01,1078.96 \n",
       "  1335.44,1079.99 1354.87,1081.13 1374.31,1082.4 1389.25,1083.47 1393.74,1083.78 1413.17,1085.26 1432.61,1086.86 1452.04,1088.58 1471.47,1090.42 1473.97,1090.67 \n",
       "  1490.9,1092.33 1510.34,1094.36 1529.77,1096.5 1541.46,1097.86 1549.2,1098.74 1568.64,1101.07 1588.07,1103.5 1599.92,1105.06 1607.5,1106.03 1626.93,1108.64 \n",
       "  1646.37,1111.36 1652.55,1112.25 1665.8,1114.14 1685.23,1117.02 1701.07,1119.45 1704.67,1119.99 1724.1,1123.02 1743.53,1126.16 1746.48,1126.65 1762.96,1129.34 \n",
       "  1782.4,1132.62 1789.42,1133.84 1801.83,1135.96 1821.26,1139.38 1830.43,1141.04 1840.7,1142.86 1860.13,1146.41 1869.83,1148.23 1879.56,1150.03 1898.99,1153.71 \n",
       "  1907.86,1155.43 1918.43,1157.45 1937.86,1161.25 1944.74,1162.63 1957.29,1165.1 1976.73,1169.02 1980.62,1169.82 1996.16,1172.98 2015.59,1177.01 2015.63,1177.02 \n",
       "  2035.02,1181.07 2049.79,1184.22 2054.46,1185.19 2073.89,1189.35 2083.29,1191.41 2093.32,1193.57 2112.76,1197.83 \n",
       "  \"/>\n",
       "<polyline clip-path=\"url(#clip552)\" style=\"stroke:#f98c09; stroke-width:4; stroke-opacity:1; fill:none\" points=\"\n",
       "  2112.76,1151.53 2099.28,1148.23 2093.32,1146.75 2073.89,1142.01 2069.85,1141.04 2054.46,1137.29 2040.02,1133.84 2035.02,1132.63 2015.59,1128 2009.77,1126.65 \n",
       "  1996.16,1123.41 1979.08,1119.45 1976.73,1118.89 1957.29,1114.4 1947.82,1112.25 1937.86,1109.96 1918.43,1105.58 1916.04,1105.06 1898.99,1101.24 1883.55,1097.86 \n",
       "  1879.56,1096.97 1860.13,1092.75 1850.3,1090.67 1840.7,1088.59 1821.26,1084.5 1816.22,1083.47 1801.83,1080.46 1782.4,1076.52 1781.16,1076.27 1762.96,1072.61 \n",
       "  1744.87,1069.08 1743.53,1068.81 1724.1,1065.05 1707.14,1061.88 1704.67,1061.41 1685.23,1057.81 1667.7,1054.69 1665.8,1054.34 1646.37,1050.92 1626.93,1047.63 \n",
       "  1626.1,1047.49 1607.5,1044.39 1588.07,1041.28 1581.6,1040.29 1568.64,1038.26 1549.2,1035.35 1533.4,1033.1 1529.77,1032.57 1510.34,1029.86 1490.9,1027.31 \n",
       "  1479.62,1025.9 1471.47,1024.86 1452.04,1022.53 1432.61,1020.34 1417.04,1018.71 1413.17,1018.29 1393.74,1016.34 1374.31,1014.55 1354.87,1012.91 1336.51,1011.51 \n",
       "  1335.44,1011.43 1316.01,1010.06 1296.58,1008.84 1277.14,1007.79 1257.71,1006.9 1238.28,1006.16 1218.84,1005.59 1199.41,1005.17 1179.98,1004.92 1160.55,1004.82 \n",
       "  1141.11,1004.89 1121.68,1005.12 1102.25,1005.51 1082.81,1006.06 1063.38,1006.78 1043.95,1007.65 1024.51,1008.69 1005.08,1009.9 985.649,1011.26 982.506,1011.51 \n",
       "  966.216,1012.76 946.783,1014.4 927.351,1016.2 907.918,1018.17 902.989,1018.71 888.485,1020.25 869.052,1022.47 849.619,1024.84 841.473,1025.9 830.186,1027.33 \n",
       "  810.753,1029.95 791.32,1032.71 788.75,1033.1 771.888,1035.56 752.455,1038.55 741.661,1040.29 733.022,1041.65 713.589,1044.85 698.276,1047.49 694.156,1048.18 \n",
       "  674.723,1051.58 657.714,1054.69 655.29,1055.12 635.858,1058.71 619.354,1061.88 616.425,1062.43 596.992,1066.21 582.745,1069.08 577.559,1070.1 558.126,1074.05 \n",
       "  547.549,1076.27 538.693,1078.09 519.26,1082.21 513.514,1083.47 499.827,1086.4 480.441,1090.67 480.395,1090.68 460.962,1094.99 448.354,1097.86 441.529,1099.39 \n",
       "  422.096,1103.85 416.949,1105.06 402.663,1108.36 386.198,1112.25 383.23,1112.94 363.797,1117.57 356.073,1119.45 344.364,1122.25 326.404,1126.65 324.932,1127 \n",
       "  305.499,1131.78 297.278,1133.84 286.066,1136.61 268.501,1141.04 266.633,1141.5 247.2,1146.42 240.167,1148.23 227.767,1151.38 212.135,1155.43 208.334,1156.4 \n",
       "  188.901,1161.44 184.437,1162.63 169.469,1166.52 \n",
       "  \"/>\n",
       "<polyline clip-path=\"url(#clip552)\" style=\"stroke:#fbaa0e; stroke-width:4; stroke-opacity:1; fill:none\" points=\"\n",
       "  169.469,1113.98 175.269,1112.25 188.901,1108.11 199.168,1105.06 208.334,1102.27 223.144,1097.86 227.767,1096.46 247.2,1090.67 247.203,1090.67 266.633,1084.88 \n",
       "  271.453,1083.47 286.066,1079.11 295.803,1076.27 305.499,1073.38 320.262,1069.08 324.932,1067.68 344.364,1062.02 344.847,1061.88 363.797,1056.36 369.676,1054.69 \n",
       "  383.23,1050.74 394.648,1047.49 402.663,1045.15 419.775,1040.29 422.096,1039.62 441.529,1034.1 445.168,1033.1 460.962,1028.62 470.819,1025.9 480.395,1023.19 \n",
       "  496.684,1018.71 499.827,1017.82 519.26,1012.48 522.891,1011.51 538.693,1007.18 549.471,1004.31 558.126,1001.95 576.355,997.119 577.559,996.79 596.992,991.66 \n",
       "  603.81,989.923 616.425,986.604 631.715,982.727 635.858,981.641 655.29,976.737 660.266,975.531 674.723,971.902 689.537,968.335 694.156,967.182 713.589,962.537 \n",
       "  719.709,961.138 733.022,957.982 750.884,953.942 752.455,953.573 771.888,949.226 783.566,946.746 791.32,945.033 810.753,940.968 817.931,939.55 830.186,937.028 \n",
       "  849.619,933.268 854.656,932.354 869.052,929.629 888.485,926.199 894.836,925.158 907.918,922.917 927.351,919.846 940.367,917.962 946.783,916.989 966.216,914.311 \n",
       "  985.649,911.904 995.986,910.766 1005.08,909.715 1024.51,907.751 1043.95,906.069 1063.38,904.669 1082.45,903.57 1082.81,903.548 1102.25,902.663 1121.68,902.072 \n",
       "  1141.11,901.773 1160.55,901.767 1179.98,902.052 1199.41,902.627 1218.84,903.492 1220.17,903.57 1238.28,904.589 1257.71,905.956 1277.14,907.594 1296.58,909.503 \n",
       "  1307.84,910.766 1316.01,911.638 1335.44,913.968 1354.87,916.554 1364.5,917.962 1374.31,919.329 1393.74,922.282 1411.24,925.158 1413.17,925.463 1432.61,928.748 \n",
       "  1452.04,932.264 1452.51,932.354 1471.47,935.857 1490.32,939.55 1490.9,939.66 1510.34,943.526 1525.69,946.746 1529.77,947.569 1549.2,951.69 1559.33,953.942 \n",
       "  1568.64,955.935 1588.07,960.29 1591.69,961.138 1607.5,964.706 1622.92,968.335 1626.93,969.245 1646.37,973.839 1653.25,975.531 1665.8,978.509 1682.92,982.727 \n",
       "  1685.23,983.278 1704.67,988.078 1711.88,989.923 1724.1,992.948 1740.39,997.119 1743.53,997.898 1762.96,1002.88 1768.39,1004.31 1782.4,1007.91 1796.02,1011.51 \n",
       "  1801.83,1013 1821.26,1018.14 1823.34,1018.71 1840.7,1023.3 1850.27,1025.9 1860.13,1028.51 1877.01,1033.1 1879.56,1033.77 1898.99,1039.05 1903.46,1040.29 \n",
       "  1918.43,1044.36 1929.68,1047.49 1937.86,1049.71 1955.77,1054.69 1957.29,1055.1 1976.73,1060.5 1981.6,1061.88 1996.16,1065.92 2007.29,1069.08 2015.59,1071.38 \n",
       "  2032.88,1076.27 2035.02,1076.87 2054.46,1082.37 2058.28,1083.47 2073.89,1087.88 2083.55,1090.67 2093.32,1093.42 2108.75,1097.86 2112.76,1098.99 \n",
       "  \"/>\n",
       "<polyline clip-path=\"url(#clip552)\" style=\"stroke:#f8c931; stroke-width:4; stroke-opacity:1; fill:none\" points=\"\n",
       "  2112.76,1036.65 2102.58,1033.1 2093.32,1029.78 2082.31,1025.9 2073.89,1022.86 2062.16,1018.71 2054.46,1015.9 2042.14,1011.51 2035.02,1008.9 2022.27,1004.31 \n",
       "  2015.59,1001.84 2002.55,997.119 1996.16,994.73 1983,989.923 1976.73,987.557 1963.62,982.727 1957.29,980.316 1944.43,975.531 1937.86,973 1925.45,968.335 \n",
       "  1918.43,965.602 1906.68,961.138 1898.99,958.111 1888.14,953.942 1879.56,950.518 1869.86,946.746 1860.13,942.81 1851.85,939.55 1840.7,934.973 1834.14,932.354 \n",
       "  1821.26,926.988 1816.75,925.158 1801.83,918.837 1799.71,917.962 1783.03,910.766 1782.4,910.48 1766.69,903.57 1762.96,901.846 1750.78,896.374 1743.53,892.933 \n",
       "  1735.36,889.178 1724.1,883.694 1720.47,881.982 1706.1,874.786 1704.67,874.017 1692.23,867.59 1685.23,863.71 1679.04,860.394 1666.56,853.198 1665.8,852.72 \n",
       "  1654.66,846.002 1646.37,840.537 1643.64,838.806 1633.34,831.61 1626.93,826.633 1623.97,824.414 1615.42,817.218 1607.96,810.022 1607.5,809.51 1601.32,802.826 \n",
       "  1595.79,795.63 1591.38,788.434 1588.08,781.238 1588.07,781.2 1585.8,774.042 1584.67,766.846 1584.7,759.65 1585.88,752.454 1588.07,745.666 1588.19,745.258 \n",
       "  1591.51,738.062 1595.91,730.866 1601.4,723.67 1607.5,716.986 1607.95,716.474 1615.29,709.278 1623.65,702.082 1626.93,699.569 1632.81,694.886 1642.82,687.69 \n",
       "  1646.37,685.371 1653.54,680.494 1665.07,673.298 1665.8,672.875 1677.11,666.102 1685.23,661.583 1689.87,658.906 1703.22,651.71 1704.67,650.979 1717.01,644.514 \n",
       "  1724.1,641.018 1731.35,637.318 1743.53,631.444 1746.19,630.122 1761.42,622.926 1762.96,622.234 1777,615.73 1782.4,613.349 1792.98,608.534 1801.83,604.684 \n",
       "  1809.3,601.338 1821.26,596.212 1825.96,594.142 1840.7,587.908 1842.91,586.946 1860.13,579.753 1860.14,579.749 1877.56,572.553 1879.56,571.759 1895.24,565.357 \n",
       "  1898.99,563.877 1913.13,558.161 1918.43,556.093 1931.23,550.965 1937.86,548.399 1949.53,543.769 1957.29,540.786 1968,536.573 1976.73,533.246 1986.64,529.377 \n",
       "  1996.16,525.772 2005.43,522.181 2015.59,518.36 2024.37,514.985 2035.02,511.003 2043.44,507.789 2054.46,503.697 2062.64,500.593 2073.89,496.439 2081.96,493.397 \n",
       "  2093.32,489.223 2101.39,486.201 2112.76,482.048 \n",
       "  \"/>\n",
       "<polyline clip-path=\"url(#clip552)\" style=\"stroke:#fbaa0e; stroke-width:4; stroke-opacity:1; fill:none\" points=\"\n",
       "  2112.76,419.712 2106.96,421.437 2093.32,425.578 2083.06,428.633 2073.89,431.42 2059.08,435.829 2054.46,437.236 2035.02,443.024 2035.02,443.025 2015.59,448.816 \n",
       "  2010.77,450.221 1996.16,454.579 1986.42,457.417 1976.73,460.31 1961.96,464.613 1957.29,466.007 1937.86,471.672 1937.38,471.809 1918.43,477.334 1912.55,479.005 \n",
       "  1898.99,482.957 1887.58,486.201 1879.56,488.538 1862.45,493.397 1860.13,494.074 1840.7,499.589 1837.06,500.593 1821.26,505.072 1811.41,507.789 1801.83,510.503 \n",
       "  1785.54,514.985 1782.4,515.875 1762.96,521.214 1759.33,522.181 1743.53,526.515 1732.75,529.377 1724.1,531.747 1705.87,536.573 1704.67,536.902 1685.23,542.032 \n",
       "  1678.41,543.769 1665.8,547.088 1650.51,550.965 1646.37,552.051 1626.93,556.955 1621.96,558.161 1607.5,561.79 1592.69,565.357 1588.07,566.51 1568.64,571.155 \n",
       "  1562.52,572.553 1549.2,575.71 1531.34,579.749 1529.77,580.119 1510.34,584.466 1498.66,586.946 1490.9,588.659 1471.47,592.724 1464.29,594.142 1452.04,596.664 \n",
       "  1432.61,600.424 1427.57,601.338 1413.17,604.063 1393.74,607.493 1387.39,608.534 1374.31,610.775 1354.87,613.846 1341.86,615.73 1335.44,616.703 1316.01,619.381 \n",
       "  1296.58,621.788 1286.24,622.926 1277.14,623.977 1257.71,625.941 1238.28,627.623 1218.84,629.023 1199.78,630.122 1199.41,630.144 1179.98,631.029 1160.55,631.62 \n",
       "  1141.11,631.919 1121.68,631.925 1102.25,631.64 1082.81,631.065 1063.38,630.2 1062.06,630.122 1043.95,629.103 1024.51,627.736 1005.08,626.098 985.649,624.189 \n",
       "  974.387,622.926 966.216,622.054 946.783,619.724 927.351,617.138 917.721,615.73 907.918,614.363 888.485,611.41 870.989,608.534 869.052,608.229 849.619,604.944 \n",
       "  830.186,601.428 829.718,601.338 810.753,597.835 791.906,594.142 791.32,594.032 771.888,590.166 756.538,586.946 752.455,586.123 733.022,582.002 722.896,579.749 \n",
       "  713.589,577.757 694.156,573.402 690.532,572.553 674.723,568.986 659.301,565.357 655.29,564.447 635.858,559.853 628.972,558.161 616.425,555.183 599.304,550.965 \n",
       "  596.992,550.414 577.559,545.614 570.345,543.769 558.126,540.744 541.833,536.573 538.693,535.794 519.26,530.814 513.829,529.377 499.827,525.785 486.202,522.181 \n",
       "  480.395,520.69 460.962,515.55 458.886,514.985 441.529,510.394 431.953,507.789 422.096,505.182 405.212,500.593 402.663,499.919 383.23,494.641 378.769,493.397 \n",
       "  363.797,489.333 352.544,486.201 344.364,483.982 326.458,479.005 324.932,478.591 305.499,473.195 300.621,471.809 286.066,467.772 274.932,464.613 266.633,462.314 \n",
       "  249.347,457.417 247.2,456.823 227.767,451.326 223.944,450.221 208.334,445.812 198.672,443.025 188.901,440.269 173.479,435.829 169.469,434.699 \n",
       "  \"/>\n",
       "<polyline clip-path=\"url(#clip552)\" style=\"stroke:#f98c09; stroke-width:4; stroke-opacity:1; fill:none\" points=\"\n",
       "  169.469,382.161 182.945,385.457 188.901,386.942 208.334,391.686 212.378,392.653 227.767,396.404 242.207,399.849 247.2,401.064 266.633,405.69 272.455,407.045 \n",
       "  286.066,410.277 303.142,414.241 305.499,414.8 324.932,419.296 334.406,421.437 344.364,423.734 363.797,428.109 366.186,428.633 383.23,432.454 398.675,435.829 \n",
       "  402.663,436.72 422.096,440.945 431.927,443.025 441.529,445.102 460.962,449.19 466.006,450.221 480.395,453.229 499.827,457.173 501.069,457.417 519.26,461.081 \n",
       "  537.358,464.613 538.693,464.88 558.126,468.638 575.085,471.809 577.559,472.283 596.992,475.878 614.522,479.005 616.425,479.353 635.858,482.775 655.29,486.066 \n",
       "  656.12,486.201 674.723,489.303 694.156,492.409 700.625,493.397 713.589,495.431 733.022,498.341 748.823,500.593 752.455,501.125 771.888,503.828 791.32,506.387 \n",
       "  802.607,507.789 810.753,508.83 830.186,511.166 849.619,513.353 865.181,514.985 869.052,515.403 888.485,517.348 907.918,519.14 927.351,520.778 945.71,522.181 \n",
       "  946.783,522.266 966.216,523.637 985.649,524.849 1005.08,525.902 1024.51,526.796 1043.95,527.53 1063.38,528.105 1082.81,528.52 1102.25,528.774 1121.68,528.868 \n",
       "  1141.11,528.8 1160.55,528.571 1179.98,528.181 1199.41,527.629 1218.84,526.914 1238.28,526.037 1257.71,524.998 1277.14,523.795 1296.58,522.429 1299.72,522.181 \n",
       "  1316.01,520.936 1335.44,519.292 1354.87,517.488 1374.31,515.524 1379.24,514.985 1393.74,513.445 1413.17,511.226 1432.61,508.85 1440.75,507.789 1452.04,506.359 \n",
       "  1471.47,503.745 1490.9,500.979 1493.47,500.593 1510.34,498.129 1529.77,495.14 1540.56,493.397 1549.2,492.038 1568.64,488.838 1583.95,486.201 1588.07,485.51 \n",
       "  1607.5,482.107 1624.51,479.005 1626.93,478.574 1646.37,474.98 1662.87,471.809 1665.8,471.26 1685.23,467.482 1699.48,464.613 1704.67,463.593 1724.1,459.64 \n",
       "  1734.67,457.417 1743.53,455.598 1762.96,451.478 1768.71,450.221 1782.4,447.296 1801.78,443.025 1801.83,443.015 1821.26,438.706 1833.87,435.829 1840.7,434.305 \n",
       "  1860.13,429.846 1865.28,428.633 1879.56,425.337 1896.03,421.437 1898.99,420.749 1918.43,416.125 1926.15,414.241 1937.86,411.443 1955.82,407.045 1957.29,406.692 \n",
       "  1976.73,401.916 1984.95,399.849 1996.16,397.084 2013.72,392.653 2015.59,392.191 2035.02,387.275 2042.06,385.457 2054.46,382.311 2070.09,378.261 2073.89,377.294 \n",
       "  2093.32,372.248 2097.79,371.065 2112.76,367.17 \n",
       "  \"/>\n",
       "<polyline clip-path=\"url(#clip552)\" style=\"stroke:#f0701e; stroke-width:4; stroke-opacity:1; fill:none\" points=\"\n",
       "  2112.76,320.862 2093.32,325.433 2082.67,327.889 2073.89,329.945 2054.46,334.405 2051.43,335.085 2035.02,338.835 2019.61,342.281 2015.59,343.196 1996.16,347.52 \n",
       "  1987.16,349.477 1976.73,351.787 1957.29,355.991 1954.06,356.673 1937.86,360.157 1920.18,363.869 1918.43,364.243 1898.99,368.294 1885.36,371.065 1879.56,372.266 \n",
       "  1860.13,376.186 1849.56,378.261 1840.7,380.035 1821.26,383.818 1812.61,385.457 1801.83,387.536 1782.4,391.178 1774.29,392.653 1762.96,394.754 1743.53,398.249 \n",
       "  1734.35,399.849 1724.1,401.671 1704.67,405.015 1692.46,407.045 1685.23,408.272 1665.8,411.457 1648.19,414.241 1646.37,414.536 1626.93,417.557 1607.5,420.463 \n",
       "  1600.72,421.437 1588.07,423.293 1568.64,426.027 1549.28,428.633 1549.2,428.644 1529.77,431.197 1510.34,433.632 1491.89,435.829 1490.9,435.95 1471.47,438.194 \n",
       "  1452.04,440.317 1432.61,442.319 1425.31,443.025 1413.17,444.226 1393.74,446.026 1374.31,447.701 1354.87,449.253 1341.72,450.221 1335.44,450.693 1316.01,452.029 \n",
       "  1296.58,453.239 1277.14,454.323 1257.71,455.282 1238.28,456.116 1218.84,456.824 1199.41,457.408 1199.01,457.417 1179.98,457.877 1160.55,458.219 1141.11,458.434 \n",
       "  1121.68,458.522 1102.25,458.482 1082.81,458.316 1063.38,458.024 1043.95,457.605 1037.27,457.417 1024.51,457.068 1005.08,456.412 985.649,455.633 966.216,454.731 \n",
       "  946.783,453.707 927.351,452.56 907.918,451.291 892.972,450.221 888.485,449.907 869.052,448.428 849.619,446.83 830.186,445.113 810.753,443.277 808.254,443.025 \n",
       "  791.32,441.359 771.888,439.332 752.455,437.188 740.766,435.829 733.022,434.948 713.589,432.625 694.156,430.188 682.305,428.633 674.723,427.659 655.29,425.053 \n",
       "  635.858,422.337 629.675,421.437 616.425,419.549 596.992,416.673 581.154,414.241 577.559,413.7 558.126,410.671 538.693,407.536 535.749,407.045 519.26,404.35 \n",
       "  499.827,401.071 492.807,399.849 480.395,397.731 460.962,394.313 451.796,392.653 441.529,390.829 422.096,387.279 412.398,385.457 402.663,383.663 383.23,379.984 \n",
       "  374.362,378.261 363.797,376.246 344.364,372.444 337.487,371.065 324.932,368.592 305.499,364.672 301.609,363.869 286.066,360.715 266.633,356.681 266.593,356.673 \n",
       "  247.2,352.627 232.43,349.477 227.767,348.5 208.334,344.338 198.932,342.281 188.901,340.124 169.469,335.858 \n",
       "  \"/>\n",
       "<polyline clip-path=\"url(#clip552)\" style=\"stroke:#e35832; stroke-width:4; stroke-opacity:1; fill:none\" points=\"\n",
       "  169.469,294.012 188.901,297.88 195.184,299.105 208.334,301.708 227.767,305.475 232.118,306.301 247.2,309.207 266.633,312.87 270.036,313.497 286.066,316.498 \n",
       "  305.499,320.053 309.079,320.693 324.932,323.571 344.364,327.015 349.421,327.889 363.797,330.415 383.23,333.744 391.269,335.085 402.663,337.018 422.096,340.228 \n",
       "  434.878,342.281 441.529,343.368 460.962,346.453 480.395,349.45 480.572,349.477 499.827,352.408 519.26,355.275 529.049,356.673 538.693,358.075 558.126,360.808 \n",
       "  577.559,363.448 580.774,363.869 596.992,366.033 616.425,368.531 635.858,370.935 636.95,371.065 655.29,373.284 674.723,375.539 694.156,377.698 699.464,378.261 \n",
       "  713.589,379.788 733.022,381.789 752.455,383.693 771.453,385.457 771.888,385.498 791.32,387.236 810.753,388.873 830.186,390.41 849.619,391.845 861.382,392.653 \n",
       "  869.052,393.19 888.485,394.447 907.918,395.601 927.351,396.651 946.783,397.598 966.216,398.441 985.649,399.18 1005.08,399.816 1006.3,399.849 1024.51,400.357 \n",
       "  1043.95,400.793 1063.38,401.122 1082.81,401.345 1102.25,401.461 1121.68,401.471 1141.11,401.373 1160.55,401.169 1179.98,400.858 1199.41,400.439 1218.84,399.913 \n",
       "  1220.81,399.849 1238.28,399.29 1257.71,398.564 1277.14,397.731 1296.58,396.793 1316.01,395.748 1335.44,394.598 1354.87,393.342 1364.69,392.653 1374.31,391.992 \n",
       "  1393.74,390.55 1413.17,389.005 1432.61,387.354 1452.04,385.599 1453.52,385.457 1471.47,383.772 1490.9,381.843 1510.34,379.812 1524.46,378.261 1529.77,377.689 \n",
       "  1549.2,375.492 1568.64,373.194 1585.88,371.065 1588.07,370.799 1607.5,368.343 1626.93,365.787 1640.97,363.869 1646.37,363.144 1665.8,360.437 1685.23,357.631 \n",
       "  1691.65,356.673 1704.67,354.761 1724.1,351.811 1738.98,349.477 1743.53,348.776 1762.96,345.686 1782.4,342.5 1783.7,342.281 1801.83,339.271 1821.26,335.951 \n",
       "  1826.19,335.085 1840.7,332.58 1860.13,329.13 1866.94,327.889 1879.56,325.626 1898.99,322.05 1906.19,320.693 1918.43,318.421 1937.86,314.724 1944.16,313.497 \n",
       "  1957.29,310.977 1976.73,307.162 1981.01,306.301 1996.16,303.305 2015.59,299.375 2016.9,299.105 2035.02,295.415 2051.88,291.909 2054.46,291.381 2073.89,287.316 \n",
       "  2086.08,284.713 2093.32,283.189 2112.76,279.018 \n",
       "  \"/>\n",
       "<polyline clip-path=\"url(#clip552)\" style=\"stroke:#d04544; stroke-width:4; stroke-opacity:1; fill:none\" points=\"\n",
       "  2112.76,240.528 2107.65,241.537 2093.32,244.405 2073.89,248.218 2071.22,248.733 2054.46,252 2035.02,255.709 2033.85,255.929 2015.59,259.389 1996.16,262.993 \n",
       "  1995.43,263.125 1976.73,266.566 1957.29,270.06 1955.81,270.321 1937.86,273.52 1918.43,276.902 1914.81,277.517 1898.99,280.243 1879.56,283.51 1872.22,284.713 \n",
       "  1860.13,286.724 1840.7,289.872 1827.78,291.909 1821.26,292.952 1801.83,295.978 1782.4,298.919 1781.13,299.105 1762.96,301.817 1743.53,304.631 1731.64,306.301 \n",
       "  1724.1,307.376 1704.67,310.059 1685.23,312.655 1678.71,313.497 1665.8,315.191 1646.37,317.651 1626.93,320.022 1621.23,320.693 1607.5,322.331 1588.07,324.562 \n",
       "  1568.64,326.702 1557.39,327.889 1549.2,328.767 1529.77,330.76 1510.34,332.662 1490.9,334.473 1484,335.085 1471.47,336.212 1452.04,337.869 1432.61,339.433 \n",
       "  1413.17,340.905 1393.8,342.281 1393.74,342.285 1374.31,343.595 1354.87,344.812 1335.44,345.935 1316.01,346.964 1296.58,347.901 1277.14,348.744 1258.16,349.477 \n",
       "  1257.71,349.495 1238.28,350.163 1218.84,350.737 1199.41,351.217 1179.98,351.603 1160.55,351.894 1141.11,352.091 1121.68,352.195 1102.25,352.204 1082.81,352.12 \n",
       "  1063.38,351.942 1043.95,351.67 1024.51,351.305 1005.08,350.847 985.649,350.295 966.216,349.65 961.649,349.477 946.783,348.922 927.351,348.105 907.918,347.198 \n",
       "  888.485,346.198 869.052,345.108 849.619,343.927 830.186,342.655 824.856,342.281 810.753,341.308 791.32,339.879 771.888,338.361 752.455,336.753 733.344,335.085 \n",
       "  733.022,335.057 713.589,333.301 694.156,331.458 674.723,329.527 658.941,327.889 655.29,327.516 635.858,325.445 616.425,323.289 596.992,321.047 594.033,320.693 \n",
       "  577.559,318.751 558.126,316.377 538.693,313.919 535.468,313.497 519.26,311.41 499.827,308.825 481.437,306.301 480.395,306.16 460.962,303.453 441.529,300.664 \n",
       "  430.968,299.105 422.096,297.815 402.663,294.909 383.23,291.924 383.133,291.909 363.797,288.905 344.364,285.807 337.668,284.713 324.932,282.662 305.499,279.456 \n",
       "  294.021,277.517 286.066,276.192 266.633,272.881 251.947,270.321 247.2,269.505 227.767,266.091 211.24,263.125 208.334,262.61 188.901,259.097 171.732,255.929 \n",
       "  169.469,255.517 \n",
       "  \"/>\n",
       "<polyline clip-path=\"url(#clip552)\" style=\"stroke:#ba3655; stroke-width:4; stroke-opacity:1; fill:none\" points=\"\n",
       "  169.469,219.693 170.972,219.949 188.901,223.032 208.334,226.306 213.421,227.145 227.767,229.542 247.2,232.719 257.339,234.341 266.633,235.847 286.066,238.926 \n",
       "  302.935,241.537 305.499,241.939 324.932,244.916 344.364,247.821 350.618,248.733 363.797,250.681 383.23,253.48 400.683,255.929 402.663,256.21 422.096,258.901 \n",
       "  441.529,261.517 453.819,263.125 460.962,264.072 480.395,266.575 499.827,269.003 510.718,270.321 519.26,271.37 538.693,273.679 558.126,275.912 572.593,277.517 \n",
       "  577.559,278.076 596.992,280.185 616.425,282.217 635.858,284.171 641.475,284.713 655.29,286.066 674.723,287.89 694.156,289.635 713.589,291.3 721.055,291.909 \n",
       "  733.022,292.9 752.455,294.429 771.888,295.876 791.32,297.243 810.753,298.529 820.047,299.105 830.186,299.743 849.619,300.884 869.052,301.942 888.485,302.917 \n",
       "  907.918,303.809 927.351,304.619 946.783,305.346 966.216,305.99 976.977,306.301 985.649,306.555 1005.08,307.04 1024.51,307.441 1043.95,307.757 1063.38,307.989 \n",
       "  1082.81,308.136 1102.25,308.198 1121.68,308.175 1141.11,308.067 1160.55,307.874 1179.98,307.595 1199.41,307.232 1218.84,306.783 1236.38,306.301 1238.28,306.25 \n",
       "  1257.71,305.639 1277.14,304.945 1296.58,304.166 1316.01,303.303 1335.44,302.355 1354.87,301.323 1374.31,300.206 1392.12,299.105 1393.74,299.006 1413.17,297.739 \n",
       "  1432.61,296.389 1452.04,294.955 1471.47,293.437 1490.01,291.909 1490.9,291.836 1510.34,290.176 1529.77,288.433 1549.2,286.608 1568.5,284.713 1568.64,284.699 \n",
       "  1588.07,282.738 1607.5,280.694 1626.93,278.569 1636.2,277.517 1646.37,276.378 1665.8,274.123 1685.23,271.786 1697.02,270.321 1704.67,269.383 1724.1,266.921 \n",
       "  1743.53,264.379 1752.83,263.125 1762.96,261.776 1782.4,259.113 1801.83,256.371 1804.88,255.929 1821.26,253.584 1840.7,250.724 1853.88,248.733 1860.13,247.8 \n",
       "  1879.56,244.827 1898.99,241.777 1900.49,241.537 1918.43,238.69 1937.86,235.529 1945,234.341 1957.29,232.321 1976.73,229.053 1987.82,227.145 1996.16,225.729 \n",
       "  2015.59,222.357 2029.17,219.949 2035.02,218.925 2054.46,215.45 2069.24,212.753 2073.89,211.914 2093.32,208.34 2108.16,205.557 2112.76,204.705 \n",
       "  \"/>\n",
       "<polyline clip-path=\"url(#clip552)\" style=\"stroke:#a12b61; stroke-width:4; stroke-opacity:1; fill:none\" points=\"\n",
       "  2112.76,171.062 2093.32,174.493 2080.15,176.772 2073.89,177.87 2054.46,181.206 2038.03,183.968 2035.02,184.48 2015.59,187.719 1996.16,190.888 1994.43,191.164 \n",
       "  1976.73,194.024 1957.29,197.093 1949.08,198.36 1937.86,200.114 1918.43,203.08 1901.81,205.557 1898.99,205.981 1879.56,208.842 1860.13,211.632 1852.11,212.753 \n",
       "  1840.7,214.37 1821.26,217.05 1801.83,219.658 1799.61,219.949 1782.4,222.223 1762.96,224.719 1743.53,227.141 1743.5,227.145 1724.1,229.521 1704.67,231.827 \n",
       "  1685.23,234.059 1682.7,234.341 1665.8,236.242 1646.37,238.354 1626.93,240.391 1615.58,241.537 1607.5,242.364 1588.07,244.276 1568.64,246.113 1549.2,247.874 \n",
       "  1539.3,248.733 1529.77,249.57 1510.34,251.202 1490.9,252.757 1471.47,254.235 1452.04,255.636 1447.75,255.929 1432.61,256.976 1413.17,258.242 1393.74,259.43 \n",
       "  1374.31,260.541 1354.87,261.574 1335.44,262.53 1322.29,263.125 1316.01,263.413 1296.58,264.226 1277.14,264.96 1257.71,265.617 1238.28,266.195 1218.84,266.695 \n",
       "  1199.41,267.117 1179.98,267.461 1160.55,267.728 1141.11,267.916 1121.68,268.027 1102.25,268.06 1082.81,268.015 1063.38,267.893 1043.95,267.694 1024.51,267.417 \n",
       "  1005.08,267.062 985.649,266.631 966.216,266.122 946.783,265.536 927.351,264.873 907.918,264.133 888.485,263.316 884.316,263.125 869.052,262.433 849.619,261.476 \n",
       "  830.186,260.444 810.753,259.336 791.32,258.152 771.888,256.893 757.837,255.929 752.455,255.564 733.022,254.174 713.589,252.71 694.156,251.172 674.723,249.56 \n",
       "  665.193,248.733 655.29,247.885 635.858,246.149 616.425,244.34 596.992,242.458 587.831,241.537 577.559,240.517 558.126,238.518 538.693,236.446 519.604,234.341 \n",
       "  519.26,234.303 499.827,232.118 480.395,229.862 460.962,227.536 457.791,227.145 441.529,225.165 422.096,222.73 402.663,220.226 400.568,219.949 383.23,217.682 \n",
       "  363.797,215.073 346.95,212.753 344.364,212.401 324.932,209.691 305.499,206.913 296.236,205.557 286.066,204.086 266.633,201.211 247.808,198.36 247.2,198.27 \n",
       "  227.767,195.299 208.334,192.262 201.461,191.164 188.901,189.184 169.469,186.056 \n",
       "  \"/>\n",
       "<polyline clip-path=\"url(#clip552)\" style=\"stroke:#88216a; stroke-width:4; stroke-opacity:1; fill:none\" points=\"\n",
       "  169.469,154.229 175.784,155.184 188.901,157.192 208.334,160.105 223.841,162.38 227.767,162.963 247.2,165.786 266.633,168.546 274.059,169.576 286.066,171.263 \n",
       "  305.499,173.929 324.932,176.532 326.769,176.772 344.364,179.1 363.797,181.606 382.6,183.968 383.23,184.049 402.663,186.455 422.096,188.797 441.529,191.073 \n",
       "  442.332,191.164 460.962,193.311 480.395,195.483 499.827,197.589 507.175,198.36 519.26,199.645 538.693,201.644 558.126,203.576 577.559,205.44 578.82,205.557 \n",
       "  596.992,207.259 616.425,209.01 635.858,210.694 655.29,212.31 660.855,212.753 674.723,213.871 694.156,215.369 713.589,216.798 733.022,218.157 752.455,219.447 \n",
       "  760.448,219.949 771.888,220.676 791.32,221.842 810.753,222.938 830.186,223.963 849.619,224.917 869.052,225.801 888.485,226.613 902.399,227.145 907.918,227.358 \n",
       "  927.351,228.038 946.783,228.647 966.216,229.183 985.649,229.647 1005.08,230.04 1024.51,230.36 1043.95,230.608 1063.38,230.784 1082.81,230.887 1102.25,230.919 \n",
       "  1121.68,230.877 1141.11,230.764 1160.55,230.578 1179.98,230.319 1199.41,229.987 1218.84,229.583 1238.28,229.106 1257.71,228.557 1277.14,227.934 1296.58,227.238 \n",
       "  1298.95,227.145 1316.01,226.479 1335.44,225.648 1354.87,224.746 1374.31,223.771 1393.74,222.724 1413.17,221.604 1432.61,220.412 1439.73,219.949 1452.04,219.158 \n",
       "  1471.47,217.839 1490.9,216.448 1510.34,214.985 1529.77,213.451 1538.22,212.753 1549.2,211.857 1568.64,210.2 1588.07,208.473 1607.5,206.675 1619.13,205.557 \n",
       "  1626.93,204.815 1646.37,202.9 1665.8,200.914 1685.23,198.858 1689.78,198.36 1704.67,196.752 1724.1,194.583 1743.53,192.344 1753.46,191.164 1762.96,190.05 \n",
       "  1782.4,187.702 1801.83,185.285 1812.12,183.968 1821.26,182.813 1840.7,180.29 1860.13,177.698 1866.89,176.772 1879.56,175.06 1898.99,172.365 1918.43,169.603 \n",
       "  1918.61,169.576 1937.86,166.807 1957.29,163.945 1967.68,162.38 1976.73,161.033 1996.16,158.073 2014.71,155.184 2015.59,155.049 2035.02,151.993 2054.46,148.873 \n",
       "  2059.85,147.988 2073.89,145.713 2093.32,142.5 2103.44,140.792 2112.76,139.24 \n",
       "  \"/>\n",
       "<polyline clip-path=\"url(#clip552)\" style=\"stroke:#6e186e; stroke-width:4; stroke-opacity:1; fill:none\" points=\"\n",
       "  2112.76,108.975 2093.77,112.008 2093.32,112.08 2073.89,115.157 2054.46,118.172 2047.67,119.204 2035.02,121.148 2015.59,124.072 1999.79,126.4 1996.16,126.941 \n",
       "  1976.73,129.773 1957.29,132.542 1949.72,133.596 1937.86,135.267 1918.43,137.941 1898.99,140.552 1897.16,140.792 1879.56,143.125 1860.13,145.638 1841.47,147.988 \n",
       "  1840.7,148.087 1821.26,150.499 1801.83,152.847 1782.4,155.129 1781.91,155.184 1762.96,157.373 1743.53,159.552 1724.1,161.665 1717.31,162.38 1704.67,163.729 \n",
       "  1685.23,165.736 1665.8,167.676 1646.37,169.551 1646.09,169.576 1626.93,171.381 1607.5,173.145 1588.07,174.842 1568.64,176.472 1564.91,176.772 1549.2,178.052 \n",
       "  1529.77,179.568 1510.34,181.016 1490.9,182.397 1471.47,183.711 1467.46,183.968 1452.04,184.97 1432.61,186.165 1413.17,187.291 1393.74,188.35 1374.31,189.341 \n",
       "  1354.87,190.264 1335.44,191.119 1334.32,191.164 1316.01,191.916 1296.58,192.646 1277.14,193.306 1257.71,193.899 1238.28,194.423 1218.84,194.879 1199.41,195.267 \n",
       "  1179.98,195.587 1160.55,195.838 1141.11,196.022 1121.68,196.137 1102.25,196.185 1082.81,196.165 1063.38,196.077 1043.95,195.921 1024.51,195.698 1005.08,195.407 \n",
       "  985.649,195.048 966.216,194.622 946.783,194.128 927.351,193.567 907.918,192.939 888.485,192.243 869.052,191.48 861.677,191.164 849.619,190.656 830.186,189.769 \n",
       "  810.753,188.817 791.32,187.798 771.888,186.713 752.455,185.561 733.022,184.344 727.336,183.968 713.589,183.072 694.156,181.739 674.723,180.341 655.29,178.878 \n",
       "  635.858,177.349 628.821,176.772 616.425,175.768 596.992,174.13 577.559,172.428 558.126,170.662 546.605,169.576 538.693,168.84 519.26,166.968 499.827,165.033 \n",
       "  480.395,163.035 474.223,162.38 460.962,160.99 441.529,158.891 422.096,156.729 408.597,155.184 402.663,154.513 383.23,152.254 363.797,149.933 347.937,147.988 \n",
       "  344.364,147.555 324.932,145.14 305.499,142.663 291.167,140.792 286.066,140.134 266.633,137.566 247.2,134.938 237.499,133.596 227.767,132.266 208.334,129.549 \n",
       "  188.901,126.773 186.345,126.4 169.469,123.966 \n",
       "  \"/>\n",
       "<polyline clip-path=\"url(#clip552)\" style=\"stroke:#550f6d; stroke-width:4; stroke-opacity:1; fill:none\" points=\"\n",
       "  169.469,95.0458 188.119,97.6162 188.901,97.7252 208.334,100.376 227.767,102.97 241.881,104.812 247.2,105.514 266.633,108.022 286.066,110.472 298.542,112.008 \n",
       "  305.499,112.874 324.932,115.235 344.364,117.539 358.783,119.204 363.797,119.79 383.23,122.001 402.663,124.154 422.096,126.248 423.555,126.4 441.529,128.303 \n",
       "  460.962,130.302 480.395,132.24 494.422,133.596 499.827,134.125 519.26,135.965 538.693,137.745 558.126,139.464 573.692,140.792 577.559,141.126 596.992,142.743 \n",
       "  616.425,144.298 635.858,145.792 655.29,147.225 666.105,147.988 674.723,148.604 694.156,149.929 713.589,151.192 733.022,152.393 752.455,153.532 771.888,154.608 \n",
       "  782.925,155.184 791.32,155.628 810.753,156.591 830.186,157.491 849.619,158.327 869.052,159.101 888.485,159.811 907.918,160.458 927.351,161.041 946.783,161.561 \n",
       "  966.216,162.017 984.161,162.38 985.649,162.411 1005.08,162.744 1024.51,163.013 1043.95,163.218 1063.38,163.358 1082.81,163.434 1102.25,163.445 1121.68,163.391 \n",
       "  1141.11,163.273 1160.55,163.09 1179.98,162.842 1199.41,162.53 1207.09,162.38 1218.84,162.155 1238.28,161.718 1257.71,161.217 1277.14,160.651 1296.58,160.021 \n",
       "  1316.01,159.327 1335.44,158.569 1354.87,157.746 1374.31,156.859 1393.74,155.907 1407.56,155.184 1413.17,154.894 1432.61,153.826 1452.04,152.694 1471.47,151.497 \n",
       "  1490.9,150.237 1510.34,148.913 1523.28,147.988 1529.77,147.53 1549.2,146.095 1568.64,144.596 1588.07,143.034 1607.5,141.408 1614.58,140.792 1626.93,139.731 \n",
       "  1646.37,137.998 1665.8,136.202 1685.23,134.343 1692.79,133.596 1704.67,132.435 1724.1,130.473 1743.53,128.448 1762.6,126.4 1762.96,126.361 1782.4,124.236 \n",
       "  1801.83,122.049 1821.26,119.8 1826.28,119.204 1840.7,117.509 1860.13,115.163 1879.56,112.755 1885.44,112.008 1898.99,110.306 1918.43,107.803 1937.86,105.241 \n",
       "  1941.03,104.812 1957.29,102.641 1976.73,99.986 1993.69,97.6162 1996.16,97.2746 2015.59,94.5292 2035.02,91.7243 2043.87,90.4202 2054.46,88.8765 2073.89,85.9836 \n",
       "  2092.06,83.2242 2093.32,83.0338 2112.76,80.0547 \n",
       "  \"/>\n",
       "<polyline clip-path=\"url(#clip552)\" style=\"stroke:#3b0964; stroke-width:4; stroke-opacity:1; fill:none\" points=\"\n",
       "  2112.76,52.3149 2098.34,54.4401 2093.32,55.1864 2073.89,58.0231 2054.46,60.8033 2048.52,61.6361 2035.02,63.5466 2015.59,66.2414 1996.5,68.8322 1996.16,68.8796 \n",
       "  1976.73,71.4873 1957.29,74.0375 1941.77,76.0282 1937.86,76.5354 1918.43,78.9963 1898.99,81.3991 1883.87,83.2242 1879.56,83.7493 1860.13,86.0605 1840.7,88.313 \n",
       "  1822.03,90.4202 1821.26,90.5079 1801.83,92.6663 1782.4,94.7657 1762.96,96.8059 1755.02,97.6162 1743.53,98.7999 1724.1,100.743 1704.67,102.627 1685.23,104.451 \n",
       "  1681.25,104.812 1665.8,106.23 1646.37,107.954 1626.93,109.618 1607.5,111.221 1597.59,112.008 1588.07,112.773 1568.64,114.273 1549.2,115.712 1529.77,117.091 \n",
       "  1510.34,118.409 1498.06,119.204 1490.9,119.672 1471.47,120.883 1452.04,122.033 1432.61,123.121 1413.17,124.149 1393.74,125.115 1374.31,126.021 1365.59,126.4 \n",
       "  1354.87,126.871 1335.44,127.664 1316.01,128.395 1296.58,129.065 1277.14,129.674 1257.71,130.221 1238.28,130.707 1218.84,131.131 1199.41,131.495 1179.98,131.797 \n",
       "  1160.55,132.038 1141.11,132.218 1121.68,132.337 1102.25,132.395 1082.81,132.391 1063.38,132.327 1043.95,132.203 1024.51,132.017 1005.08,131.77 985.649,131.463 \n",
       "  966.216,131.095 946.783,130.666 927.351,130.177 907.918,129.627 888.485,129.017 869.052,128.346 849.619,127.614 830.186,126.823 820.556,126.4 810.753,125.975 \n",
       "  791.32,125.073 771.888,124.111 752.455,123.089 733.022,122.008 713.589,120.868 694.156,119.668 687.004,119.204 674.723,118.417 655.29,117.113 635.858,115.75 \n",
       "  616.425,114.328 596.992,112.848 586.387,112.008 577.559,111.317 558.126,109.737 538.693,108.099 519.26,106.403 501.626,104.812 499.827,104.652 480.395,102.86 \n",
       "  460.962,101.011 441.529,99.1053 426.787,97.6162 422.096,97.1475 402.663,95.1491 383.23,93.0943 363.797,90.9832 358.75,90.4202 344.364,88.8327 324.932,86.6324 \n",
       "  305.499,84.3765 295.812,83.2242 286.066,82.0771 266.633,79.7346 247.2,77.3372 236.828,76.0282 227.767,74.8966 208.334,72.4152 188.901,69.8794 181.045,68.8322 \n",
       "  169.469,67.3051 \n",
       "  \"/>\n",
       "<polyline clip-path=\"url(#clip552)\" style=\"stroke:#1f0c47; stroke-width:4; stroke-opacity:1; fill:none\" points=\"\n",
       "  222.39,47.2441 227.767,47.9088 247.2,50.2579 266.633,52.5542 282.969,54.4401 286.066,54.8013 305.499,57.014 324.932,59.1733 344.364,61.2793 347.744,61.6361 \n",
       "  363.797,63.349 383.23,65.3683 402.663,67.3336 417.901,68.8322 422.096,69.2491 441.529,71.1252 460.962,72.9467 480.395,74.7134 495.319,76.0282 499.827,76.4295 \n",
       "  519.26,78.1039 538.693,79.7229 558.126,81.2864 577.559,82.7944 583.309,83.2242 596.992,84.2577 616.425,85.6694 635.858,87.0249 655.29,88.3242 674.723,89.5673 \n",
       "  688.691,90.4202 694.156,90.7576 713.589,91.9001 733.022,92.9857 752.455,94.0142 771.888,94.9858 791.32,95.9003 810.753,96.7577 830.186,97.5579 831.712,97.6162 \n",
       "  849.619,98.3084 869.052,99.0016 888.485,99.637 907.918,100.215 927.351,100.734 946.783,101.196 966.216,101.599 985.649,101.945 1005.08,102.232 1024.51,102.461 \n",
       "  1043.95,102.632 1063.38,102.745 1082.81,102.8 1102.25,102.796 1121.68,102.734 1141.11,102.614 1160.55,102.435 1179.98,102.198 1199.41,101.902 1218.84,101.548 \n",
       "  1238.28,101.135 1257.71,100.663 1277.14,100.133 1296.58,99.5443 1316.01,98.8968 1335.44,98.1904 1350.03,97.6162 1354.87,97.4274 1374.31,96.6122 1393.74,95.7388 \n",
       "  1413.17,94.8071 1432.61,93.8171 1452.04,92.7687 1471.47,91.6619 1490.9,90.4967 1492.12,90.4202 1510.34,89.2851 1529.77,88.0165 1549.2,86.6899 1568.64,85.3054 \n",
       "  1588.07,83.8628 1596.34,83.2242 1607.5,82.3712 1626.93,80.8289 1646.37,79.2291 1665.8,77.5718 1683.29,76.0282 1685.23,75.8586 1704.67,74.1045 1724.1,72.2933 \n",
       "  1743.53,70.4251 1759.61,68.8322 1762.96,68.5032 1782.4,66.5411 1801.83,64.5224 1821.26,62.4471 1828.66,61.6361 1840.7,60.3287 1860.13,58.1624 1879.56,55.9399 \n",
       "  1892.35,54.4401 1898.99,53.6692 1918.43,51.358 1937.86,48.991 1951.87,47.2441 \n",
       "  \"/>\n",
       "<polyline clip-path=\"url(#clip552)\" style=\"stroke:#090621; stroke-width:4; stroke-opacity:1; fill:none\" points=\"\n",
       "  1698.57,47.2441 1685.23,48.4153 1665.8,50.0667 1646.37,51.6628 1626.93,53.2038 1610.76,54.4401 1607.5,54.6921 1588.07,56.1374 1568.64,57.527 1549.2,58.861 \n",
       "  1529.77,60.1394 1510.34,61.3622 1505.78,61.6361 1490.9,62.5387 1471.47,63.662 1452.04,64.7292 1432.61,65.7405 1413.17,66.6958 1393.74,67.5952 1374.31,68.4387 \n",
       "  1364.6,68.8322 1354.87,69.2304 1335.44,69.9699 1316.01,70.6529 1296.58,71.2797 1277.14,71.8502 1257.71,72.3644 1238.28,72.8225 1218.84,73.2243 1199.41,73.57 \n",
       "  1179.98,73.8597 1160.55,74.0932 1141.11,74.2707 1121.68,74.3923 1102.25,74.4578 1082.81,74.4675 1063.38,74.4213 1043.95,74.3192 1024.51,74.1613 1005.08,73.9476 \n",
       "  985.649,73.6782 966.216,73.3531 946.783,72.9723 927.351,72.5359 907.918,72.0439 888.485,71.4964 869.052,70.8933 849.619,70.2347 830.186,69.5207 812.796,68.8322 \n",
       "  810.753,68.7521 791.32,67.9357 771.888,67.0645 752.455,66.1386 733.022,65.158 713.589,64.1227 694.156,63.0327 674.723,61.8882 670.64,61.6361 655.29,60.6986 \n",
       "  635.858,59.4576 616.425,58.1626 596.992,56.8137 577.559,55.4109 564.609,54.4401 558.126,53.9591 538.693,52.4637 519.26,50.9151 499.827,49.3132 480.395,47.6581 \n",
       "  475.685,47.2441 \n",
       "  \"/>\n",
       "<polyline clip-path=\"url(#clip552)\" style=\"stroke:#f8c931; stroke-width:4; stroke-opacity:1; fill:none\" points=\"\n",
       "  169.469,497.04 179.642,500.593 188.901,503.916 199.919,507.789 208.334,510.831 220.069,514.985 227.767,517.789 240.085,522.181 247.2,524.794 259.956,529.377 \n",
       "  266.633,531.85 279.673,536.573 286.066,538.962 299.226,543.769 305.499,546.135 318.603,550.965 324.932,553.376 337.792,558.161 344.364,560.692 356.778,565.357 \n",
       "  363.797,568.09 375.548,572.553 383.23,575.581 394.083,579.749 402.663,583.174 412.365,586.946 422.096,590.882 430.374,594.142 441.529,598.719 448.086,601.338 \n",
       "  460.962,606.704 465.477,608.534 480.395,614.855 482.518,615.73 499.197,622.926 499.827,623.212 515.537,630.122 519.26,631.846 531.441,637.318 538.693,640.759 \n",
       "  546.864,644.514 558.126,649.998 561.758,651.71 576.12,658.906 577.559,659.675 589.992,666.102 596.992,669.982 603.188,673.298 615.66,680.494 616.425,680.972 \n",
       "  627.563,687.69 635.858,693.155 638.586,694.886 648.888,702.082 655.29,707.059 658.259,709.278 666.806,716.474 674.268,723.67 674.723,724.182 680.904,730.866 \n",
       "  686.436,738.062 690.848,745.258 694.145,752.454 694.156,752.492 696.426,759.65 697.551,766.846 697.523,774.042 696.346,781.238 694.156,788.026 694.03,788.434 \n",
       "  690.715,795.63 686.312,802.826 680.825,810.022 674.723,816.706 674.275,817.218 666.939,824.414 658.573,831.61 655.29,834.123 649.417,838.806 639.403,846.002 \n",
       "  635.858,848.321 628.686,853.198 617.158,860.394 616.425,860.817 605.111,867.59 596.992,872.109 592.353,874.786 579.004,881.982 577.559,882.713 565.213,889.178 \n",
       "  558.126,892.674 550.874,896.374 538.693,902.248 536.039,903.57 520.801,910.766 519.26,911.458 505.22,917.962 499.827,920.343 489.248,925.158 480.395,929.008 \n",
       "  472.921,932.354 460.962,937.48 456.268,939.55 441.529,945.784 439.316,946.746 422.096,953.939 422.089,953.942 404.66,961.138 402.663,961.933 386.989,968.335 \n",
       "  383.23,969.815 369.094,975.531 363.797,977.599 350.992,982.727 344.364,985.293 332.698,989.923 324.932,992.906 314.226,997.119 305.499,1000.45 295.588,1004.31 \n",
       "  286.066,1007.92 276.795,1011.51 266.633,1015.33 257.857,1018.71 247.2,1022.69 238.785,1025.9 227.767,1029.99 219.586,1033.1 208.334,1037.25 200.268,1040.29 \n",
       "  188.901,1044.47 180.839,1047.49 169.469,1051.64 \n",
       "  \"/>\n",
       "<polyline clip-path=\"url(#clip552)\" style=\"stroke:#f1e864; stroke-width:4; stroke-opacity:1; fill:none\" points=\"\n",
       "  169.469,970.413 173.556,968.335 187.201,961.138 188.901,960.207 200.578,953.942 208.334,949.615 213.585,946.746 226.229,939.55 227.767,938.637 238.574,932.354 \n",
       "  247.2,927.112 250.487,925.158 262.038,917.962 266.633,914.956 273.183,910.766 283.869,903.57 286.066,902.008 294.172,896.374 303.949,889.178 305.499,887.965 \n",
       "  313.326,881.982 322.149,874.786 324.932,872.352 330.508,867.59 338.326,860.394 344.364,854.366 345.564,853.198 352.325,846.002 358.459,838.806 363.797,831.831 \n",
       "  363.97,831.61 368.971,824.414 373.327,817.218 377.035,810.022 380.095,802.826 382.504,795.63 383.23,792.66 384.29,788.434 385.425,781.238 385.889,774.042 \n",
       "  385.68,766.846 384.798,759.65 383.241,752.454 383.23,752.42 381.063,745.258 378.225,738.062 374.724,730.866 370.56,723.67 365.73,716.474 363.797,713.942 \n",
       "  360.323,709.278 354.312,702.082 347.649,694.886 344.364,691.654 340.43,687.69 332.652,680.494 324.932,673.895 324.249,673.298 315.404,666.102 305.932,658.906 \n",
       "  305.499,658.597 296.055,651.71 286.066,644.852 285.585,644.514 274.739,637.318 266.633,632.221 263.365,630.122 251.581,622.926 247.2,620.377 239.379,615.73 \n",
       "  227.767,609.142 226.717,608.534 213.734,601.338 208.334,598.469 200.353,594.142 188.901,588.181 186.576,586.946 172.487,579.749 169.469,578.265 \n",
       "  \"/>\n",
       "<polyline clip-path=\"url(#clip552)\" style=\"stroke:#f1e864; stroke-width:4; stroke-opacity:1; fill:none\" points=\"\n",
       "  2112.76,955.427 2109.74,953.942 2095.65,946.746 2093.32,945.511 2081.87,939.55 2073.89,935.223 2068.49,932.354 2055.51,925.158 2054.46,924.55 2042.85,917.962 \n",
       "  2035.02,913.315 2030.64,910.766 2018.86,903.57 2015.59,901.471 2007.49,896.374 1996.64,889.178 1996.16,888.84 1986.17,881.982 1976.73,875.095 1976.29,874.786 \n",
       "  1966.82,867.59 1957.98,860.394 1957.29,859.797 1949.57,853.198 1941.79,846.002 1937.86,842.038 1934.58,838.806 1927.91,831.61 1921.9,824.414 1918.43,819.75 \n",
       "  1916.49,817.218 1911.66,810.022 1907.5,802.826 1904,795.63 1901.16,788.434 1898.99,781.272 1898.98,781.238 1897.43,774.042 1896.54,766.846 1896.34,759.65 \n",
       "  1896.8,752.454 1897.93,745.258 1898.99,741.032 1899.72,738.062 1902.13,730.866 1905.19,723.67 1908.9,716.474 1913.25,709.278 1918.25,702.082 1918.43,701.861 \n",
       "  1923.77,694.886 1929.9,687.69 1936.66,680.494 1937.86,679.326 1943.9,673.298 1951.72,666.102 1957.29,661.34 1960.08,658.906 1968.9,651.71 1976.73,645.727 \n",
       "  1978.28,644.514 1988.05,637.318 1996.16,631.684 1998.36,630.122 2009.04,622.926 2015.59,618.736 2020.19,615.73 2031.74,608.534 2035.02,606.58 2043.65,601.338 \n",
       "  2054.46,595.055 2056,594.142 2068.64,586.946 2073.89,584.077 2081.65,579.749 2093.32,573.485 2095.02,572.553 2108.67,565.357 2112.76,563.279 \n",
       "  \"/>\n",
       "<polyline clip-path=\"url(#clip552)\" style=\"stroke:#550f6d; stroke-width:4; stroke-opacity:1; fill:none\" points=\"\n",
       "  2112.76,1438.65 2094.11,1436.08 2093.32,1435.97 2073.89,1433.32 2054.46,1430.72 2040.34,1428.88 2035.02,1428.18 2015.59,1425.67 1996.16,1423.22 1983.68,1421.68 \n",
       "  1976.73,1420.82 1957.29,1418.46 1937.86,1416.15 1923.44,1414.49 1918.43,1413.9 1898.99,1411.69 1879.56,1409.54 1860.13,1407.44 1858.67,1407.29 1840.7,1405.39 \n",
       "  1821.26,1403.39 1801.83,1401.45 1787.8,1400.1 1782.4,1399.57 1762.96,1397.73 1743.53,1395.95 1724.1,1394.23 1708.53,1392.9 1704.67,1392.57 1685.23,1390.95 \n",
       "  1665.8,1389.39 1646.37,1387.9 1626.93,1386.47 1616.12,1385.7 1607.5,1385.09 1588.07,1383.76 1568.64,1382.5 1549.2,1381.3 1529.77,1380.16 1510.34,1379.08 \n",
       "  1499.3,1378.51 1490.9,1378.06 1471.47,1377.1 1452.04,1376.2 1432.61,1375.36 1413.17,1374.59 1393.74,1373.88 1374.31,1373.23 1354.87,1372.65 1335.44,1372.13 \n",
       "  1316.01,1371.67 1298.06,1371.31 1296.58,1371.28 1277.14,1370.95 1257.71,1370.68 1238.28,1370.47 1218.84,1370.33 1199.41,1370.26 1179.98,1370.25 1160.55,1370.3 \n",
       "  1141.11,1370.42 1121.68,1370.6 1102.25,1370.85 1082.81,1371.16 1075.13,1371.31 1063.38,1371.54 1043.95,1371.97 1024.51,1372.48 1005.08,1373.04 985.649,1373.67 \n",
       "  966.216,1374.36 946.783,1375.12 927.351,1375.95 907.918,1376.83 888.485,1377.78 874.667,1378.51 869.052,1378.8 849.619,1379.87 830.186,1381 810.753,1382.19 \n",
       "  791.32,1383.45 771.888,1384.78 758.941,1385.7 752.455,1386.16 733.022,1387.6 713.589,1389.1 694.156,1390.66 674.723,1392.28 667.644,1392.9 655.29,1393.96 \n",
       "  635.858,1395.69 616.425,1397.49 596.992,1399.35 589.438,1400.1 577.559,1401.26 558.126,1403.22 538.693,1405.24 519.626,1407.29 519.26,1407.33 499.827,1409.46 \n",
       "  480.395,1411.64 460.962,1413.89 455.947,1414.49 441.529,1416.18 422.096,1418.53 402.663,1420.94 396.782,1421.68 383.23,1423.39 363.797,1425.89 344.364,1428.45 \n",
       "  341.191,1428.88 324.932,1431.05 305.499,1433.71 288.537,1436.08 286.066,1436.42 266.633,1439.16 247.2,1441.97 238.352,1443.27 227.767,1444.82 208.334,1447.71 \n",
       "  190.168,1450.47 188.901,1450.66 169.469,1453.64 \n",
       "  \"/>\n",
       "<polyline clip-path=\"url(#clip552)\" style=\"stroke:#090621; stroke-width:4; stroke-opacity:1; fill:none\" points=\"\n",
       "  583.655,1486.45 596.992,1485.28 616.425,1483.63 635.858,1482.03 655.29,1480.49 671.46,1479.25 674.723,1479 694.156,1477.55 713.589,1476.16 733.022,1474.83 \n",
       "  752.455,1473.55 771.888,1472.33 776.447,1472.06 791.32,1471.15 810.753,1470.03 830.186,1468.96 849.619,1467.95 869.052,1467 888.485,1466.1 907.918,1465.25 \n",
       "  917.625,1464.86 927.351,1464.46 946.783,1463.72 966.216,1463.04 985.649,1462.41 1005.08,1461.84 1024.51,1461.33 1043.95,1460.87 1063.38,1460.47 1082.81,1460.12 \n",
       "  1102.25,1459.83 1121.68,1459.6 1141.11,1459.42 1160.55,1459.3 1179.98,1459.23 1199.41,1459.22 1218.84,1459.27 1238.28,1459.37 1257.71,1459.53 1277.14,1459.74 \n",
       "  1296.58,1460.01 1316.01,1460.34 1335.44,1460.72 1354.87,1461.16 1374.31,1461.65 1393.74,1462.2 1413.17,1462.8 1432.61,1463.46 1452.04,1464.17 1469.43,1464.86 \n",
       "  1471.47,1464.94 1490.9,1465.76 1510.34,1466.63 1529.77,1467.55 1549.2,1468.53 1568.64,1469.57 1588.07,1470.66 1607.5,1471.8 1611.58,1472.06 1626.93,1472.99 \n",
       "  1646.37,1474.23 1665.8,1475.53 1685.23,1476.88 1704.67,1478.28 1717.62,1479.25 1724.1,1479.73 1743.53,1481.23 1762.96,1482.78 1782.4,1484.38 1801.83,1486.03 \n",
       "  1806.54,1486.45 \n",
       "  \"/>\n",
       "<defs>\n",
       "  <clipPath id=\"clip553\">\n",
       "    <rect x=\"2160\" y=\"47\" width=\"73\" height=\"1440\"/>\n",
       "  </clipPath>\n",
       "</defs>\n",
       "<polyline clip-path=\"url(#clip553)\" style=\"stroke:#0a0723; stroke-width:4; stroke-opacity:1; fill:none\" points=\"\n",
       "  2160.76,1396.5 2232.76,1396.5 \n",
       "  \"/>\n",
       "<polyline clip-path=\"url(#clip553)\" style=\"stroke:#200c4a; stroke-width:4; stroke-opacity:1; fill:none\" points=\"\n",
       "  2160.76,1306.55 2232.76,1306.55 \n",
       "  \"/>\n",
       "<polyline clip-path=\"url(#clip553)\" style=\"stroke:#3c0965; stroke-width:4; stroke-opacity:1; fill:none\" points=\"\n",
       "  2160.76,1216.6 2232.76,1216.6 \n",
       "  \"/>\n",
       "<polyline clip-path=\"url(#clip553)\" style=\"stroke:#570f6d; stroke-width:4; stroke-opacity:1; fill:none\" points=\"\n",
       "  2160.76,1126.65 2232.76,1126.65 \n",
       "  \"/>\n",
       "<polyline clip-path=\"url(#clip553)\" style=\"stroke:#70196e; stroke-width:4; stroke-opacity:1; fill:none\" points=\"\n",
       "  2160.76,1036.7 2232.76,1036.7 \n",
       "  \"/>\n",
       "<polyline clip-path=\"url(#clip553)\" style=\"stroke:#892269; stroke-width:4; stroke-opacity:1; fill:none\" points=\"\n",
       "  2160.76,946.746 2232.76,946.746 \n",
       "  \"/>\n",
       "<polyline clip-path=\"url(#clip553)\" style=\"stroke:#a32b61; stroke-width:4; stroke-opacity:1; fill:none\" points=\"\n",
       "  2160.76,856.796 2232.76,856.796 \n",
       "  \"/>\n",
       "<polyline clip-path=\"url(#clip553)\" style=\"stroke:#bb3754; stroke-width:4; stroke-opacity:1; fill:none\" points=\"\n",
       "  2160.76,766.846 2232.76,766.846 \n",
       "  \"/>\n",
       "<polyline clip-path=\"url(#clip553)\" style=\"stroke:#d04544; stroke-width:4; stroke-opacity:1; fill:none\" points=\"\n",
       "  2160.76,676.896 2232.76,676.896 \n",
       "  \"/>\n",
       "<polyline clip-path=\"url(#clip553)\" style=\"stroke:#e35832; stroke-width:4; stroke-opacity:1; fill:none\" points=\"\n",
       "  2160.76,586.946 2232.76,586.946 \n",
       "  \"/>\n",
       "<polyline clip-path=\"url(#clip553)\" style=\"stroke:#f0701e; stroke-width:4; stroke-opacity:1; fill:none\" points=\"\n",
       "  2160.76,496.995 2232.76,496.995 \n",
       "  \"/>\n",
       "<polyline clip-path=\"url(#clip553)\" style=\"stroke:#f98c09; stroke-width:4; stroke-opacity:1; fill:none\" points=\"\n",
       "  2160.76,407.045 2232.76,407.045 \n",
       "  \"/>\n",
       "<polyline clip-path=\"url(#clip553)\" style=\"stroke:#fbaa0e; stroke-width:4; stroke-opacity:1; fill:none\" points=\"\n",
       "  2160.76,317.095 2232.76,317.095 \n",
       "  \"/>\n",
       "<polyline clip-path=\"url(#clip553)\" style=\"stroke:#f8c931; stroke-width:4; stroke-opacity:1; fill:none\" points=\"\n",
       "  2160.76,227.145 2232.76,227.145 \n",
       "  \"/>\n",
       "<polyline clip-path=\"url(#clip553)\" style=\"stroke:#f1e864; stroke-width:4; stroke-opacity:1; fill:none\" points=\"\n",
       "  2160.76,137.194 2232.76,137.194 \n",
       "  \"/>\n",
       "<path clip-path=\"url(#clip550)\" d=\"M 0 0 M2268.76 1482.57 L2298.43 1482.57 L2298.43 1486.51 L2268.76 1486.51 L2268.76 1482.57 Z\" fill=\"#000000\" fill-rule=\"evenodd\" fill-opacity=\"1\" /><path clip-path=\"url(#clip550)\" d=\"M 0 0 M2316.35 1468.92 L2304.54 1487.37 L2316.35 1487.37 L2316.35 1468.92 M2315.12 1464.84 L2321 1464.84 L2321 1487.37 L2325.93 1487.37 L2325.93 1491.25 L2321 1491.25 L2321 1499.4 L2316.35 1499.4 L2316.35 1491.25 L2300.75 1491.25 L2300.75 1486.74 L2315.12 1464.84 Z\" fill=\"#000000\" fill-rule=\"evenodd\" fill-opacity=\"1\" /><path clip-path=\"url(#clip550)\" d=\"M 0 0 M2341 1467.92 Q2337.39 1467.92 2335.56 1471.49 Q2333.76 1475.03 2333.76 1482.16 Q2333.76 1489.26 2335.56 1492.83 Q2337.39 1496.37 2341 1496.37 Q2344.64 1496.37 2346.44 1492.83 Q2348.27 1489.26 2348.27 1482.16 Q2348.27 1475.03 2346.44 1471.49 Q2344.64 1467.92 2341 1467.92 M2341 1464.22 Q2346.81 1464.22 2349.87 1468.82 Q2352.95 1473.41 2352.95 1482.16 Q2352.95 1490.88 2349.87 1495.49 Q2346.81 1500.07 2341 1500.07 Q2335.19 1500.07 2332.11 1495.49 Q2329.06 1490.88 2329.06 1482.16 Q2329.06 1473.41 2332.11 1468.82 Q2335.19 1464.22 2341 1464.22 Z\" fill=\"#000000\" fill-rule=\"evenodd\" fill-opacity=\"1\" /><path clip-path=\"url(#clip550)\" d=\"M 0 0 M2368.01 1467.92 Q2364.4 1467.92 2362.57 1471.49 Q2360.77 1475.03 2360.77 1482.16 Q2360.77 1489.26 2362.57 1492.83 Q2364.4 1496.37 2368.01 1496.37 Q2371.65 1496.37 2373.45 1492.83 Q2375.28 1489.26 2375.28 1482.16 Q2375.28 1475.03 2373.45 1471.49 Q2371.65 1467.92 2368.01 1467.92 M2368.01 1464.22 Q2373.82 1464.22 2376.88 1468.82 Q2379.96 1473.41 2379.96 1482.16 Q2379.96 1490.88 2376.88 1495.49 Q2373.82 1500.07 2368.01 1500.07 Q2362.2 1500.07 2359.13 1495.49 Q2356.07 1490.88 2356.07 1482.16 Q2356.07 1473.41 2359.13 1468.82 Q2362.2 1464.22 2368.01 1464.22 Z\" fill=\"#000000\" fill-rule=\"evenodd\" fill-opacity=\"1\" /><path clip-path=\"url(#clip550)\" d=\"M 0 0 M2268.76 1331.17 L2298.43 1331.17 L2298.43 1335.1 L2268.76 1335.1 L2268.76 1331.17 Z\" fill=\"#000000\" fill-rule=\"evenodd\" fill-opacity=\"1\" /><path clip-path=\"url(#clip550)\" d=\"M 0 0 M2317.67 1329.36 Q2321.02 1330.08 2322.9 1332.35 Q2324.8 1334.62 2324.8 1337.95 Q2324.8 1343.06 2321.28 1345.86 Q2317.76 1348.67 2311.28 1348.67 Q2309.1 1348.67 2306.79 1348.23 Q2304.5 1347.81 2302.04 1346.95 L2302.04 1342.44 Q2303.99 1343.57 2306.3 1344.15 Q2308.62 1344.73 2311.14 1344.73 Q2315.54 1344.73 2317.83 1342.99 Q2320.14 1341.26 2320.14 1337.95 Q2320.14 1334.89 2317.99 1333.18 Q2315.86 1331.44 2312.04 1331.44 L2308.01 1331.44 L2308.01 1327.6 L2312.23 1327.6 Q2315.68 1327.6 2317.51 1326.24 Q2319.33 1324.85 2319.33 1322.25 Q2319.33 1319.59 2317.44 1318.18 Q2315.56 1316.74 2312.04 1316.74 Q2310.12 1316.74 2307.92 1317.16 Q2305.72 1317.58 2303.08 1318.46 L2303.08 1314.29 Q2305.75 1313.55 2308.06 1313.18 Q2310.4 1312.81 2312.46 1312.81 Q2317.78 1312.81 2320.89 1315.24 Q2323.99 1317.65 2323.99 1321.77 Q2323.99 1324.64 2322.34 1326.63 Q2320.7 1328.6 2317.67 1329.36 Z\" fill=\"#000000\" fill-rule=\"evenodd\" fill-opacity=\"1\" /><path clip-path=\"url(#clip550)\" d=\"M 0 0 M2329.91 1313.43 L2348.27 1313.43 L2348.27 1317.37 L2334.2 1317.37 L2334.2 1325.84 Q2335.21 1325.49 2336.23 1325.33 Q2337.25 1325.15 2338.27 1325.15 Q2344.06 1325.15 2347.44 1328.32 Q2350.82 1331.49 2350.82 1336.91 Q2350.82 1342.49 2347.34 1345.59 Q2343.87 1348.67 2337.55 1348.67 Q2335.38 1348.67 2333.11 1348.3 Q2330.86 1347.93 2328.45 1347.18 L2328.45 1342.49 Q2330.54 1343.62 2332.76 1344.18 Q2334.98 1344.73 2337.46 1344.73 Q2341.46 1344.73 2343.8 1342.62 Q2346.14 1340.52 2346.14 1336.91 Q2346.14 1333.3 2343.8 1331.19 Q2341.46 1329.08 2337.46 1329.08 Q2335.58 1329.08 2333.71 1329.5 Q2331.86 1329.92 2329.91 1330.8 L2329.91 1313.43 Z\" fill=\"#000000\" fill-rule=\"evenodd\" fill-opacity=\"1\" /><path clip-path=\"url(#clip550)\" d=\"M 0 0 M2365.89 1316.51 Q2362.27 1316.51 2360.45 1320.08 Q2358.64 1323.62 2358.64 1330.75 Q2358.64 1337.86 2360.45 1341.42 Q2362.27 1344.96 2365.89 1344.96 Q2369.52 1344.96 2371.32 1341.42 Q2373.15 1337.86 2373.15 1330.75 Q2373.15 1323.62 2371.32 1320.08 Q2369.52 1316.51 2365.89 1316.51 M2365.89 1312.81 Q2371.7 1312.81 2374.75 1317.42 Q2377.83 1322 2377.83 1330.75 Q2377.83 1339.48 2374.75 1344.08 Q2371.7 1348.67 2365.89 1348.67 Q2360.07 1348.67 2357 1344.08 Q2353.94 1339.48 2353.94 1330.75 Q2353.94 1322 2357 1317.42 Q2360.07 1312.81 2365.89 1312.81 Z\" fill=\"#000000\" fill-rule=\"evenodd\" fill-opacity=\"1\" /><path clip-path=\"url(#clip550)\" d=\"M 0 0 M2268.76 1179.76 L2298.43 1179.76 L2298.43 1183.69 L2268.76 1183.69 L2268.76 1179.76 Z\" fill=\"#000000\" fill-rule=\"evenodd\" fill-opacity=\"1\" /><path clip-path=\"url(#clip550)\" d=\"M 0 0 M2317.67 1177.95 Q2321.02 1178.67 2322.9 1180.94 Q2324.8 1183.21 2324.8 1186.54 Q2324.8 1191.66 2321.28 1194.46 Q2317.76 1197.26 2311.28 1197.26 Q2309.1 1197.26 2306.79 1196.82 Q2304.5 1196.4 2302.04 1195.54 L2302.04 1191.03 Q2303.99 1192.17 2306.3 1192.74 Q2308.62 1193.32 2311.14 1193.32 Q2315.54 1193.32 2317.83 1191.59 Q2320.14 1189.85 2320.14 1186.54 Q2320.14 1183.48 2317.99 1181.77 Q2315.86 1180.04 2312.04 1180.04 L2308.01 1180.04 L2308.01 1176.19 L2312.23 1176.19 Q2315.68 1176.19 2317.51 1174.83 Q2319.33 1173.44 2319.33 1170.85 Q2319.33 1168.18 2317.44 1166.77 Q2315.56 1165.34 2312.04 1165.34 Q2310.12 1165.34 2307.92 1165.75 Q2305.72 1166.17 2303.08 1167.05 L2303.08 1162.88 Q2305.75 1162.14 2308.06 1161.77 Q2310.4 1161.4 2312.46 1161.4 Q2317.78 1161.4 2320.89 1163.83 Q2323.99 1166.24 2323.99 1170.36 Q2323.99 1173.23 2322.34 1175.22 Q2320.7 1177.19 2317.67 1177.95 Z\" fill=\"#000000\" fill-rule=\"evenodd\" fill-opacity=\"1\" /><path clip-path=\"url(#clip550)\" d=\"M 0 0 M2339.87 1165.11 Q2336.26 1165.11 2334.43 1168.67 Q2332.62 1172.21 2332.62 1179.34 Q2332.62 1186.45 2334.43 1190.01 Q2336.26 1193.55 2339.87 1193.55 Q2343.5 1193.55 2345.31 1190.01 Q2347.14 1186.45 2347.14 1179.34 Q2347.14 1172.21 2345.31 1168.67 Q2343.5 1165.11 2339.87 1165.11 M2339.87 1161.4 Q2345.68 1161.4 2348.73 1166.01 Q2351.81 1170.59 2351.81 1179.34 Q2351.81 1188.07 2348.73 1192.67 Q2345.68 1197.26 2339.87 1197.26 Q2334.06 1197.26 2330.98 1192.67 Q2327.92 1188.07 2327.92 1179.34 Q2327.92 1170.59 2330.98 1166.01 Q2334.06 1161.4 2339.87 1161.4 Z\" fill=\"#000000\" fill-rule=\"evenodd\" fill-opacity=\"1\" /><path clip-path=\"url(#clip550)\" d=\"M 0 0 M2366.88 1165.11 Q2363.27 1165.11 2361.44 1168.67 Q2359.64 1172.21 2359.64 1179.34 Q2359.64 1186.45 2361.44 1190.01 Q2363.27 1193.55 2366.88 1193.55 Q2370.51 1193.55 2372.32 1190.01 Q2374.15 1186.45 2374.15 1179.34 Q2374.15 1172.21 2372.32 1168.67 Q2370.51 1165.11 2366.88 1165.11 M2366.88 1161.4 Q2372.69 1161.4 2375.75 1166.01 Q2378.82 1170.59 2378.82 1179.34 Q2378.82 1188.07 2375.75 1192.67 Q2372.69 1197.26 2366.88 1197.26 Q2361.07 1197.26 2357.99 1192.67 Q2354.94 1188.07 2354.94 1179.34 Q2354.94 1170.59 2357.99 1166.01 Q2361.07 1161.4 2366.88 1161.4 Z\" fill=\"#000000\" fill-rule=\"evenodd\" fill-opacity=\"1\" /><path clip-path=\"url(#clip550)\" d=\"M 0 0 M2268.76 1028.35 L2298.43 1028.35 L2298.43 1032.29 L2268.76 1032.29 L2268.76 1028.35 Z\" fill=\"#000000\" fill-rule=\"evenodd\" fill-opacity=\"1\" /><path clip-path=\"url(#clip550)\" d=\"M 0 0 M2307.53 1041.24 L2323.85 1041.24 L2323.85 1045.18 L2301.9 1045.18 L2301.9 1041.24 Q2304.57 1038.49 2309.15 1033.86 Q2313.76 1029.21 2314.94 1027.86 Q2317.18 1025.34 2318.06 1023.6 Q2318.96 1021.85 2318.96 1020.16 Q2318.96 1017.4 2317.02 1015.66 Q2315.1 1013.93 2312 1013.93 Q2309.8 1013.93 2307.34 1014.69 Q2304.91 1015.46 2302.14 1017.01 L2302.14 1012.29 Q2304.96 1011.15 2307.41 1010.57 Q2309.87 1009.99 2311.9 1009.99 Q2317.27 1009.99 2320.47 1012.68 Q2323.66 1015.36 2323.66 1019.85 Q2323.66 1021.98 2322.85 1023.91 Q2322.07 1025.8 2319.96 1028.4 Q2319.38 1029.07 2316.28 1032.29 Q2313.18 1035.48 2307.53 1041.24 Z\" fill=\"#000000\" fill-rule=\"evenodd\" fill-opacity=\"1\" /><path clip-path=\"url(#clip550)\" d=\"M 0 0 M2328.96 1010.62 L2347.32 1010.62 L2347.32 1014.55 L2333.25 1014.55 L2333.25 1023.03 Q2334.26 1022.68 2335.28 1022.52 Q2336.3 1022.33 2337.32 1022.33 Q2343.11 1022.33 2346.49 1025.5 Q2349.87 1028.67 2349.87 1034.09 Q2349.87 1039.67 2346.39 1042.77 Q2342.92 1045.85 2336.6 1045.85 Q2334.43 1045.85 2332.16 1045.48 Q2329.91 1045.11 2327.51 1044.37 L2327.51 1039.67 Q2329.59 1040.8 2331.81 1041.36 Q2334.03 1041.91 2336.51 1041.91 Q2340.51 1041.91 2342.85 1039.81 Q2345.19 1037.7 2345.19 1034.09 Q2345.19 1030.48 2342.85 1028.37 Q2340.51 1026.27 2336.51 1026.27 Q2334.64 1026.27 2332.76 1026.68 Q2330.91 1027.1 2328.96 1027.98 L2328.96 1010.62 Z\" fill=\"#000000\" fill-rule=\"evenodd\" fill-opacity=\"1\" /><path clip-path=\"url(#clip550)\" d=\"M 0 0 M2364.94 1013.7 Q2361.32 1013.7 2359.5 1017.26 Q2357.69 1020.8 2357.69 1027.93 Q2357.69 1035.04 2359.5 1038.6 Q2361.32 1042.15 2364.94 1042.15 Q2368.57 1042.15 2370.38 1038.6 Q2372.2 1035.04 2372.2 1027.93 Q2372.2 1020.8 2370.38 1017.26 Q2368.57 1013.7 2364.94 1013.7 M2364.94 1009.99 Q2370.75 1009.99 2373.8 1014.6 Q2376.88 1019.18 2376.88 1027.93 Q2376.88 1036.66 2373.8 1041.27 Q2370.75 1045.85 2364.94 1045.85 Q2359.13 1045.85 2356.05 1041.27 Q2352.99 1036.66 2352.99 1027.93 Q2352.99 1019.18 2356.05 1014.6 Q2359.13 1009.99 2364.94 1009.99 Z\" fill=\"#000000\" fill-rule=\"evenodd\" fill-opacity=\"1\" /><path clip-path=\"url(#clip550)\" d=\"M 0 0 M2268.76 876.942 L2298.43 876.942 L2298.43 880.877 L2268.76 880.877 L2268.76 876.942 Z\" fill=\"#000000\" fill-rule=\"evenodd\" fill-opacity=\"1\" /><path clip-path=\"url(#clip550)\" d=\"M 0 0 M2307.53 889.835 L2323.85 889.835 L2323.85 893.771 L2301.9 893.771 L2301.9 889.835 Q2304.57 887.081 2309.15 882.451 Q2313.76 877.798 2314.94 876.456 Q2317.18 873.933 2318.06 872.197 Q2318.96 870.437 2318.96 868.748 Q2318.96 865.993 2317.02 864.257 Q2315.1 862.521 2312 862.521 Q2309.8 862.521 2307.34 863.285 Q2304.91 864.048 2302.14 865.599 L2302.14 860.877 Q2304.96 859.743 2307.41 859.164 Q2309.87 858.586 2311.9 858.586 Q2317.27 858.586 2320.47 861.271 Q2323.66 863.956 2323.66 868.447 Q2323.66 870.576 2322.85 872.498 Q2322.07 874.396 2319.96 876.988 Q2319.38 877.66 2316.28 880.877 Q2313.18 884.072 2307.53 889.835 Z\" fill=\"#000000\" fill-rule=\"evenodd\" fill-opacity=\"1\" /><path clip-path=\"url(#clip550)\" d=\"M 0 0 M2338.92 862.289 Q2335.31 862.289 2333.48 865.854 Q2331.67 869.396 2331.67 876.525 Q2331.67 883.632 2333.48 887.197 Q2335.31 890.738 2338.92 890.738 Q2342.55 890.738 2344.36 887.197 Q2346.19 883.632 2346.19 876.525 Q2346.19 869.396 2344.36 865.854 Q2342.55 862.289 2338.92 862.289 M2338.92 858.586 Q2344.73 858.586 2347.78 863.192 Q2350.86 867.775 2350.86 876.525 Q2350.86 885.252 2347.78 889.859 Q2344.73 894.442 2338.92 894.442 Q2333.11 894.442 2330.03 889.859 Q2326.97 885.252 2326.97 876.525 Q2326.97 867.775 2330.03 863.192 Q2333.11 858.586 2338.92 858.586 Z\" fill=\"#000000\" fill-rule=\"evenodd\" fill-opacity=\"1\" /><path clip-path=\"url(#clip550)\" d=\"M 0 0 M2365.93 862.289 Q2362.32 862.289 2360.49 865.854 Q2358.69 869.396 2358.69 876.525 Q2358.69 883.632 2360.49 887.197 Q2362.32 890.738 2365.93 890.738 Q2369.57 890.738 2371.37 887.197 Q2373.2 883.632 2373.2 876.525 Q2373.2 869.396 2371.37 865.854 Q2369.57 862.289 2365.93 862.289 M2365.93 858.586 Q2371.74 858.586 2374.8 863.192 Q2377.88 867.775 2377.88 876.525 Q2377.88 885.252 2374.8 889.859 Q2371.74 894.442 2365.93 894.442 Q2360.12 894.442 2357.04 889.859 Q2353.99 885.252 2353.99 876.525 Q2353.99 867.775 2357.04 863.192 Q2360.12 858.586 2365.93 858.586 Z\" fill=\"#000000\" fill-rule=\"evenodd\" fill-opacity=\"1\" /><path clip-path=\"url(#clip550)\" d=\"M 0 0 M2268.76 725.534 L2298.43 725.534 L2298.43 729.469 L2268.76 729.469 L2268.76 725.534 Z\" fill=\"#000000\" fill-rule=\"evenodd\" fill-opacity=\"1\" /><path clip-path=\"url(#clip550)\" d=\"M 0 0 M2304.31 738.427 L2311.95 738.427 L2311.95 712.062 L2303.64 713.728 L2303.64 709.469 L2311.9 707.803 L2316.58 707.803 L2316.58 738.427 L2324.22 738.427 L2324.22 742.363 L2304.31 742.363 L2304.31 738.427 Z\" fill=\"#000000\" fill-rule=\"evenodd\" fill-opacity=\"1\" /><path clip-path=\"url(#clip550)\" d=\"M 0 0 M2329.33 707.803 L2347.69 707.803 L2347.69 711.738 L2333.62 711.738 L2333.62 720.21 Q2334.64 719.863 2335.65 719.701 Q2336.67 719.515 2337.69 719.515 Q2343.48 719.515 2346.86 722.687 Q2350.24 725.858 2350.24 731.275 Q2350.24 736.853 2346.76 739.955 Q2343.29 743.034 2336.97 743.034 Q2334.8 743.034 2332.53 742.663 Q2330.28 742.293 2327.88 741.552 L2327.88 736.853 Q2329.96 737.988 2332.18 738.543 Q2334.4 739.099 2336.88 739.099 Q2340.89 739.099 2343.22 736.992 Q2345.56 734.886 2345.56 731.275 Q2345.56 727.664 2343.22 725.557 Q2340.89 723.451 2336.88 723.451 Q2335.01 723.451 2333.13 723.867 Q2331.28 724.284 2329.33 725.164 L2329.33 707.803 Z\" fill=\"#000000\" fill-rule=\"evenodd\" fill-opacity=\"1\" /><path clip-path=\"url(#clip550)\" d=\"M 0 0 M2365.31 710.881 Q2361.7 710.881 2359.87 714.446 Q2358.06 717.988 2358.06 725.117 Q2358.06 732.224 2359.87 735.789 Q2361.7 739.33 2365.31 739.33 Q2368.94 739.33 2370.75 735.789 Q2372.57 732.224 2372.57 725.117 Q2372.57 717.988 2370.75 714.446 Q2368.94 710.881 2365.31 710.881 M2365.31 707.178 Q2371.12 707.178 2374.17 711.784 Q2377.25 716.367 2377.25 725.117 Q2377.25 733.844 2374.17 738.451 Q2371.12 743.034 2365.31 743.034 Q2359.5 743.034 2356.42 738.451 Q2353.36 733.844 2353.36 725.117 Q2353.36 716.367 2356.42 711.784 Q2359.5 707.178 2365.31 707.178 Z\" fill=\"#000000\" fill-rule=\"evenodd\" fill-opacity=\"1\" /><path clip-path=\"url(#clip550)\" d=\"M 0 0 M2268.76 574.126 L2298.43 574.126 L2298.43 578.061 L2268.76 578.061 L2268.76 574.126 Z\" fill=\"#000000\" fill-rule=\"evenodd\" fill-opacity=\"1\" /><path clip-path=\"url(#clip550)\" d=\"M 0 0 M2304.31 587.019 L2311.95 587.019 L2311.95 560.654 L2303.64 562.32 L2303.64 558.061 L2311.9 556.395 L2316.58 556.395 L2316.58 587.019 L2324.22 587.019 L2324.22 590.955 L2304.31 590.955 L2304.31 587.019 Z\" fill=\"#000000\" fill-rule=\"evenodd\" fill-opacity=\"1\" /><path clip-path=\"url(#clip550)\" d=\"M 0 0 M2339.29 559.473 Q2335.68 559.473 2333.85 563.038 Q2332.04 566.58 2332.04 573.709 Q2332.04 580.816 2333.85 584.381 Q2335.68 587.922 2339.29 587.922 Q2342.92 587.922 2344.73 584.381 Q2346.56 580.816 2346.56 573.709 Q2346.56 566.58 2344.73 563.038 Q2342.92 559.473 2339.29 559.473 M2339.29 555.77 Q2345.1 555.77 2348.15 560.376 Q2351.23 564.959 2351.23 573.709 Q2351.23 582.436 2348.15 587.043 Q2345.1 591.626 2339.29 591.626 Q2333.48 591.626 2330.4 587.043 Q2327.34 582.436 2327.34 573.709 Q2327.34 564.959 2330.4 560.376 Q2333.48 555.77 2339.29 555.77 Z\" fill=\"#000000\" fill-rule=\"evenodd\" fill-opacity=\"1\" /><path clip-path=\"url(#clip550)\" d=\"M 0 0 M2366.3 559.473 Q2362.69 559.473 2360.86 563.038 Q2359.06 566.58 2359.06 573.709 Q2359.06 580.816 2360.86 584.381 Q2362.69 587.922 2366.3 587.922 Q2369.94 587.922 2371.74 584.381 Q2373.57 580.816 2373.57 573.709 Q2373.57 566.58 2371.74 563.038 Q2369.94 559.473 2366.3 559.473 M2366.3 555.77 Q2372.11 555.77 2375.17 560.376 Q2378.25 564.959 2378.25 573.709 Q2378.25 582.436 2375.17 587.043 Q2372.11 591.626 2366.3 591.626 Q2360.49 591.626 2357.41 587.043 Q2354.36 582.436 2354.36 573.709 Q2354.36 564.959 2357.41 560.376 Q2360.49 555.77 2366.3 555.77 Z\" fill=\"#000000\" fill-rule=\"evenodd\" fill-opacity=\"1\" /><path clip-path=\"url(#clip550)\" d=\"M 0 0 M2268.76 422.718 L2298.43 422.718 L2298.43 426.653 L2268.76 426.653 L2268.76 422.718 Z\" fill=\"#000000\" fill-rule=\"evenodd\" fill-opacity=\"1\" /><path clip-path=\"url(#clip550)\" d=\"M 0 0 M2303.55 404.987 L2321.9 404.987 L2321.9 408.922 L2307.83 408.922 L2307.83 417.394 Q2308.85 417.047 2309.87 416.885 Q2310.89 416.699 2311.9 416.699 Q2317.69 416.699 2321.07 419.871 Q2324.45 423.042 2324.45 428.459 Q2324.45 434.037 2320.98 437.139 Q2317.51 440.218 2311.19 440.218 Q2309.01 440.218 2306.74 439.847 Q2304.5 439.477 2302.09 438.736 L2302.09 434.037 Q2304.17 435.172 2306.39 435.727 Q2308.62 436.283 2311.09 436.283 Q2315.1 436.283 2317.44 434.176 Q2319.77 432.07 2319.77 428.459 Q2319.77 424.848 2317.44 422.741 Q2315.1 420.635 2311.09 420.635 Q2309.22 420.635 2307.34 421.051 Q2305.49 421.468 2303.55 422.348 L2303.55 404.987 Z\" fill=\"#000000\" fill-rule=\"evenodd\" fill-opacity=\"1\" /><path clip-path=\"url(#clip550)\" d=\"M 0 0 M2339.52 408.065 Q2335.91 408.065 2334.08 411.63 Q2332.27 415.172 2332.27 422.301 Q2332.27 429.408 2334.08 432.972 Q2335.91 436.514 2339.52 436.514 Q2343.15 436.514 2344.96 432.972 Q2346.79 429.408 2346.79 422.301 Q2346.79 415.172 2344.96 411.63 Q2343.15 408.065 2339.52 408.065 M2339.52 404.362 Q2345.33 404.362 2348.39 408.968 Q2351.46 413.551 2351.46 422.301 Q2351.46 431.028 2348.39 435.635 Q2345.33 440.218 2339.52 440.218 Q2333.71 440.218 2330.63 435.635 Q2327.58 431.028 2327.58 422.301 Q2327.58 413.551 2330.63 408.968 Q2333.71 404.362 2339.52 404.362 Z\" fill=\"#000000\" fill-rule=\"evenodd\" fill-opacity=\"1\" /><path clip-path=\"url(#clip550)\" d=\"M 0 0 M2280.7 256.657 Q2277.09 256.657 2275.26 260.222 Q2273.45 263.764 2273.45 270.893 Q2273.45 278 2275.26 281.564 Q2277.09 285.106 2280.7 285.106 Q2284.33 285.106 2286.14 281.564 Q2287.97 278 2287.97 270.893 Q2287.97 263.764 2286.14 260.222 Q2284.33 256.657 2280.7 256.657 M2280.7 252.954 Q2286.51 252.954 2289.57 257.56 Q2292.64 262.143 2292.64 270.893 Q2292.64 279.62 2289.57 284.227 Q2286.51 288.81 2280.7 288.81 Q2274.89 288.81 2271.81 284.227 Q2268.76 279.62 2268.76 270.893 Q2268.76 262.143 2271.81 257.56 Q2274.89 252.954 2280.7 252.954 Z\" fill=\"#000000\" fill-rule=\"evenodd\" fill-opacity=\"1\" /><path clip-path=\"url(#clip550)\" d=\"M 0 0 M2270.21 102.171 L2288.57 102.171 L2288.57 106.106 L2274.5 106.106 L2274.5 114.578 Q2275.52 114.231 2276.53 114.069 Q2277.55 113.883 2278.57 113.883 Q2284.36 113.883 2287.74 117.055 Q2291.12 120.226 2291.12 125.643 Q2291.12 131.221 2287.64 134.323 Q2284.17 137.402 2277.85 137.402 Q2275.68 137.402 2273.41 137.031 Q2271.16 136.661 2268.76 135.92 L2268.76 131.221 Q2270.84 132.356 2273.06 132.911 Q2275.28 133.467 2277.76 133.467 Q2281.77 133.467 2284.1 131.36 Q2286.44 129.254 2286.44 125.643 Q2286.44 122.032 2284.1 119.925 Q2281.77 117.819 2277.76 117.819 Q2275.89 117.819 2274.01 118.235 Q2272.16 118.652 2270.21 119.532 L2270.21 102.171 Z\" fill=\"#000000\" fill-rule=\"evenodd\" fill-opacity=\"1\" /><path clip-path=\"url(#clip550)\" d=\"M 0 0 M2306.19 105.249 Q2302.58 105.249 2300.75 108.814 Q2298.94 112.356 2298.94 119.485 Q2298.94 126.592 2300.75 130.156 Q2302.58 133.698 2306.19 133.698 Q2309.82 133.698 2311.63 130.156 Q2313.45 126.592 2313.45 119.485 Q2313.45 112.356 2311.63 108.814 Q2309.82 105.249 2306.19 105.249 M2306.19 101.546 Q2312 101.546 2315.05 106.152 Q2318.13 110.735 2318.13 119.485 Q2318.13 128.212 2315.05 132.819 Q2312 137.402 2306.19 137.402 Q2300.38 137.402 2297.3 132.819 Q2294.24 128.212 2294.24 119.485 Q2294.24 110.735 2297.3 106.152 Q2300.38 101.546 2306.19 101.546 Z\" fill=\"#000000\" fill-rule=\"evenodd\" fill-opacity=\"1\" /><polyline clip-path=\"url(#clip550)\" style=\"stroke:#000000; stroke-width:4; stroke-opacity:1; fill:none\" points=\"\n",
       "  2232.76,1486.45 2232.76,1485.75 2256.76,1485.75 2232.76,1485.75 2232.76,1334.34 2256.76,1334.34 2232.76,1334.34 2232.76,1182.94 2256.76,1182.94 2232.76,1182.94 \n",
       "  2232.76,1031.53 2256.76,1031.53 2232.76,1031.53 2232.76,880.119 2256.76,880.119 2232.76,880.119 2232.76,728.711 2256.76,728.711 2232.76,728.711 2232.76,577.303 \n",
       "  2256.76,577.303 2232.76,577.303 2232.76,425.895 2256.76,425.895 2232.76,425.895 2232.76,274.487 2256.76,274.487 2232.76,274.487 2232.76,123.079 2256.76,123.079 \n",
       "  2232.76,123.079 2232.76,47.2441 \n",
       "  \"/>\n",
       "</svg>\n"
      ]
     },
     "execution_count": 111,
     "metadata": {},
     "output_type": "execute_result"
    }
   ],
   "source": [
    "contour(-5:0.1:5, -10:0.1:10, (x, y) -> 3x^2-4y^2 + x*y/6)"
   ]
  },
  {
   "cell_type": "markdown",
   "metadata": {},
   "source": [
    "# Exercises\n",
    "\n",
    "## 1\n",
    "\n",
    "Write a function named `rightjustify` that takes a string named `s` as a parameter and prints the string with enough leading spaces so that the last letter of the string is in column 70 of the display.\n",
    "\n",
    "Use string concatenation and repetition. Also, Julia provides a built-in function called `length`. Check what it does!"
   ]
  },
  {
   "cell_type": "code",
   "execution_count": null,
   "metadata": {},
   "outputs": [],
   "source": [
    "function rightjustify()\n",
    "end"
   ]
  },
  {
   "cell_type": "markdown",
   "metadata": {},
   "source": [
    "## 2\n",
    "\n",
    "1. Write a function `printgrid` that draws a grid like the following:"
   ]
  },
  {
   "cell_type": "code",
   "execution_count": null,
   "metadata": {},
   "outputs": [],
   "source": [
    "+ - - - - + - - - - +\n",
    "|         |         |\n",
    "|         |         |\n",
    "|         |         |\n",
    "|         |         |\n",
    "+ - - - - + - - - - +\n",
    "|         |         |\n",
    "|         |         |\n",
    "|         |         |\n",
    "|         |         |\n",
    "+ - - - - + - - - - +"
   ]
  },
  {
   "cell_type": "markdown",
   "metadata": {},
   "source": [
    "2. Write a function that draws a similar grid with four rows and four columns.\n",
    "\n",
    "Tips:\n",
    "\n",
    "To print more than one value on a line, you can print a comma-separated sequence of values:\n",
    "\n",
    "`println(\"+\", \"-\")`\n",
    "\n",
    "The function `print` does not advance to the next line."
   ]
  },
  {
   "cell_type": "code",
   "execution_count": null,
   "metadata": {},
   "outputs": [],
   "source": [
    "function printgrid()\n",
    "end"
   ]
  },
  {
   "cell_type": "markdown",
   "metadata": {},
   "source": [
    "## 3\n",
    "\n",
    "The function `time` returns the current Greenwich Mean Time in seconds since \"the epoch\", which is an arbitrary time used as a reference point. On UNIX systems, the epoch is 1 January 1970.\n",
    "Write a script that reads the current time and converts it to a time of day in hours, minutes, and seconds, plus the number of days since the epoch."
   ]
  },
  {
   "cell_type": "code",
   "execution_count": null,
   "metadata": {},
   "outputs": [],
   "source": []
  },
  {
   "cell_type": "markdown",
   "metadata": {},
   "source": [
    "## 4\n",
    "\n",
    "Fermat’s Last Theorem says that there are no positive integers $a$, $b$, and $c$ such that\n",
    "\n",
    "$a^n + b^n = c^n$\n",
    "\n",
    "for any value of $n$ greater than 2.\n",
    "\n",
    "1. Write a function named `checkfermat` that takes four parameters ($a$, $b$, $c$ and $n$) and checks to see if Fermat’s theorem holds. If $n$ is greater than 2 and $a^n + b^n == c^n$ the program should print, \"Holy smokes, Fermat was wrong!\" Otherwise the program should print, \"No, that doesn’t work.\"\n",
    "\n",
    "2. Write a function that prompts the user to input values for $a$, $b$, $c$ and $n$, converts them to integers, and uses checkfermat to check whether they violate Fermat’s theorem. Tip: check the functions `readline` and `parse`\n",
    "\n",
    "3. Can you write the code so that the functions in 4.1 and 4.2 have the same name?"
   ]
  },
  {
   "cell_type": "code",
   "execution_count": null,
   "metadata": {},
   "outputs": [],
   "source": []
  }
 ],
 "metadata": {
  "kernelspec": {
   "display_name": "Julia 1.5.1",
   "language": "julia",
   "name": "julia-1.5"
  },
  "language_info": {
   "file_extension": ".jl",
   "mimetype": "application/julia",
   "name": "julia",
   "version": "1.5.1"
  }
 },
 "nbformat": 4,
 "nbformat_minor": 2
}
