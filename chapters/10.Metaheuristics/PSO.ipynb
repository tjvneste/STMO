{
 "cells": [
  {
   "cell_type": "code",
   "execution_count": 1,
   "metadata": {},
   "outputs": [],
   "source": [
    "using Plots"
   ]
  },
  {
   "cell_type": "markdown",
   "metadata": {},
   "source": [
    "# Description\n",
    "\n",
    "Particle Swarm Optimization (PSO) is a stochastic metaheuristic to solve non-convex continuous optimization problems. It based on the flocking behavior of birds and insects. PSO holds a list of 'particles', containing a position and a velocity in the design space. In every step, the velocity of each particle is updated according to\n",
    "- towards the particle's personal best design point;\n",
    "- towards the best design point found over all the groups.\n",
    "The particles' velocities are subsequently used to update their positions.\n",
    "\n",
    "Specifically, the position $\\mathbf{x}^{(i)}$ and velocity $\\mathbf{v}^{(i)}$ of the $i$-th particle are updated according to\n",
    "\n",
    "$$\n",
    "\\mathbf{x}^{(i)} := \\mathbf{x}^{(i)} + \\mathbf{v}^{(i)}\\,,\n",
    "$$\n",
    "\n",
    "$$\n",
    "\\mathbf{v}^{(i)} := w\\mathbf{w}^{(i)} +c_1r_1 (\\mathbf{x}^{(i)}_\\text{best}-\\mathbf{x}^{(i)}) +c_2r_2 (\\mathbf{x}_\\text{best}-\\mathbf{x}^{(i)})\\,,\n",
    "$$\n",
    "with $w$, $c_1$, $c_2$ three parameters dermining the behavior, $r_1$ and $r_2$ two random uniform numbers from the [0,1] interval and $\\mathbf{x}^{(i)}_\\text{best}$ the best design point of particle $i$ and $\\mathbf{x}_\\text{best}$ the current global best design point.\n",
    "\n",
    "Because all particles perform both a partly independent search and share information, PSO exhibits an emerging intelligent swarming behavior.\n",
    "\n",
    "# Implementation\n",
    "\n",
    "We will construct a new structure for particles containing their position, velocity, and best point."
   ]
  },
  {
   "cell_type": "code",
   "execution_count": null,
   "metadata": {},
   "outputs": [],
   "source": [
    "mutable struct Particle{T}\n",
    "    x::T\n",
    "    v::T\n",
    "    x_best::T\n",
    "end\n",
    "\n",
    "Particle(x) = Particle(x, zero(x), x)"
   ]
  },
  {
   "cell_type": "markdown",
   "metadata": {},
   "source": [
    "Note that we use parametric typing to infer the type of our design points automatically.\n",
    "\n",
    "A simple function can generate an intial population:"
   ]
  },
  {
   "cell_type": "code",
   "execution_count": null,
   "metadata": {},
   "outputs": [],
   "source": [
    "\"\"\"Generate an intiation population with `n_particles` randomly positioned between the given limits.\"\"\"\n",
    "init_population(n_particles, lims...) = [Particle([(u - l) * rand() + l for (l, u) in lims]) for i in 1:n_particles]"
   ]
  },
  {
   "cell_type": "markdown",
   "metadata": {},
   "source": [
    "Then we can move to the bulk of the code."
   ]
  },
  {
   "cell_type": "code",
   "execution_count": null,
   "metadata": {},
   "outputs": [],
   "source": [
    "\"\"\"\n",
    "    particle_swarm_optimization!(f, population, k_max;\n",
    "            w=1, c1=1, c2=1, tracker=nothing)\n",
    "\n",
    "Performs Particle Swarm Optimization to minimize a function `f`. Give an initial\n",
    "vector of particles (type `Particle`) and the `k_max`, the number of iterations.\n",
    "\n",
    "Optionally set hyperparameters `w`, `c1` and `c2` (default value of 1).\n",
    "\"\"\"\n",
    "function particle_swarm_optimization!(f, population::Vector{Particle}, k_max;\n",
    "        w=1, c1=1, c2=1, tracker=nothing)\n",
    "    # find best point\n",
    "    y_best, x_best = minimum((((f(part.x_best), part.x_best)) for part in population))\n",
    "    for k in 1:k_max\n",
    "        # update population\n",
    "        for particle in population\n",
    "            # For you to complete\n",
    "        end\n",
    "        # this allows us to keep track of things if we want so.\n",
    "        tracker isa Nothing || tracker(population)\n",
    "    end\n",
    "    return y_best, x_best\n",
    "end"
   ]
  },
  {
   "cell_type": "markdown",
   "metadata": {},
   "source": [
    "# Illustration\n",
    "\n",
    "We will illustrate it on the Ackley function."
   ]
  },
  {
   "cell_type": "code",
   "execution_count": null,
   "metadata": {},
   "outputs": [],
   "source": [
    "using STMO.TestFuns\n",
    "\n",
    "fun = TestFuns.ackley\n",
    "\n",
    "x1lims = (-10, 10)\n",
    "x2lims = (-10, 10)\n",
    "\n",
    "pobj = heatmap(-10:0.01:10, -10:0.01:10,\n",
    "                fun, color=:speed)"
   ]
  },
  {
   "cell_type": "markdown",
   "metadata": {},
   "source": [
    "We initialize a population."
   ]
  },
  {
   "cell_type": "code",
   "execution_count": null,
   "metadata": {},
   "outputs": [],
   "source": [
    "population = init_population(50, x1lims, x2lims)"
   ]
  },
  {
   "cell_type": "markdown",
   "metadata": {},
   "source": [
    "Adding the points is easy!"
   ]
  },
  {
   "cell_type": "code",
   "execution_count": null,
   "metadata": {},
   "outputs": [],
   "source": [
    "pobj = heatmap(-10:0.01:10, -10:0.01:10,\n",
    "                fun, color=:speed)\n",
    "\n",
    "for particle in population\n",
    "    x = particle.x\n",
    "    scatter!([x[1]], [x[2]], color=:orange, label=\"\",\n",
    "            markersize=2)\n",
    "end\n",
    "pobj"
   ]
  },
  {
   "cell_type": "markdown",
   "metadata": {},
   "source": [
    "**Assignments**:\n",
    "1. Complete the `particle_swarm_optimization!` code.\n",
    "2. Minimize the `ackley` function (or a different one). What are the effects of the hyperparameters?\n",
    "3. (optional) Make an animation of the swarming behavior of the particles. See the [documentation](https://docs.juliaplots.org/latest/animations/) on how to do this. HINT: you might find it useful to run `particle_swarm_optimization!` for a single iteration `k_max` times."
   ]
  }
 ],
 "metadata": {
  "kernelspec": {
   "display_name": "Julia 1.5.2",
   "language": "julia",
   "name": "julia-1.5"
  },
  "language_info": {
   "file_extension": ".jl",
   "mimetype": "application/julia",
   "name": "julia",
   "version": "1.5.2"
  }
 },
 "nbformat": 4,
 "nbformat_minor": 4
}
